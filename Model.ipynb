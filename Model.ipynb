{
  "nbformat": 4,
  "nbformat_minor": 0,
  "metadata": {
    "colab": {
      "name": "Model.ipynb",
      "provenance": [],
      "collapsed_sections": []
    },
    "kernelspec": {
      "name": "python3",
      "display_name": "Python 3"
    },
    "language_info": {
      "name": "python"
    },
    "accelerator": "GPU"
  },
  "cells": [
    {
      "cell_type": "code",
      "metadata": {
        "id": "iwv_EIX1JMkP"
      },
      "source": [
        "import torch, torchvision, PIL, numpy as np\n",
        "import pathlib\n",
        "import matplotlib.pyplot as plt\n",
        "import matplotlib.patches as patches\n",
        "from tqdm.auto import tqdm\n",
        "import pandas as pd\n",
        "from google.colab import drive\n",
        "import shutil\n",
        "import os"
      ],
      "execution_count": 1,
      "outputs": []
    },
    {
      "cell_type": "markdown",
      "metadata": {
        "id": "Ht31f8xWJhsk"
      },
      "source": [
        "Get images and data. Relevant files are found in the respository except the images, which are found here: https://drive.google.com/file/d/1-0yYrZAs-BoonZeXHhS5Cb5jWHzlNFvK/view?usp=sharing."
      ]
    },
    {
      "cell_type": "code",
      "metadata": {
        "colab": {
          "base_uri": "https://localhost:8080/"
        },
        "id": "5PF3zn-jM6So",
        "outputId": "bda23ece-929d-4ce2-a754-a6d4f6222594"
      },
      "source": [
        "drive.mount('/content/drive')\n",
        "with open(f'/content/drive/My Drive/CPEN 291 Datasets/Sports_Dataset/annotations_with_bbox.csv', 'r'):\n",
        "  shutil.copy(\"/content/drive/My Drive/CPEN 291 Datasets/Sports_Dataset/annotations_with_bbox.csv\", \"annotations_with_bbox.csv\")\n",
        "\n",
        "dataset = pd.read_csv('annotations_with_bbox.csv')\n",
        "\n",
        "with open('/content/drive/My Drive/CPEN 291 Datasets/Sports_Dataset/images.tar.gz', 'r'):\n",
        "  shutil.copy('/content/drive/My Drive/CPEN 291 Datasets/Sports_Dataset/images.tar.gz', 'images.tar.gz')\n",
        "\n",
        "drive.flush_and_unmount()"
      ],
      "execution_count": 2,
      "outputs": [
        {
          "output_type": "stream",
          "text": [
            "Mounted at /content/drive\n"
          ],
          "name": "stdout"
        }
      ]
    },
    {
      "cell_type": "code",
      "metadata": {
        "id": "CdTuNiEvOQqO"
      },
      "source": [
        "!tar xfz images.tar.gz"
      ],
      "execution_count": 3,
      "outputs": []
    },
    {
      "cell_type": "code",
      "metadata": {
        "colab": {
          "base_uri": "https://localhost:8080/",
          "height": 419
        },
        "id": "0byHIe97jXeb",
        "outputId": "f04e6ff8-2222-470d-d44b-fffd2716a387"
      },
      "source": [
        "dataset"
      ],
      "execution_count": 4,
      "outputs": [
        {
          "output_type": "execute_result",
          "data": {
            "text/html": [
              "<div>\n",
              "<style scoped>\n",
              "    .dataframe tbody tr th:only-of-type {\n",
              "        vertical-align: middle;\n",
              "    }\n",
              "\n",
              "    .dataframe tbody tr th {\n",
              "        vertical-align: top;\n",
              "    }\n",
              "\n",
              "    .dataframe thead th {\n",
              "        text-align: right;\n",
              "    }\n",
              "</style>\n",
              "<table border=\"1\" class=\"dataframe\">\n",
              "  <thead>\n",
              "    <tr style=\"text-align: right;\">\n",
              "      <th></th>\n",
              "      <th>Unnamed: 0</th>\n",
              "      <th>id</th>\n",
              "      <th>x</th>\n",
              "      <th>y</th>\n",
              "      <th>w</th>\n",
              "      <th>h</th>\n",
              "      <th>label</th>\n",
              "    </tr>\n",
              "  </thead>\n",
              "  <tbody>\n",
              "    <tr>\n",
              "      <th>0</th>\n",
              "      <td>0</td>\n",
              "      <td>015601864.jpg</td>\n",
              "      <td>653.204915</td>\n",
              "      <td>221.000000</td>\n",
              "      <td>7.795085</td>\n",
              "      <td>10.000000</td>\n",
              "      <td>1</td>\n",
              "    </tr>\n",
              "    <tr>\n",
              "      <th>1</th>\n",
              "      <td>1</td>\n",
              "      <td>015601864.jpg</td>\n",
              "      <td>584.734004</td>\n",
              "      <td>269.000000</td>\n",
              "      <td>62.531992</td>\n",
              "      <td>125.000000</td>\n",
              "      <td>1</td>\n",
              "    </tr>\n",
              "    <tr>\n",
              "      <th>2</th>\n",
              "      <td>2</td>\n",
              "      <td>015601864.jpg</td>\n",
              "      <td>638.038276</td>\n",
              "      <td>188.000000</td>\n",
              "      <td>22.961724</td>\n",
              "      <td>33.000000</td>\n",
              "      <td>2</td>\n",
              "    </tr>\n",
              "    <tr>\n",
              "      <th>3</th>\n",
              "      <td>3</td>\n",
              "      <td>015601864.jpg</td>\n",
              "      <td>549.408423</td>\n",
              "      <td>185.000000</td>\n",
              "      <td>66.591577</td>\n",
              "      <td>84.000000</td>\n",
              "      <td>2</td>\n",
              "    </tr>\n",
              "    <tr>\n",
              "      <th>4</th>\n",
              "      <td>4</td>\n",
              "      <td>015601864.jpg</td>\n",
              "      <td>573.000000</td>\n",
              "      <td>136.911589</td>\n",
              "      <td>119.000000</td>\n",
              "      <td>60.176823</td>\n",
              "      <td>3</td>\n",
              "    </tr>\n",
              "    <tr>\n",
              "      <th>...</th>\n",
              "      <td>...</td>\n",
              "      <td>...</td>\n",
              "      <td>...</td>\n",
              "      <td>...</td>\n",
              "      <td>...</td>\n",
              "      <td>...</td>\n",
              "      <td>...</td>\n",
              "    </tr>\n",
              "    <tr>\n",
              "      <th>127530</th>\n",
              "      <td>127530</td>\n",
              "      <td>025398745.jpg</td>\n",
              "      <td>879.486367</td>\n",
              "      <td>259.000000</td>\n",
              "      <td>63.513633</td>\n",
              "      <td>104.000000</td>\n",
              "      <td>2</td>\n",
              "    </tr>\n",
              "    <tr>\n",
              "      <th>127531</th>\n",
              "      <td>127531</td>\n",
              "      <td>025398745.jpg</td>\n",
              "      <td>868.288729</td>\n",
              "      <td>118.000000</td>\n",
              "      <td>102.711271</td>\n",
              "      <td>141.000000</td>\n",
              "      <td>3</td>\n",
              "    </tr>\n",
              "    <tr>\n",
              "      <th>127532</th>\n",
              "      <td>127532</td>\n",
              "      <td>025398745.jpg</td>\n",
              "      <td>871.000000</td>\n",
              "      <td>165.000000</td>\n",
              "      <td>46.000000</td>\n",
              "      <td>63.000000</td>\n",
              "      <td>4</td>\n",
              "    </tr>\n",
              "    <tr>\n",
              "      <th>127533</th>\n",
              "      <td>127533</td>\n",
              "      <td>025398745.jpg</td>\n",
              "      <td>894.986986</td>\n",
              "      <td>118.000000</td>\n",
              "      <td>24.026028</td>\n",
              "      <td>47.000000</td>\n",
              "      <td>5</td>\n",
              "    </tr>\n",
              "    <tr>\n",
              "      <th>127534</th>\n",
              "      <td>127534</td>\n",
              "      <td>025398745.jpg</td>\n",
              "      <td>874.000000</td>\n",
              "      <td>76.000000</td>\n",
              "      <td>40.000000</td>\n",
              "      <td>42.000000</td>\n",
              "      <td>6</td>\n",
              "    </tr>\n",
              "  </tbody>\n",
              "</table>\n",
              "<p>127535 rows × 7 columns</p>\n",
              "</div>"
            ],
            "text/plain": [
              "        Unnamed: 0             id           x  ...           w           h  label\n",
              "0                0  015601864.jpg  653.204915  ...    7.795085   10.000000      1\n",
              "1                1  015601864.jpg  584.734004  ...   62.531992  125.000000      1\n",
              "2                2  015601864.jpg  638.038276  ...   22.961724   33.000000      2\n",
              "3                3  015601864.jpg  549.408423  ...   66.591577   84.000000      2\n",
              "4                4  015601864.jpg  573.000000  ...  119.000000   60.176823      3\n",
              "...            ...            ...         ...  ...         ...         ...    ...\n",
              "127530      127530  025398745.jpg  879.486367  ...   63.513633  104.000000      2\n",
              "127531      127531  025398745.jpg  868.288729  ...  102.711271  141.000000      3\n",
              "127532      127532  025398745.jpg  871.000000  ...   46.000000   63.000000      4\n",
              "127533      127533  025398745.jpg  894.986986  ...   24.026028   47.000000      5\n",
              "127534      127534  025398745.jpg  874.000000  ...   40.000000   42.000000      6\n",
              "\n",
              "[127535 rows x 7 columns]"
            ]
          },
          "metadata": {
            "tags": []
          },
          "execution_count": 4
        }
      ]
    },
    {
      "cell_type": "markdown",
      "metadata": {
        "id": "lqqOl8MM_tmt"
      },
      "source": [
        "Found some unexpected data anomalies when training so they need to be removed."
      ]
    },
    {
      "cell_type": "code",
      "metadata": {
        "colab": {
          "base_uri": "https://localhost:8080/",
          "height": 142
        },
        "id": "WKANDztw_JOb",
        "outputId": "4f58525d-2d6f-4052-fc0e-0cab74785699"
      },
      "source": [
        "w_0 = dataset[dataset['w'] == 0]\n",
        "w_0"
      ],
      "execution_count": 5,
      "outputs": [
        {
          "output_type": "execute_result",
          "data": {
            "text/html": [
              "<div>\n",
              "<style scoped>\n",
              "    .dataframe tbody tr th:only-of-type {\n",
              "        vertical-align: middle;\n",
              "    }\n",
              "\n",
              "    .dataframe tbody tr th {\n",
              "        vertical-align: top;\n",
              "    }\n",
              "\n",
              "    .dataframe thead th {\n",
              "        text-align: right;\n",
              "    }\n",
              "</style>\n",
              "<table border=\"1\" class=\"dataframe\">\n",
              "  <thead>\n",
              "    <tr style=\"text-align: right;\">\n",
              "      <th></th>\n",
              "      <th>Unnamed: 0</th>\n",
              "      <th>id</th>\n",
              "      <th>x</th>\n",
              "      <th>y</th>\n",
              "      <th>w</th>\n",
              "      <th>h</th>\n",
              "      <th>label</th>\n",
              "    </tr>\n",
              "  </thead>\n",
              "  <tbody>\n",
              "    <tr>\n",
              "      <th>65625</th>\n",
              "      <td>65625</td>\n",
              "      <td>016983943.jpg</td>\n",
              "      <td>743.0</td>\n",
              "      <td>72.0</td>\n",
              "      <td>0.0</td>\n",
              "      <td>0.0</td>\n",
              "      <td>6</td>\n",
              "    </tr>\n",
              "    <tr>\n",
              "      <th>77340</th>\n",
              "      <td>77340</td>\n",
              "      <td>068839670.jpg</td>\n",
              "      <td>1782.0</td>\n",
              "      <td>660.0</td>\n",
              "      <td>0.0</td>\n",
              "      <td>0.0</td>\n",
              "      <td>6</td>\n",
              "    </tr>\n",
              "    <tr>\n",
              "      <th>105330</th>\n",
              "      <td>105330</td>\n",
              "      <td>007261085.jpg</td>\n",
              "      <td>756.0</td>\n",
              "      <td>260.0</td>\n",
              "      <td>0.0</td>\n",
              "      <td>0.0</td>\n",
              "      <td>6</td>\n",
              "    </tr>\n",
              "  </tbody>\n",
              "</table>\n",
              "</div>"
            ],
            "text/plain": [
              "        Unnamed: 0             id       x      y    w    h  label\n",
              "65625        65625  016983943.jpg   743.0   72.0  0.0  0.0      6\n",
              "77340        77340  068839670.jpg  1782.0  660.0  0.0  0.0      6\n",
              "105330      105330  007261085.jpg   756.0  260.0  0.0  0.0      6"
            ]
          },
          "metadata": {
            "tags": []
          },
          "execution_count": 5
        }
      ]
    },
    {
      "cell_type": "code",
      "metadata": {
        "colab": {
          "base_uri": "https://localhost:8080/",
          "height": 142
        },
        "id": "sOkm0cGj_ciA",
        "outputId": "4e497372-40f4-4b81-8546-fbdb06be08f0"
      },
      "source": [
        "h_0 = dataset[dataset['h'] == 0]\n",
        "h_0"
      ],
      "execution_count": 6,
      "outputs": [
        {
          "output_type": "execute_result",
          "data": {
            "text/html": [
              "<div>\n",
              "<style scoped>\n",
              "    .dataframe tbody tr th:only-of-type {\n",
              "        vertical-align: middle;\n",
              "    }\n",
              "\n",
              "    .dataframe tbody tr th {\n",
              "        vertical-align: top;\n",
              "    }\n",
              "\n",
              "    .dataframe thead th {\n",
              "        text-align: right;\n",
              "    }\n",
              "</style>\n",
              "<table border=\"1\" class=\"dataframe\">\n",
              "  <thead>\n",
              "    <tr style=\"text-align: right;\">\n",
              "      <th></th>\n",
              "      <th>Unnamed: 0</th>\n",
              "      <th>id</th>\n",
              "      <th>x</th>\n",
              "      <th>y</th>\n",
              "      <th>w</th>\n",
              "      <th>h</th>\n",
              "      <th>label</th>\n",
              "    </tr>\n",
              "  </thead>\n",
              "  <tbody>\n",
              "    <tr>\n",
              "      <th>65625</th>\n",
              "      <td>65625</td>\n",
              "      <td>016983943.jpg</td>\n",
              "      <td>743.0</td>\n",
              "      <td>72.0</td>\n",
              "      <td>0.0</td>\n",
              "      <td>0.0</td>\n",
              "      <td>6</td>\n",
              "    </tr>\n",
              "    <tr>\n",
              "      <th>77340</th>\n",
              "      <td>77340</td>\n",
              "      <td>068839670.jpg</td>\n",
              "      <td>1782.0</td>\n",
              "      <td>660.0</td>\n",
              "      <td>0.0</td>\n",
              "      <td>0.0</td>\n",
              "      <td>6</td>\n",
              "    </tr>\n",
              "    <tr>\n",
              "      <th>105330</th>\n",
              "      <td>105330</td>\n",
              "      <td>007261085.jpg</td>\n",
              "      <td>756.0</td>\n",
              "      <td>260.0</td>\n",
              "      <td>0.0</td>\n",
              "      <td>0.0</td>\n",
              "      <td>6</td>\n",
              "    </tr>\n",
              "  </tbody>\n",
              "</table>\n",
              "</div>"
            ],
            "text/plain": [
              "        Unnamed: 0             id       x      y    w    h  label\n",
              "65625        65625  016983943.jpg   743.0   72.0  0.0  0.0      6\n",
              "77340        77340  068839670.jpg  1782.0  660.0  0.0  0.0      6\n",
              "105330      105330  007261085.jpg   756.0  260.0  0.0  0.0      6"
            ]
          },
          "metadata": {
            "tags": []
          },
          "execution_count": 6
        }
      ]
    },
    {
      "cell_type": "code",
      "metadata": {
        "id": "0uWXV4c3__OC"
      },
      "source": [
        "dataset.drop([65625, 77340, 105330], inplace=True)"
      ],
      "execution_count": 7,
      "outputs": []
    },
    {
      "cell_type": "markdown",
      "metadata": {
        "id": "DqSH0Bb0ixze"
      },
      "source": [
        "Second dataset, images here: https://drive.google.com/file/d/1-4z-UM1Hci1gLPp00Uh3_YIjMG8u12vt/view?usp=sharing"
      ]
    },
    {
      "cell_type": "code",
      "metadata": {
        "id": "PF061nWFV3eP",
        "colab": {
          "base_uri": "https://localhost:8080/"
        },
        "outputId": "0943dd4d-63d2-4925-e905-bccd415f2bc0"
      },
      "source": [
        "drive.mount('/content/drive')\n",
        "with open('/content/drive/My Drive/CPEN 291 Datasets/Tracking_Dataset/2nd_dataset.csv', 'r'):\n",
        "  shutil.copy(\"/content/drive/My Drive/CPEN 291 Datasets/Tracking_Dataset/2nd_dataset.csv\", \"2nd_dataset.csv\")\n",
        "\n",
        "dataset2 = pd.read_csv('2nd_dataset.csv')\n",
        "\n",
        "with open('/content/drive/My Drive/CPEN 291 Datasets/Tracking_Dataset/dataset2.tar.gz', 'r'):\n",
        "  shutil.copy('/content/drive/My Drive/CPEN 291 Datasets/Tracking_Dataset/dataset2.tar.gz', 'dataset2.tar.gz')\n",
        "\n",
        "drive.flush_and_unmount()"
      ],
      "execution_count": 8,
      "outputs": [
        {
          "output_type": "stream",
          "text": [
            "Mounted at /content/drive\n"
          ],
          "name": "stdout"
        }
      ]
    },
    {
      "cell_type": "code",
      "metadata": {
        "id": "d-QiistL2kQg"
      },
      "source": [
        "!tar xfz dataset2.tar.gz"
      ],
      "execution_count": 9,
      "outputs": []
    },
    {
      "cell_type": "code",
      "metadata": {
        "id": "ZzHsSc2cliP8"
      },
      "source": [
        "!mv dataset images_2"
      ],
      "execution_count": 10,
      "outputs": []
    },
    {
      "cell_type": "code",
      "metadata": {
        "colab": {
          "base_uri": "https://localhost:8080/"
        },
        "id": "e6pgBJb03Y5G",
        "outputId": "8013c456-3a4f-4973-a6cc-da5a30ce91f1"
      },
      "source": [
        "print(len(os.listdir('images_2')))\n",
        "print(len(dataset2))\n",
        "print(len(dataset2[\"image\"].unique()))"
      ],
      "execution_count": 11,
      "outputs": [
        {
          "output_type": "stream",
          "text": [
            "7490\n",
            "7490\n",
            "7490\n"
          ],
          "name": "stdout"
        }
      ]
    },
    {
      "cell_type": "code",
      "metadata": {
        "colab": {
          "base_uri": "https://localhost:8080/",
          "height": 419
        },
        "id": "HtNnapCRiHu0",
        "outputId": "d38452e6-d535-4bba-e9c9-72d984b3ca2a"
      },
      "source": [
        "dataset2.columns = ['Unnamed: 0', 'id', 'x', 'y', 'w', 'h', 'label']\n",
        "dataset2"
      ],
      "execution_count": 12,
      "outputs": [
        {
          "output_type": "execute_result",
          "data": {
            "text/html": [
              "<div>\n",
              "<style scoped>\n",
              "    .dataframe tbody tr th:only-of-type {\n",
              "        vertical-align: middle;\n",
              "    }\n",
              "\n",
              "    .dataframe tbody tr th {\n",
              "        vertical-align: top;\n",
              "    }\n",
              "\n",
              "    .dataframe thead th {\n",
              "        text-align: right;\n",
              "    }\n",
              "</style>\n",
              "<table border=\"1\" class=\"dataframe\">\n",
              "  <thead>\n",
              "    <tr style=\"text-align: right;\">\n",
              "      <th></th>\n",
              "      <th>Unnamed: 0</th>\n",
              "      <th>id</th>\n",
              "      <th>x</th>\n",
              "      <th>y</th>\n",
              "      <th>w</th>\n",
              "      <th>h</th>\n",
              "      <th>label</th>\n",
              "    </tr>\n",
              "  </thead>\n",
              "  <tbody>\n",
              "    <tr>\n",
              "      <th>0</th>\n",
              "      <td>0</td>\n",
              "      <td>ball0040.jpg</td>\n",
              "      <td>200.34</td>\n",
              "      <td>113.73</td>\n",
              "      <td>45.13</td>\n",
              "      <td>45.59</td>\n",
              "      <td>7</td>\n",
              "    </tr>\n",
              "    <tr>\n",
              "      <th>1</th>\n",
              "      <td>1</td>\n",
              "      <td>ball0037.jpg</td>\n",
              "      <td>202.39</td>\n",
              "      <td>113.73</td>\n",
              "      <td>44.68</td>\n",
              "      <td>45.59</td>\n",
              "      <td>7</td>\n",
              "    </tr>\n",
              "    <tr>\n",
              "      <th>2</th>\n",
              "      <td>2</td>\n",
              "      <td>ball0254.jpg</td>\n",
              "      <td>203.30</td>\n",
              "      <td>113.73</td>\n",
              "      <td>44.68</td>\n",
              "      <td>45.13</td>\n",
              "      <td>7</td>\n",
              "    </tr>\n",
              "    <tr>\n",
              "      <th>3</th>\n",
              "      <td>3</td>\n",
              "      <td>ball0300.jpg</td>\n",
              "      <td>203.30</td>\n",
              "      <td>114.19</td>\n",
              "      <td>44.68</td>\n",
              "      <td>44.90</td>\n",
              "      <td>7</td>\n",
              "    </tr>\n",
              "    <tr>\n",
              "      <th>4</th>\n",
              "      <td>4</td>\n",
              "      <td>ball0021.jpg</td>\n",
              "      <td>201.94</td>\n",
              "      <td>114.19</td>\n",
              "      <td>45.35</td>\n",
              "      <td>45.58</td>\n",
              "      <td>7</td>\n",
              "    </tr>\n",
              "    <tr>\n",
              "      <th>...</th>\n",
              "      <td>...</td>\n",
              "      <td>...</td>\n",
              "      <td>...</td>\n",
              "      <td>...</td>\n",
              "      <td>...</td>\n",
              "      <td>...</td>\n",
              "      <td>...</td>\n",
              "    </tr>\n",
              "    <tr>\n",
              "      <th>7485</th>\n",
              "      <td>7570</td>\n",
              "      <td>dog-toy2292.jpg</td>\n",
              "      <td>225.00</td>\n",
              "      <td>145.00</td>\n",
              "      <td>34.00</td>\n",
              "      <td>56.00</td>\n",
              "      <td>16</td>\n",
              "    </tr>\n",
              "    <tr>\n",
              "      <th>7486</th>\n",
              "      <td>7571</td>\n",
              "      <td>dog-toy2293.jpg</td>\n",
              "      <td>223.00</td>\n",
              "      <td>151.00</td>\n",
              "      <td>34.00</td>\n",
              "      <td>56.00</td>\n",
              "      <td>16</td>\n",
              "    </tr>\n",
              "    <tr>\n",
              "      <th>7487</th>\n",
              "      <td>7572</td>\n",
              "      <td>dog-toy2294.jpg</td>\n",
              "      <td>221.00</td>\n",
              "      <td>157.00</td>\n",
              "      <td>34.00</td>\n",
              "      <td>57.00</td>\n",
              "      <td>16</td>\n",
              "    </tr>\n",
              "    <tr>\n",
              "      <th>7488</th>\n",
              "      <td>7573</td>\n",
              "      <td>dog-toy2295.jpg</td>\n",
              "      <td>219.00</td>\n",
              "      <td>164.00</td>\n",
              "      <td>34.00</td>\n",
              "      <td>57.00</td>\n",
              "      <td>16</td>\n",
              "    </tr>\n",
              "    <tr>\n",
              "      <th>7489</th>\n",
              "      <td>7574</td>\n",
              "      <td>dog-toy2296.jpg</td>\n",
              "      <td>217.00</td>\n",
              "      <td>170.00</td>\n",
              "      <td>34.00</td>\n",
              "      <td>58.00</td>\n",
              "      <td>16</td>\n",
              "    </tr>\n",
              "  </tbody>\n",
              "</table>\n",
              "<p>7490 rows × 7 columns</p>\n",
              "</div>"
            ],
            "text/plain": [
              "      Unnamed: 0               id       x       y      w      h  label\n",
              "0              0     ball0040.jpg  200.34  113.73  45.13  45.59      7\n",
              "1              1     ball0037.jpg  202.39  113.73  44.68  45.59      7\n",
              "2              2     ball0254.jpg  203.30  113.73  44.68  45.13      7\n",
              "3              3     ball0300.jpg  203.30  114.19  44.68  44.90      7\n",
              "4              4     ball0021.jpg  201.94  114.19  45.35  45.58      7\n",
              "...          ...              ...     ...     ...    ...    ...    ...\n",
              "7485        7570  dog-toy2292.jpg  225.00  145.00  34.00  56.00     16\n",
              "7486        7571  dog-toy2293.jpg  223.00  151.00  34.00  56.00     16\n",
              "7487        7572  dog-toy2294.jpg  221.00  157.00  34.00  57.00     16\n",
              "7488        7573  dog-toy2295.jpg  219.00  164.00  34.00  57.00     16\n",
              "7489        7574  dog-toy2296.jpg  217.00  170.00  34.00  58.00     16\n",
              "\n",
              "[7490 rows x 7 columns]"
            ]
          },
          "metadata": {
            "tags": []
          },
          "execution_count": 12
        }
      ]
    },
    {
      "cell_type": "markdown",
      "metadata": {
        "id": "7toMteRwrjNi"
      },
      "source": [
        "Get some Pytorch reference code to make things easier."
      ]
    },
    {
      "cell_type": "code",
      "metadata": {
        "colab": {
          "base_uri": "https://localhost:8080/"
        },
        "id": "HEjrQZNeqv0H",
        "outputId": "02db28cb-7b40-4539-e4d2-2c7d8edd3c8a"
      },
      "source": [
        "%%shell\n",
        "\n",
        "git clone https://github.com/pytorch/vision.git\n",
        "cd vision\n",
        "git checkout v0.3.0\n",
        "\n",
        "cp references/detection/utils.py ../\n",
        "cp references/detection/transforms.py ../\n",
        "cp references/detection/coco_eval.py ../\n",
        "cp references/detection/engine.py ../\n",
        "cp references/detection/coco_utils.py ../"
      ],
      "execution_count": 13,
      "outputs": [
        {
          "output_type": "stream",
          "text": [
            "Cloning into 'vision'...\n",
            "remote: Enumerating objects: 2407, done.\u001b[K\n",
            "remote: Counting objects: 100% (2407/2407), done.\u001b[K\n",
            "remote: Compressing objects: 100% (524/524), done.\u001b[K\n",
            "remote: Total 21019 (delta 1882), reused 2297 (delta 1823), pack-reused 18612\u001b[K\n",
            "Receiving objects: 100% (21019/21019), 21.69 MiB | 25.74 MiB/s, done.\n",
            "Resolving deltas: 100% (15433/15433), done.\n",
            "Note: checking out 'v0.3.0'.\n",
            "\n",
            "You are in 'detached HEAD' state. You can look around, make experimental\n",
            "changes and commit them, and you can discard any commits you make in this\n",
            "state without impacting any branches by performing another checkout.\n",
            "\n",
            "If you want to create a new branch to retain commits you create, you may\n",
            "do so (now or later) by using -b with the checkout command again. Example:\n",
            "\n",
            "  git checkout -b <new-branch-name>\n",
            "\n",
            "HEAD is now at be376084 version check against PyTorch's CUDA version\n"
          ],
          "name": "stdout"
        },
        {
          "output_type": "execute_result",
          "data": {
            "text/plain": [
              ""
            ]
          },
          "metadata": {
            "tags": []
          },
          "execution_count": 13
        }
      ]
    },
    {
      "cell_type": "code",
      "metadata": {
        "id": "RKQ6JWSczPEc"
      },
      "source": [
        "import utils"
      ],
      "execution_count": 14,
      "outputs": []
    },
    {
      "cell_type": "markdown",
      "metadata": {
        "id": "A0-QQx6UJj2K"
      },
      "source": [
        "Create the dataset class."
      ]
    },
    {
      "cell_type": "code",
      "metadata": {
        "id": "T87jMsHeMXEq"
      },
      "source": [
        "class DetectionDataset(torch.utils.data.Dataset):\n",
        "  def __init__(self, df, image_dir, transform=None):\n",
        "    super().__init__()\n",
        "\n",
        "    self.df = df\n",
        "    self.image_ids = self.df['id'].unique()\n",
        "    self.image_dir = pathlib.Path(image_dir).resolve()\n",
        "    self.transform = transform\n",
        "  \n",
        "  def __getitem__(self, idx):\n",
        "    image_id = self.image_ids[idx]\n",
        "    records = self.df[self.df['id'] == image_id]\n",
        "    im = PIL.Image.open(self.image_dir/image_id).convert('RGB')\n",
        "    im_width_orig, im_height_orig = im.size\n",
        "    # im = torchvision.transforms.ToTensor()(im)\n",
        "    if self.transform is not None:\n",
        "      im = self.transform(im)\n",
        "\n",
        "    if isinstance(im, torch.Tensor):\n",
        "      im_height_new = im.size()[1]\n",
        "      im_width_new = im.size()[2]\n",
        "    else:\n",
        "      im_width_new, im_height_new = im.size\n",
        "    # ratios for resizing the image bounding box coordinates\n",
        "    rx = im_width_new / im_width_orig\n",
        "    ry = im_height_new / im_height_orig\n",
        "    # bounding box coordinates are stored with width and height while we want an endpoint\n",
        "    boxes = records[['x', 'y', 'w', 'h']].values\n",
        "    boxes[:, 0] *= rx\n",
        "    boxes[:, 1] *= ry\n",
        "    boxes[:, 2] *= rx\n",
        "    boxes[:, 3] *= ry\n",
        "    boxes[:, 2] = boxes[:, 0] + boxes[:, 2]\n",
        "    boxes[:, 3] = boxes[:, 1] + boxes[:, 3]\n",
        "    boxes = torch.as_tensor(boxes, dtype=torch.float32)\n",
        "    area = (boxes[:,3] - boxes[:,1]) * (boxes[:,2] - boxes[:,0])\n",
        "    labels = torch.tensor(records['label'].values)\n",
        "\n",
        "    target = {}\n",
        "    target[\"boxes\"] = boxes\n",
        "    target[\"labels\"] = labels\n",
        "    target[\"image_id\"] = torch.tensor([idx])\n",
        "    target[\"area\"] = area\n",
        "    target[\"iscrowd\"] = torch.zeros((len(boxes),), dtype=torch.int64) #Assume all are not crowded\n",
        "    \n",
        "    return im, target\n",
        "\n",
        "  def __len__(self):\n",
        "    return self.image_ids.shape[0]"
      ],
      "execution_count": 15,
      "outputs": []
    },
    {
      "cell_type": "code",
      "metadata": {
        "id": "ScNbU7yJQzZc"
      },
      "source": [
        "dataset_full = DetectionDataset(dataset, 'images_data', torchvision.transforms.ToTensor())"
      ],
      "execution_count": 16,
      "outputs": []
    },
    {
      "cell_type": "code",
      "metadata": {
        "colab": {
          "base_uri": "https://localhost:8080/"
        },
        "id": "4NUAvqLcN9QD",
        "outputId": "5f83e24d-7ddf-4c80-a282-5741f28ec652"
      },
      "source": [
        "dataset_full[0]"
      ],
      "execution_count": 17,
      "outputs": [
        {
          "output_type": "execute_result",
          "data": {
            "text/plain": [
              "(tensor([[[0.0078, 0.0078, 0.0039,  ..., 0.0078, 0.0078, 0.0078],\n",
              "          [0.0118, 0.0118, 0.0078,  ..., 0.0078, 0.0078, 0.0078],\n",
              "          [0.0431, 0.0510, 0.0510,  ..., 0.0275, 0.0314, 0.0392],\n",
              "          ...,\n",
              "          [0.5843, 0.5882, 0.5882,  ..., 0.0078, 0.0078, 0.0078],\n",
              "          [0.0078, 0.0039, 0.0039,  ..., 0.0000, 0.0000, 0.0000],\n",
              "          [0.0314, 0.0314, 0.0235,  ..., 0.0000, 0.0000, 0.0000]],\n",
              " \n",
              "         [[0.0039, 0.0039, 0.0078,  ..., 0.0078, 0.0078, 0.0078],\n",
              "          [0.0118, 0.0118, 0.0118,  ..., 0.0039, 0.0039, 0.0039],\n",
              "          [0.0706, 0.0706, 0.0667,  ..., 0.0314, 0.0353, 0.0314],\n",
              "          ...,\n",
              "          [0.5804, 0.5843, 0.5843,  ..., 0.0196, 0.0196, 0.0196],\n",
              "          [0.0039, 0.0000, 0.0000,  ..., 0.0078, 0.0078, 0.0078],\n",
              "          [0.0275, 0.0275, 0.0196,  ..., 0.0078, 0.0078, 0.0078]],\n",
              " \n",
              "         [[0.0000, 0.0000, 0.0000,  ..., 0.0000, 0.0000, 0.0000],\n",
              "          [0.0039, 0.0118, 0.0196,  ..., 0.0353, 0.0353, 0.0353],\n",
              "          [0.0941, 0.0941, 0.1098,  ..., 0.1137, 0.1176, 0.1176],\n",
              "          ...,\n",
              "          [0.5647, 0.5686, 0.5686,  ..., 0.0549, 0.0549, 0.0549],\n",
              "          [0.0000, 0.0000, 0.0000,  ..., 0.0431, 0.0431, 0.0431],\n",
              "          [0.0196, 0.0196, 0.0118,  ..., 0.0431, 0.0431, 0.0431]]]),\n",
              " {'area': tensor([  77.9510, 7816.4980,  757.7371, 5593.6904, 7161.0415, 2670.7466,\n",
              "          2968.0000, 1512.7484, 1160.9648, 7742.0000, 3872.2471,  210.0000,\n",
              "          7604.5596, 1960.0000, 4876.0264, 3480.0000, 2848.2695, 3962.7490,\n",
              "          1518.7372, 5063.0000]),\n",
              "  'boxes': tensor([[ 653.2049,  221.0000,  661.0000,  231.0000],\n",
              "          [ 584.7340,  269.0000,  647.2660,  394.0000],\n",
              "          [ 638.0383,  188.0000,  661.0000,  221.0000],\n",
              "          [ 549.4084,  185.0000,  616.0000,  269.0000],\n",
              "          [ 573.0000,  136.9116,  692.0000,  197.0884],\n",
              "          [ 669.7072,  240.0000,  706.2928,  313.0000],\n",
              "          [ 553.0000,  161.0000,  606.0000,  217.0000],\n",
              "          [ 678.2477,  185.0000,  705.7523,  240.0000],\n",
              "          [ 553.0000,  148.9066,  601.0000,  173.0934],\n",
              "          [ 627.0000,  100.0000,  706.0000,  198.0000],\n",
              "          [ 937.9986,  315.0000,  982.0014,  403.0000],\n",
              "          [ 895.0000,  279.0000,  910.0000,  293.0000],\n",
              "          [ 933.6025,  218.0000, 1012.0000,  315.0000],\n",
              "          [ 910.0000,  223.0000,  945.0000,  279.0000],\n",
              "          [ 888.0000,  150.5906,  976.0000,  206.0000],\n",
              "          [ 955.0000,  203.0000, 1013.0000,  263.0000],\n",
              "          [ 852.0115,  229.0000,  889.9885,  304.0000],\n",
              "          [ 924.0000,  180.7374, 1013.0000,  225.2626],\n",
              "          [ 869.1933,  174.0000,  896.8067,  229.0000],\n",
              "          [ 841.0000,  145.0000,  902.0000,  228.0000]]),\n",
              "  'image_id': tensor([0]),\n",
              "  'iscrowd': tensor([0, 0, 0, 0, 0, 0, 0, 0, 0, 0, 0, 0, 0, 0, 0, 0, 0, 0, 0, 0]),\n",
              "  'labels': tensor([1, 1, 2, 2, 3, 4, 4, 5, 5, 6, 1, 1, 2, 2, 3, 4, 4, 5, 5, 6])})"
            ]
          },
          "metadata": {
            "tags": []
          },
          "execution_count": 17
        }
      ]
    },
    {
      "cell_type": "code",
      "metadata": {
        "colab": {
          "base_uri": "https://localhost:8080/"
        },
        "id": "KBPHXVhIRcqJ",
        "outputId": "0bd30e5b-751d-456c-9730-e6633f419f9e"
      },
      "source": [
        "print(dataset.loc[0])"
      ],
      "execution_count": 18,
      "outputs": [
        {
          "output_type": "stream",
          "text": [
            "Unnamed: 0                0\n",
            "id            015601864.jpg\n",
            "x                   653.205\n",
            "y                       221\n",
            "w                   7.79508\n",
            "h                        10\n",
            "label                     1\n",
            "Name: 0, dtype: object\n"
          ],
          "name": "stdout"
        }
      ]
    },
    {
      "cell_type": "markdown",
      "metadata": {
        "id": "ejaKQws2KDUM"
      },
      "source": [
        "Now to check how it looks as a picture instead of just numbers."
      ]
    },
    {
      "cell_type": "code",
      "metadata": {
        "id": "j5X4mGAALCD-"
      },
      "source": [
        "classes = {\n",
        "    1: 'shin',\n",
        "    2: 'thigh',\n",
        "    3: 'torso',\n",
        "    4: 'forearm',\n",
        "    5: 'uparm',\n",
        "    6: 'head',\n",
        "    7: 'ball',\n",
        "    8: 'cup',\n",
        "    9: 'juice',\n",
        "    10: 'rubikscube',\n",
        "    11: 'hand',\n",
        "    12: 'bird',\n",
        "    13: 'motorcycle',\n",
        "    14: 'bike',\n",
        "    15: 'car',\n",
        "    16: 'toy-dog'\n",
        "}"
      ],
      "execution_count": 19,
      "outputs": []
    },
    {
      "cell_type": "code",
      "metadata": {
        "id": "1WpKKpnsTF0D"
      },
      "source": [
        "def show_img(img, title=None):\n",
        "  if torch.is_tensor(img):\n",
        "    img = img.cpu().permute(1,2,0)\n",
        "  plt.imshow(img)\n",
        "  if title:\n",
        "    plt.title(title, color='w')\n",
        "  plt.axis('off')\n",
        "\n",
        "def show_boxes(img, sample, classes=None):\n",
        "  show_img(img)\n",
        "  ax = plt.gca()\n",
        "  boxes = sample['boxes']\n",
        "  labels = sample['labels']\n",
        "  xmin, xmax = ax.get_xlim()\n",
        "  ymax, ymin = ax.get_ylim()\n",
        "  isx, isy = xmax-xmin, ymax-ymin\n",
        "  for i in range(boxes.shape[0]):\n",
        "    box = boxes[i]\n",
        "    label = labels[i]\n",
        "    # x = max(xmin, box[0])\n",
        "    # y = max(ymin, box[1])\n",
        "    # w = min(box[2] - x, xmax - x)\n",
        "    # h = min(box[3] - y, ymax - y)\n",
        "    # x = xmin + isx * box[0]\n",
        "    # y = ymin + isy * box[1]\n",
        "    # w = isx * (box[2] - box[0])\n",
        "    # h = isy * (box[3] - box[1])\n",
        "    x = box[0]\n",
        "    y = box[1]\n",
        "    w = box[2] - x\n",
        "    h = box[3] - y\n",
        "    bbox = patches.Rectangle((x, y), w, h, ec='r', fc='none')\n",
        "    ax.add_patch(bbox)\n",
        "    if classes:\n",
        "      plt.text(x, y, classes[label.item()], backgroundcolor='r', c='w')\n"
      ],
      "execution_count": 20,
      "outputs": []
    },
    {
      "cell_type": "code",
      "metadata": {
        "colab": {
          "base_uri": "https://localhost:8080/",
          "height": 219
        },
        "id": "mj5zMBpOLBGJ",
        "outputId": "91477689-7e38-4de6-c59e-1f5e6db23b9c"
      },
      "source": [
        "im, result = dataset_full[0]\n",
        "\n",
        "show_boxes(im, result) #plotting with labels makes it impossible to see\n"
      ],
      "execution_count": 21,
      "outputs": [
        {
          "output_type": "display_data",
          "data": {
            "image/png": "[encoded data removed]",
            "text/plain": [
              "<Figure size 432x288 with 1 Axes>"
            ]
          },
          "metadata": {
            "tags": [],
            "needs_background": "light"
          }
        }
      ]
    },
    {
      "cell_type": "markdown",
      "metadata": {
        "id": "qg9NpqDsgIDS"
      },
      "source": [
        "Test transforms."
      ]
    },
    {
      "cell_type": "code",
      "metadata": {
        "colab": {
          "base_uri": "https://localhost:8080/"
        },
        "id": "RMP6vEocgKB8",
        "outputId": "d2bc4e7f-cc19-418f-b70e-a7ab2163eb9d"
      },
      "source": [
        "xform = torchvision.transforms.Compose([torchvision.transforms.Resize((240,426)), torchvision.transforms.ToTensor()])\n",
        "dataset_full = DetectionDataset(dataset, 'images_data', xform)\n",
        "dataset_full[0]"
      ],
      "execution_count": 22,
      "outputs": [
        {
          "output_type": "execute_result",
          "data": {
            "text/plain": [
              "(tensor([[[0.0275, 0.0235, 0.0196,  ..., 0.0196, 0.0235, 0.0196],\n",
              "          [0.0549, 0.0549, 0.0549,  ..., 0.0549, 0.0549, 0.0549],\n",
              "          [0.0549, 0.0549, 0.0549,  ..., 0.0627, 0.0627, 0.0627],\n",
              "          ...,\n",
              "          [0.9294, 0.9333, 0.9333,  ..., 0.0588, 0.0588, 0.0588],\n",
              "          [0.8980, 0.9059, 0.9020,  ..., 0.0431, 0.0431, 0.0431],\n",
              "          [0.2784, 0.2784, 0.2824,  ..., 0.0078, 0.0078, 0.0078]],\n",
              " \n",
              "         [[0.0392, 0.0353, 0.0314,  ..., 0.0196, 0.0235, 0.0235],\n",
              "          [0.1059, 0.1020, 0.0980,  ..., 0.0824, 0.0824, 0.0824],\n",
              "          [0.1020, 0.0980, 0.0902,  ..., 0.1059, 0.1059, 0.1059],\n",
              "          ...,\n",
              "          [0.9255, 0.9294, 0.9294,  ..., 0.0706, 0.0706, 0.0706],\n",
              "          [0.8941, 0.9020, 0.8980,  ..., 0.0549, 0.0549, 0.0549],\n",
              "          [0.2745, 0.2745, 0.2824,  ..., 0.0157, 0.0157, 0.0157]],\n",
              " \n",
              "         [[0.0549, 0.0824, 0.1059,  ..., 0.0745, 0.0745, 0.0706],\n",
              "          [0.2000, 0.2353, 0.2510,  ..., 0.2510, 0.2510, 0.2510],\n",
              "          [0.2078, 0.2392, 0.2667,  ..., 0.2706, 0.2784, 0.2784],\n",
              "          ...,\n",
              "          [0.9059, 0.9020, 0.8980,  ..., 0.1059, 0.1059, 0.1059],\n",
              "          [0.8784, 0.8863, 0.8784,  ..., 0.0902, 0.0902, 0.0902],\n",
              "          [0.2667, 0.2706, 0.2706,  ..., 0.0510, 0.0510, 0.0510]]]),\n",
              " {'area': tensor([  8.6477, 867.1429,  84.0614, 620.5501, 794.4279, 296.2856, 329.2624,\n",
              "          167.8206, 128.7945, 858.8782, 429.5782,  23.2969, 843.6309, 217.4375,\n",
              "          540.9343, 386.0626, 315.9798, 439.6178, 168.4851, 561.6761]),\n",
              "  'boxes': tensor([[217.3948,  73.6667, 219.9891,  77.0000],\n",
              "          [194.6068,  89.6667, 215.4182, 131.3333],\n",
              "          [212.3471,  62.6667, 219.9891,  73.6667],\n",
              "          [182.8500,  61.6667, 205.0125,  89.6667],\n",
              "          [190.7016,  45.6372, 230.3062,  65.6961],\n",
              "          [222.8869,  80.0000, 235.0631, 104.3333],\n",
              "          [184.0453,  53.6667, 201.6844,  72.3333],\n",
              "          [225.7293,  61.6667, 234.8832,  80.0000],\n",
              "          [184.0453,  49.6355, 200.0203,  57.6978],\n",
              "          [208.6734,  33.3333, 234.9656,  66.0000],\n",
              "          [312.1776, 105.0000, 326.8224, 134.3333],\n",
              "          [297.8672,  93.0000, 302.8594,  97.6667],\n",
              "          [310.7146,  72.6667, 336.8062, 105.0000],\n",
              "          [302.8594,  74.3333, 314.5078,  93.0000],\n",
              "          [295.5375,  50.1969, 324.8250,  68.6667],\n",
              "          [317.8359,  67.6667, 337.1391,  87.6667],\n",
              "          [283.5601,  76.3333, 296.1993, 101.3333],\n",
              "          [307.5187,  60.2458, 337.1391,  75.0875],\n",
              "          [289.2784,  58.0000, 298.4685,  76.3333],\n",
              "          [279.8953,  48.3333, 300.1969,  76.0000]]),\n",
              "  'image_id': tensor([0]),\n",
              "  'iscrowd': tensor([0, 0, 0, 0, 0, 0, 0, 0, 0, 0, 0, 0, 0, 0, 0, 0, 0, 0, 0, 0]),\n",
              "  'labels': tensor([1, 1, 2, 2, 3, 4, 4, 5, 5, 6, 1, 1, 2, 2, 3, 4, 4, 5, 5, 6])})"
            ]
          },
          "metadata": {
            "tags": []
          },
          "execution_count": 22
        }
      ]
    },
    {
      "cell_type": "code",
      "metadata": {
        "colab": {
          "base_uri": "https://localhost:8080/",
          "height": 220
        },
        "id": "O-BAmZkFoIpx",
        "outputId": "83981c52-de53-46b6-af3b-80f57e4871b6"
      },
      "source": [
        "im, result = dataset_full[0]\n",
        "\n",
        "show_boxes(im, result)"
      ],
      "execution_count": 23,
      "outputs": [
        {
          "output_type": "display_data",
          "data": {
            "image/png": "[encoded data removed]",
            "text/plain": [
              "<Figure size 432x288 with 1 Axes>"
            ]
          },
          "metadata": {
            "tags": [],
            "needs_background": "light"
          }
        }
      ]
    },
    {
      "cell_type": "code",
      "metadata": {
        "colab": {
          "base_uri": "https://localhost:8080/"
        },
        "id": "h9TuaeY3oa8u",
        "outputId": "5a871410-721a-44d6-a76e-d019cf39564f"
      },
      "source": [
        "im.size()"
      ],
      "execution_count": 24,
      "outputs": [
        {
          "output_type": "execute_result",
          "data": {
            "text/plain": [
              "torch.Size([3, 240, 426])"
            ]
          },
          "metadata": {
            "tags": []
          },
          "execution_count": 24
        }
      ]
    },
    {
      "cell_type": "markdown",
      "metadata": {
        "id": "hAj-yo7QkOY5"
      },
      "source": [
        "That looks good, now to combine the datasets."
      ]
    },
    {
      "cell_type": "code",
      "metadata": {
        "id": "EdBxdM3b3bo5"
      },
      "source": [
        "dataset_comb = dataset.append(dataset2, ignore_index=True)\n"
      ],
      "execution_count": 25,
      "outputs": []
    },
    {
      "cell_type": "code",
      "metadata": {
        "colab": {
          "base_uri": "https://localhost:8080/",
          "height": 419
        },
        "id": "wnE0M1r_hsRq",
        "outputId": "6b0f41e2-bf1a-4c24-b00c-71d393ca6646"
      },
      "source": [
        "dataset_comb"
      ],
      "execution_count": 26,
      "outputs": [
        {
          "output_type": "execute_result",
          "data": {
            "text/html": [
              "<div>\n",
              "<style scoped>\n",
              "    .dataframe tbody tr th:only-of-type {\n",
              "        vertical-align: middle;\n",
              "    }\n",
              "\n",
              "    .dataframe tbody tr th {\n",
              "        vertical-align: top;\n",
              "    }\n",
              "\n",
              "    .dataframe thead th {\n",
              "        text-align: right;\n",
              "    }\n",
              "</style>\n",
              "<table border=\"1\" class=\"dataframe\">\n",
              "  <thead>\n",
              "    <tr style=\"text-align: right;\">\n",
              "      <th></th>\n",
              "      <th>Unnamed: 0</th>\n",
              "      <th>id</th>\n",
              "      <th>x</th>\n",
              "      <th>y</th>\n",
              "      <th>w</th>\n",
              "      <th>h</th>\n",
              "      <th>label</th>\n",
              "    </tr>\n",
              "  </thead>\n",
              "  <tbody>\n",
              "    <tr>\n",
              "      <th>0</th>\n",
              "      <td>0</td>\n",
              "      <td>015601864.jpg</td>\n",
              "      <td>653.204915</td>\n",
              "      <td>221.000000</td>\n",
              "      <td>7.795085</td>\n",
              "      <td>10.000000</td>\n",
              "      <td>1</td>\n",
              "    </tr>\n",
              "    <tr>\n",
              "      <th>1</th>\n",
              "      <td>1</td>\n",
              "      <td>015601864.jpg</td>\n",
              "      <td>584.734004</td>\n",
              "      <td>269.000000</td>\n",
              "      <td>62.531992</td>\n",
              "      <td>125.000000</td>\n",
              "      <td>1</td>\n",
              "    </tr>\n",
              "    <tr>\n",
              "      <th>2</th>\n",
              "      <td>2</td>\n",
              "      <td>015601864.jpg</td>\n",
              "      <td>638.038276</td>\n",
              "      <td>188.000000</td>\n",
              "      <td>22.961724</td>\n",
              "      <td>33.000000</td>\n",
              "      <td>2</td>\n",
              "    </tr>\n",
              "    <tr>\n",
              "      <th>3</th>\n",
              "      <td>3</td>\n",
              "      <td>015601864.jpg</td>\n",
              "      <td>549.408423</td>\n",
              "      <td>185.000000</td>\n",
              "      <td>66.591577</td>\n",
              "      <td>84.000000</td>\n",
              "      <td>2</td>\n",
              "    </tr>\n",
              "    <tr>\n",
              "      <th>4</th>\n",
              "      <td>4</td>\n",
              "      <td>015601864.jpg</td>\n",
              "      <td>573.000000</td>\n",
              "      <td>136.911589</td>\n",
              "      <td>119.000000</td>\n",
              "      <td>60.176823</td>\n",
              "      <td>3</td>\n",
              "    </tr>\n",
              "    <tr>\n",
              "      <th>...</th>\n",
              "      <td>...</td>\n",
              "      <td>...</td>\n",
              "      <td>...</td>\n",
              "      <td>...</td>\n",
              "      <td>...</td>\n",
              "      <td>...</td>\n",
              "      <td>...</td>\n",
              "    </tr>\n",
              "    <tr>\n",
              "      <th>135017</th>\n",
              "      <td>7570</td>\n",
              "      <td>dog-toy2292.jpg</td>\n",
              "      <td>225.000000</td>\n",
              "      <td>145.000000</td>\n",
              "      <td>34.000000</td>\n",
              "      <td>56.000000</td>\n",
              "      <td>16</td>\n",
              "    </tr>\n",
              "    <tr>\n",
              "      <th>135018</th>\n",
              "      <td>7571</td>\n",
              "      <td>dog-toy2293.jpg</td>\n",
              "      <td>223.000000</td>\n",
              "      <td>151.000000</td>\n",
              "      <td>34.000000</td>\n",
              "      <td>56.000000</td>\n",
              "      <td>16</td>\n",
              "    </tr>\n",
              "    <tr>\n",
              "      <th>135019</th>\n",
              "      <td>7572</td>\n",
              "      <td>dog-toy2294.jpg</td>\n",
              "      <td>221.000000</td>\n",
              "      <td>157.000000</td>\n",
              "      <td>34.000000</td>\n",
              "      <td>57.000000</td>\n",
              "      <td>16</td>\n",
              "    </tr>\n",
              "    <tr>\n",
              "      <th>135020</th>\n",
              "      <td>7573</td>\n",
              "      <td>dog-toy2295.jpg</td>\n",
              "      <td>219.000000</td>\n",
              "      <td>164.000000</td>\n",
              "      <td>34.000000</td>\n",
              "      <td>57.000000</td>\n",
              "      <td>16</td>\n",
              "    </tr>\n",
              "    <tr>\n",
              "      <th>135021</th>\n",
              "      <td>7574</td>\n",
              "      <td>dog-toy2296.jpg</td>\n",
              "      <td>217.000000</td>\n",
              "      <td>170.000000</td>\n",
              "      <td>34.000000</td>\n",
              "      <td>58.000000</td>\n",
              "      <td>16</td>\n",
              "    </tr>\n",
              "  </tbody>\n",
              "</table>\n",
              "<p>135022 rows × 7 columns</p>\n",
              "</div>"
            ],
            "text/plain": [
              "        Unnamed: 0               id           x  ...           w           h  label\n",
              "0                0    015601864.jpg  653.204915  ...    7.795085   10.000000      1\n",
              "1                1    015601864.jpg  584.734004  ...   62.531992  125.000000      1\n",
              "2                2    015601864.jpg  638.038276  ...   22.961724   33.000000      2\n",
              "3                3    015601864.jpg  549.408423  ...   66.591577   84.000000      2\n",
              "4                4    015601864.jpg  573.000000  ...  119.000000   60.176823      3\n",
              "...            ...              ...         ...  ...         ...         ...    ...\n",
              "135017        7570  dog-toy2292.jpg  225.000000  ...   34.000000   56.000000     16\n",
              "135018        7571  dog-toy2293.jpg  223.000000  ...   34.000000   56.000000     16\n",
              "135019        7572  dog-toy2294.jpg  221.000000  ...   34.000000   57.000000     16\n",
              "135020        7573  dog-toy2295.jpg  219.000000  ...   34.000000   57.000000     16\n",
              "135021        7574  dog-toy2296.jpg  217.000000  ...   34.000000   58.000000     16\n",
              "\n",
              "[135022 rows x 7 columns]"
            ]
          },
          "metadata": {
            "tags": []
          },
          "execution_count": 26
        }
      ]
    },
    {
      "cell_type": "code",
      "metadata": {
        "colab": {
          "base_uri": "https://localhost:8080/",
          "height": 419
        },
        "id": "EFmh_zwxj0HL",
        "outputId": "7709d2b5-5973-4df5-fd98-b08e235a2c0b"
      },
      "source": [
        "dataset_comb.drop(labels=\"Unnamed: 0\", axis='columns')"
      ],
      "execution_count": 27,
      "outputs": [
        {
          "output_type": "execute_result",
          "data": {
            "text/html": [
              "<div>\n",
              "<style scoped>\n",
              "    .dataframe tbody tr th:only-of-type {\n",
              "        vertical-align: middle;\n",
              "    }\n",
              "\n",
              "    .dataframe tbody tr th {\n",
              "        vertical-align: top;\n",
              "    }\n",
              "\n",
              "    .dataframe thead th {\n",
              "        text-align: right;\n",
              "    }\n",
              "</style>\n",
              "<table border=\"1\" class=\"dataframe\">\n",
              "  <thead>\n",
              "    <tr style=\"text-align: right;\">\n",
              "      <th></th>\n",
              "      <th>id</th>\n",
              "      <th>x</th>\n",
              "      <th>y</th>\n",
              "      <th>w</th>\n",
              "      <th>h</th>\n",
              "      <th>label</th>\n",
              "    </tr>\n",
              "  </thead>\n",
              "  <tbody>\n",
              "    <tr>\n",
              "      <th>0</th>\n",
              "      <td>015601864.jpg</td>\n",
              "      <td>653.204915</td>\n",
              "      <td>221.000000</td>\n",
              "      <td>7.795085</td>\n",
              "      <td>10.000000</td>\n",
              "      <td>1</td>\n",
              "    </tr>\n",
              "    <tr>\n",
              "      <th>1</th>\n",
              "      <td>015601864.jpg</td>\n",
              "      <td>584.734004</td>\n",
              "      <td>269.000000</td>\n",
              "      <td>62.531992</td>\n",
              "      <td>125.000000</td>\n",
              "      <td>1</td>\n",
              "    </tr>\n",
              "    <tr>\n",
              "      <th>2</th>\n",
              "      <td>015601864.jpg</td>\n",
              "      <td>638.038276</td>\n",
              "      <td>188.000000</td>\n",
              "      <td>22.961724</td>\n",
              "      <td>33.000000</td>\n",
              "      <td>2</td>\n",
              "    </tr>\n",
              "    <tr>\n",
              "      <th>3</th>\n",
              "      <td>015601864.jpg</td>\n",
              "      <td>549.408423</td>\n",
              "      <td>185.000000</td>\n",
              "      <td>66.591577</td>\n",
              "      <td>84.000000</td>\n",
              "      <td>2</td>\n",
              "    </tr>\n",
              "    <tr>\n",
              "      <th>4</th>\n",
              "      <td>015601864.jpg</td>\n",
              "      <td>573.000000</td>\n",
              "      <td>136.911589</td>\n",
              "      <td>119.000000</td>\n",
              "      <td>60.176823</td>\n",
              "      <td>3</td>\n",
              "    </tr>\n",
              "    <tr>\n",
              "      <th>...</th>\n",
              "      <td>...</td>\n",
              "      <td>...</td>\n",
              "      <td>...</td>\n",
              "      <td>...</td>\n",
              "      <td>...</td>\n",
              "      <td>...</td>\n",
              "    </tr>\n",
              "    <tr>\n",
              "      <th>135017</th>\n",
              "      <td>dog-toy2292.jpg</td>\n",
              "      <td>225.000000</td>\n",
              "      <td>145.000000</td>\n",
              "      <td>34.000000</td>\n",
              "      <td>56.000000</td>\n",
              "      <td>16</td>\n",
              "    </tr>\n",
              "    <tr>\n",
              "      <th>135018</th>\n",
              "      <td>dog-toy2293.jpg</td>\n",
              "      <td>223.000000</td>\n",
              "      <td>151.000000</td>\n",
              "      <td>34.000000</td>\n",
              "      <td>56.000000</td>\n",
              "      <td>16</td>\n",
              "    </tr>\n",
              "    <tr>\n",
              "      <th>135019</th>\n",
              "      <td>dog-toy2294.jpg</td>\n",
              "      <td>221.000000</td>\n",
              "      <td>157.000000</td>\n",
              "      <td>34.000000</td>\n",
              "      <td>57.000000</td>\n",
              "      <td>16</td>\n",
              "    </tr>\n",
              "    <tr>\n",
              "      <th>135020</th>\n",
              "      <td>dog-toy2295.jpg</td>\n",
              "      <td>219.000000</td>\n",
              "      <td>164.000000</td>\n",
              "      <td>34.000000</td>\n",
              "      <td>57.000000</td>\n",
              "      <td>16</td>\n",
              "    </tr>\n",
              "    <tr>\n",
              "      <th>135021</th>\n",
              "      <td>dog-toy2296.jpg</td>\n",
              "      <td>217.000000</td>\n",
              "      <td>170.000000</td>\n",
              "      <td>34.000000</td>\n",
              "      <td>58.000000</td>\n",
              "      <td>16</td>\n",
              "    </tr>\n",
              "  </tbody>\n",
              "</table>\n",
              "<p>135022 rows × 6 columns</p>\n",
              "</div>"
            ],
            "text/plain": [
              "                     id           x           y           w           h  label\n",
              "0         015601864.jpg  653.204915  221.000000    7.795085   10.000000      1\n",
              "1         015601864.jpg  584.734004  269.000000   62.531992  125.000000      1\n",
              "2         015601864.jpg  638.038276  188.000000   22.961724   33.000000      2\n",
              "3         015601864.jpg  549.408423  185.000000   66.591577   84.000000      2\n",
              "4         015601864.jpg  573.000000  136.911589  119.000000   60.176823      3\n",
              "...                 ...         ...         ...         ...         ...    ...\n",
              "135017  dog-toy2292.jpg  225.000000  145.000000   34.000000   56.000000     16\n",
              "135018  dog-toy2293.jpg  223.000000  151.000000   34.000000   56.000000     16\n",
              "135019  dog-toy2294.jpg  221.000000  157.000000   34.000000   57.000000     16\n",
              "135020  dog-toy2295.jpg  219.000000  164.000000   34.000000   57.000000     16\n",
              "135021  dog-toy2296.jpg  217.000000  170.000000   34.000000   58.000000     16\n",
              "\n",
              "[135022 rows x 6 columns]"
            ]
          },
          "metadata": {
            "tags": []
          },
          "execution_count": 27
        }
      ]
    },
    {
      "cell_type": "markdown",
      "metadata": {
        "id": "ZcNjV1lRkQPF"
      },
      "source": [
        "Combine the image folders."
      ]
    },
    {
      "cell_type": "code",
      "metadata": {
        "id": "54Ix3dG8kSl8"
      },
      "source": [
        "!mkdir images_full"
      ],
      "execution_count": 28,
      "outputs": []
    },
    {
      "cell_type": "code",
      "metadata": {
        "id": "xxBrhaqIkWwm"
      },
      "source": [
        "for fn in os.listdir('images_data'):\n",
        "  shutil.copy(f'images_data/{fn}', f'images_full/{fn}')\n",
        "for fn in os.listdir('images_2'):\n",
        "  shutil.copy(f'images_2/{fn}', f'images_full/{fn}')"
      ],
      "execution_count": 29,
      "outputs": []
    },
    {
      "cell_type": "code",
      "metadata": {
        "colab": {
          "base_uri": "https://localhost:8080/"
        },
        "id": "ovYO-zh5lPTB",
        "outputId": "eccc2165-74ee-496c-9146-0a85c1c585b6"
      },
      "source": [
        "print(len(os.listdir('images_full')))\n",
        "print(len(dataset_comb['id'].unique()))"
      ],
      "execution_count": 30,
      "outputs": [
        {
          "output_type": "stream",
          "text": [
            "16542\n",
            "16542\n"
          ],
          "name": "stdout"
        }
      ]
    },
    {
      "cell_type": "code",
      "metadata": {
        "id": "pOKyw5_JgT0a"
      },
      "source": [
        "dataset_full = DetectionDataset(dataset_comb, 'images_full', xform)"
      ],
      "execution_count": 41,
      "outputs": []
    },
    {
      "cell_type": "markdown",
      "metadata": {
        "id": "gbzaZoGjluyQ"
      },
      "source": [
        "Now to make the actual model."
      ]
    },
    {
      "cell_type": "code",
      "metadata": {
        "id": "N9h4uHf6lo63"
      },
      "source": [
        "from torchvision.models.detection.faster_rcnn import FastRCNNPredictor\n",
        "def get_FRCNN_model(num_classes):\n",
        "  model = torchvision.models.detection.fasterrcnn_resnet50_fpn(pretrained=True)\n",
        "\n",
        "  in_features = model.roi_heads.box_predictor.cls_score.in_features\n",
        "\n",
        "  model.roi_heads.box_predictor = FastRCNNPredictor(in_features, num_classes)\n",
        "\n",
        "  return model"
      ],
      "execution_count": 32,
      "outputs": []
    },
    {
      "cell_type": "code",
      "metadata": {
        "id": "fG3H36BZl2VG"
      },
      "source": [
        "model = get_FRCNN_model(len(classes)+1) #+1 because of background being class 0"
      ],
      "execution_count": 42,
      "outputs": []
    },
    {
      "cell_type": "code",
      "metadata": {
        "id": "9KoR0wzfpe42",
        "colab": {
          "base_uri": "https://localhost:8080/"
        },
        "outputId": "f568fabc-b23b-4a36-8baf-9ac5d24955fd"
      },
      "source": [
        "device = torch.device('cuda:0')\n",
        "model.to(device)"
      ],
      "execution_count": 43,
      "outputs": [
        {
          "output_type": "execute_result",
          "data": {
            "text/plain": [
              "FasterRCNN(\n",
              "  (transform): GeneralizedRCNNTransform(\n",
              "      Normalize(mean=[0.485, 0.456, 0.406], std=[0.229, 0.224, 0.225])\n",
              "      Resize(min_size=(800,), max_size=1333, mode='bilinear')\n",
              "  )\n",
              "  (backbone): BackboneWithFPN(\n",
              "    (body): IntermediateLayerGetter(\n",
              "      (conv1): Conv2d(3, 64, kernel_size=(7, 7), stride=(2, 2), padding=(3, 3), bias=False)\n",
              "      (bn1): FrozenBatchNorm2d(64, eps=0.0)\n",
              "      (relu): ReLU(inplace=True)\n",
              "      (maxpool): MaxPool2d(kernel_size=3, stride=2, padding=1, dilation=1, ceil_mode=False)\n",
              "      (layer1): Sequential(\n",
              "        (0): Bottleneck(\n",
              "          (conv1): Conv2d(64, 64, kernel_size=(1, 1), stride=(1, 1), bias=False)\n",
              "          (bn1): FrozenBatchNorm2d(64, eps=0.0)\n",
              "          (conv2): Conv2d(64, 64, kernel_size=(3, 3), stride=(1, 1), padding=(1, 1), bias=False)\n",
              "          (bn2): FrozenBatchNorm2d(64, eps=0.0)\n",
              "          (conv3): Conv2d(64, 256, kernel_size=(1, 1), stride=(1, 1), bias=False)\n",
              "          (bn3): FrozenBatchNorm2d(256, eps=0.0)\n",
              "          (relu): ReLU(inplace=True)\n",
              "          (downsample): Sequential(\n",
              "            (0): Conv2d(64, 256, kernel_size=(1, 1), stride=(1, 1), bias=False)\n",
              "            (1): FrozenBatchNorm2d(256, eps=0.0)\n",
              "          )\n",
              "        )\n",
              "        (1): Bottleneck(\n",
              "          (conv1): Conv2d(256, 64, kernel_size=(1, 1), stride=(1, 1), bias=False)\n",
              "          (bn1): FrozenBatchNorm2d(64, eps=0.0)\n",
              "          (conv2): Conv2d(64, 64, kernel_size=(3, 3), stride=(1, 1), padding=(1, 1), bias=False)\n",
              "          (bn2): FrozenBatchNorm2d(64, eps=0.0)\n",
              "          (conv3): Conv2d(64, 256, kernel_size=(1, 1), stride=(1, 1), bias=False)\n",
              "          (bn3): FrozenBatchNorm2d(256, eps=0.0)\n",
              "          (relu): ReLU(inplace=True)\n",
              "        )\n",
              "        (2): Bottleneck(\n",
              "          (conv1): Conv2d(256, 64, kernel_size=(1, 1), stride=(1, 1), bias=False)\n",
              "          (bn1): FrozenBatchNorm2d(64, eps=0.0)\n",
              "          (conv2): Conv2d(64, 64, kernel_size=(3, 3), stride=(1, 1), padding=(1, 1), bias=False)\n",
              "          (bn2): FrozenBatchNorm2d(64, eps=0.0)\n",
              "          (conv3): Conv2d(64, 256, kernel_size=(1, 1), stride=(1, 1), bias=False)\n",
              "          (bn3): FrozenBatchNorm2d(256, eps=0.0)\n",
              "          (relu): ReLU(inplace=True)\n",
              "        )\n",
              "      )\n",
              "      (layer2): Sequential(\n",
              "        (0): Bottleneck(\n",
              "          (conv1): Conv2d(256, 128, kernel_size=(1, 1), stride=(1, 1), bias=False)\n",
              "          (bn1): FrozenBatchNorm2d(128, eps=0.0)\n",
              "          (conv2): Conv2d(128, 128, kernel_size=(3, 3), stride=(2, 2), padding=(1, 1), bias=False)\n",
              "          (bn2): FrozenBatchNorm2d(128, eps=0.0)\n",
              "          (conv3): Conv2d(128, 512, kernel_size=(1, 1), stride=(1, 1), bias=False)\n",
              "          (bn3): FrozenBatchNorm2d(512, eps=0.0)\n",
              "          (relu): ReLU(inplace=True)\n",
              "          (downsample): Sequential(\n",
              "            (0): Conv2d(256, 512, kernel_size=(1, 1), stride=(2, 2), bias=False)\n",
              "            (1): FrozenBatchNorm2d(512, eps=0.0)\n",
              "          )\n",
              "        )\n",
              "        (1): Bottleneck(\n",
              "          (conv1): Conv2d(512, 128, kernel_size=(1, 1), stride=(1, 1), bias=False)\n",
              "          (bn1): FrozenBatchNorm2d(128, eps=0.0)\n",
              "          (conv2): Conv2d(128, 128, kernel_size=(3, 3), stride=(1, 1), padding=(1, 1), bias=False)\n",
              "          (bn2): FrozenBatchNorm2d(128, eps=0.0)\n",
              "          (conv3): Conv2d(128, 512, kernel_size=(1, 1), stride=(1, 1), bias=False)\n",
              "          (bn3): FrozenBatchNorm2d(512, eps=0.0)\n",
              "          (relu): ReLU(inplace=True)\n",
              "        )\n",
              "        (2): Bottleneck(\n",
              "          (conv1): Conv2d(512, 128, kernel_size=(1, 1), stride=(1, 1), bias=False)\n",
              "          (bn1): FrozenBatchNorm2d(128, eps=0.0)\n",
              "          (conv2): Conv2d(128, 128, kernel_size=(3, 3), stride=(1, 1), padding=(1, 1), bias=False)\n",
              "          (bn2): FrozenBatchNorm2d(128, eps=0.0)\n",
              "          (conv3): Conv2d(128, 512, kernel_size=(1, 1), stride=(1, 1), bias=False)\n",
              "          (bn3): FrozenBatchNorm2d(512, eps=0.0)\n",
              "          (relu): ReLU(inplace=True)\n",
              "        )\n",
              "        (3): Bottleneck(\n",
              "          (conv1): Conv2d(512, 128, kernel_size=(1, 1), stride=(1, 1), bias=False)\n",
              "          (bn1): FrozenBatchNorm2d(128, eps=0.0)\n",
              "          (conv2): Conv2d(128, 128, kernel_size=(3, 3), stride=(1, 1), padding=(1, 1), bias=False)\n",
              "          (bn2): FrozenBatchNorm2d(128, eps=0.0)\n",
              "          (conv3): Conv2d(128, 512, kernel_size=(1, 1), stride=(1, 1), bias=False)\n",
              "          (bn3): FrozenBatchNorm2d(512, eps=0.0)\n",
              "          (relu): ReLU(inplace=True)\n",
              "        )\n",
              "      )\n",
              "      (layer3): Sequential(\n",
              "        (0): Bottleneck(\n",
              "          (conv1): Conv2d(512, 256, kernel_size=(1, 1), stride=(1, 1), bias=False)\n",
              "          (bn1): FrozenBatchNorm2d(256, eps=0.0)\n",
              "          (conv2): Conv2d(256, 256, kernel_size=(3, 3), stride=(2, 2), padding=(1, 1), bias=False)\n",
              "          (bn2): FrozenBatchNorm2d(256, eps=0.0)\n",
              "          (conv3): Conv2d(256, 1024, kernel_size=(1, 1), stride=(1, 1), bias=False)\n",
              "          (bn3): FrozenBatchNorm2d(1024, eps=0.0)\n",
              "          (relu): ReLU(inplace=True)\n",
              "          (downsample): Sequential(\n",
              "            (0): Conv2d(512, 1024, kernel_size=(1, 1), stride=(2, 2), bias=False)\n",
              "            (1): FrozenBatchNorm2d(1024, eps=0.0)\n",
              "          )\n",
              "        )\n",
              "        (1): Bottleneck(\n",
              "          (conv1): Conv2d(1024, 256, kernel_size=(1, 1), stride=(1, 1), bias=False)\n",
              "          (bn1): FrozenBatchNorm2d(256, eps=0.0)\n",
              "          (conv2): Conv2d(256, 256, kernel_size=(3, 3), stride=(1, 1), padding=(1, 1), bias=False)\n",
              "          (bn2): FrozenBatchNorm2d(256, eps=0.0)\n",
              "          (conv3): Conv2d(256, 1024, kernel_size=(1, 1), stride=(1, 1), bias=False)\n",
              "          (bn3): FrozenBatchNorm2d(1024, eps=0.0)\n",
              "          (relu): ReLU(inplace=True)\n",
              "        )\n",
              "        (2): Bottleneck(\n",
              "          (conv1): Conv2d(1024, 256, kernel_size=(1, 1), stride=(1, 1), bias=False)\n",
              "          (bn1): FrozenBatchNorm2d(256, eps=0.0)\n",
              "          (conv2): Conv2d(256, 256, kernel_size=(3, 3), stride=(1, 1), padding=(1, 1), bias=False)\n",
              "          (bn2): FrozenBatchNorm2d(256, eps=0.0)\n",
              "          (conv3): Conv2d(256, 1024, kernel_size=(1, 1), stride=(1, 1), bias=False)\n",
              "          (bn3): FrozenBatchNorm2d(1024, eps=0.0)\n",
              "          (relu): ReLU(inplace=True)\n",
              "        )\n",
              "        (3): Bottleneck(\n",
              "          (conv1): Conv2d(1024, 256, kernel_size=(1, 1), stride=(1, 1), bias=False)\n",
              "          (bn1): FrozenBatchNorm2d(256, eps=0.0)\n",
              "          (conv2): Conv2d(256, 256, kernel_size=(3, 3), stride=(1, 1), padding=(1, 1), bias=False)\n",
              "          (bn2): FrozenBatchNorm2d(256, eps=0.0)\n",
              "          (conv3): Conv2d(256, 1024, kernel_size=(1, 1), stride=(1, 1), bias=False)\n",
              "          (bn3): FrozenBatchNorm2d(1024, eps=0.0)\n",
              "          (relu): ReLU(inplace=True)\n",
              "        )\n",
              "        (4): Bottleneck(\n",
              "          (conv1): Conv2d(1024, 256, kernel_size=(1, 1), stride=(1, 1), bias=False)\n",
              "          (bn1): FrozenBatchNorm2d(256, eps=0.0)\n",
              "          (conv2): Conv2d(256, 256, kernel_size=(3, 3), stride=(1, 1), padding=(1, 1), bias=False)\n",
              "          (bn2): FrozenBatchNorm2d(256, eps=0.0)\n",
              "          (conv3): Conv2d(256, 1024, kernel_size=(1, 1), stride=(1, 1), bias=False)\n",
              "          (bn3): FrozenBatchNorm2d(1024, eps=0.0)\n",
              "          (relu): ReLU(inplace=True)\n",
              "        )\n",
              "        (5): Bottleneck(\n",
              "          (conv1): Conv2d(1024, 256, kernel_size=(1, 1), stride=(1, 1), bias=False)\n",
              "          (bn1): FrozenBatchNorm2d(256, eps=0.0)\n",
              "          (conv2): Conv2d(256, 256, kernel_size=(3, 3), stride=(1, 1), padding=(1, 1), bias=False)\n",
              "          (bn2): FrozenBatchNorm2d(256, eps=0.0)\n",
              "          (conv3): Conv2d(256, 1024, kernel_size=(1, 1), stride=(1, 1), bias=False)\n",
              "          (bn3): FrozenBatchNorm2d(1024, eps=0.0)\n",
              "          (relu): ReLU(inplace=True)\n",
              "        )\n",
              "      )\n",
              "      (layer4): Sequential(\n",
              "        (0): Bottleneck(\n",
              "          (conv1): Conv2d(1024, 512, kernel_size=(1, 1), stride=(1, 1), bias=False)\n",
              "          (bn1): FrozenBatchNorm2d(512, eps=0.0)\n",
              "          (conv2): Conv2d(512, 512, kernel_size=(3, 3), stride=(2, 2), padding=(1, 1), bias=False)\n",
              "          (bn2): FrozenBatchNorm2d(512, eps=0.0)\n",
              "          (conv3): Conv2d(512, 2048, kernel_size=(1, 1), stride=(1, 1), bias=False)\n",
              "          (bn3): FrozenBatchNorm2d(2048, eps=0.0)\n",
              "          (relu): ReLU(inplace=True)\n",
              "          (downsample): Sequential(\n",
              "            (0): Conv2d(1024, 2048, kernel_size=(1, 1), stride=(2, 2), bias=False)\n",
              "            (1): FrozenBatchNorm2d(2048, eps=0.0)\n",
              "          )\n",
              "        )\n",
              "        (1): Bottleneck(\n",
              "          (conv1): Conv2d(2048, 512, kernel_size=(1, 1), stride=(1, 1), bias=False)\n",
              "          (bn1): FrozenBatchNorm2d(512, eps=0.0)\n",
              "          (conv2): Conv2d(512, 512, kernel_size=(3, 3), stride=(1, 1), padding=(1, 1), bias=False)\n",
              "          (bn2): FrozenBatchNorm2d(512, eps=0.0)\n",
              "          (conv3): Conv2d(512, 2048, kernel_size=(1, 1), stride=(1, 1), bias=False)\n",
              "          (bn3): FrozenBatchNorm2d(2048, eps=0.0)\n",
              "          (relu): ReLU(inplace=True)\n",
              "        )\n",
              "        (2): Bottleneck(\n",
              "          (conv1): Conv2d(2048, 512, kernel_size=(1, 1), stride=(1, 1), bias=False)\n",
              "          (bn1): FrozenBatchNorm2d(512, eps=0.0)\n",
              "          (conv2): Conv2d(512, 512, kernel_size=(3, 3), stride=(1, 1), padding=(1, 1), bias=False)\n",
              "          (bn2): FrozenBatchNorm2d(512, eps=0.0)\n",
              "          (conv3): Conv2d(512, 2048, kernel_size=(1, 1), stride=(1, 1), bias=False)\n",
              "          (bn3): FrozenBatchNorm2d(2048, eps=0.0)\n",
              "          (relu): ReLU(inplace=True)\n",
              "        )\n",
              "      )\n",
              "    )\n",
              "    (fpn): FeaturePyramidNetwork(\n",
              "      (inner_blocks): ModuleList(\n",
              "        (0): Conv2d(256, 256, kernel_size=(1, 1), stride=(1, 1))\n",
              "        (1): Conv2d(512, 256, kernel_size=(1, 1), stride=(1, 1))\n",
              "        (2): Conv2d(1024, 256, kernel_size=(1, 1), stride=(1, 1))\n",
              "        (3): Conv2d(2048, 256, kernel_size=(1, 1), stride=(1, 1))\n",
              "      )\n",
              "      (layer_blocks): ModuleList(\n",
              "        (0): Conv2d(256, 256, kernel_size=(3, 3), stride=(1, 1), padding=(1, 1))\n",
              "        (1): Conv2d(256, 256, kernel_size=(3, 3), stride=(1, 1), padding=(1, 1))\n",
              "        (2): Conv2d(256, 256, kernel_size=(3, 3), stride=(1, 1), padding=(1, 1))\n",
              "        (3): Conv2d(256, 256, kernel_size=(3, 3), stride=(1, 1), padding=(1, 1))\n",
              "      )\n",
              "      (extra_blocks): LastLevelMaxPool()\n",
              "    )\n",
              "  )\n",
              "  (rpn): RegionProposalNetwork(\n",
              "    (anchor_generator): AnchorGenerator()\n",
              "    (head): RPNHead(\n",
              "      (conv): Conv2d(256, 256, kernel_size=(3, 3), stride=(1, 1), padding=(1, 1))\n",
              "      (cls_logits): Conv2d(256, 3, kernel_size=(1, 1), stride=(1, 1))\n",
              "      (bbox_pred): Conv2d(256, 12, kernel_size=(1, 1), stride=(1, 1))\n",
              "    )\n",
              "  )\n",
              "  (roi_heads): RoIHeads(\n",
              "    (box_roi_pool): MultiScaleRoIAlign(featmap_names=['0', '1', '2', '3'], output_size=(7, 7), sampling_ratio=2)\n",
              "    (box_head): TwoMLPHead(\n",
              "      (fc6): Linear(in_features=12544, out_features=1024, bias=True)\n",
              "      (fc7): Linear(in_features=1024, out_features=1024, bias=True)\n",
              "    )\n",
              "    (box_predictor): FastRCNNPredictor(\n",
              "      (cls_score): Linear(in_features=1024, out_features=17, bias=True)\n",
              "      (bbox_pred): Linear(in_features=1024, out_features=68, bias=True)\n",
              "    )\n",
              "  )\n",
              ")"
            ]
          },
          "metadata": {
            "tags": []
          },
          "execution_count": 43
        }
      ]
    },
    {
      "cell_type": "code",
      "metadata": {
        "id": "x4WxCAkomid4"
      },
      "source": [
        "n_all = len(dataset_full)\n",
        "n_used = int(1 * n_all)\n",
        "n_train = int(0.8 * n_used)\n",
        "n_test = n_used - n_train\n",
        "rng = torch.Generator().manual_seed(291)\n"
      ],
      "execution_count": 44,
      "outputs": []
    },
    {
      "cell_type": "code",
      "metadata": {
        "id": "4JBo8pY_oS3p"
      },
      "source": [
        "#Note, dataset 1 is much larger than 2 so the split is likely very imbalanced. Look into later.\n",
        "dataset_train, dataset_test, _ = torch.utils.data.random_split(dataset_full, [n_train, n_test, n_all-n_train-n_test], rng)"
      ],
      "execution_count": 45,
      "outputs": []
    },
    {
      "cell_type": "code",
      "metadata": {
        "id": "sP1ns6gyo9vn"
      },
      "source": [
        "#Annoying problem with batch_size where batch_size > 1 won't work because there are different # of detections in each image and tensors can't be stacked\n",
        "loader_train = torch.utils.data.DataLoader(dataset_train, batch_size=1, shuffle=True, collate_fn=utils.collate_fn)\n",
        "loader_test = torch.utils.data.DataLoader(dataset_test, batch_size=1, shuffle=False, collate_fn=utils.collate_fn)"
      ],
      "execution_count": 46,
      "outputs": []
    },
    {
      "cell_type": "code",
      "metadata": {
        "id": "vQFGwMupsIPR"
      },
      "source": [
        "params = [p for p in model.parameters() if p.requires_grad]\n",
        "optimizer = torch.optim.SGD(params, lr=0.005, momentum=0.9, weight_decay=0.0005)\n",
        "scheduler = torch.optim.lr_scheduler.StepLR(optimizer, step_size=3, gamma=0.1)"
      ],
      "execution_count": 47,
      "outputs": []
    },
    {
      "cell_type": "markdown",
      "metadata": {
        "id": "xEaatE8Rs4y4"
      },
      "source": [
        "Finally, training."
      ]
    },
    {
      "cell_type": "code",
      "metadata": {
        "id": "VwuQRGXzrv6V"
      },
      "source": [
        "from engine import train_one_epoch, evaluate"
      ],
      "execution_count": 39,
      "outputs": []
    },
    {
      "cell_type": "code",
      "metadata": {
        "colab": {
          "base_uri": "https://localhost:8080/",
          "height": 1000
        },
        "id": "OAZy8aYKs_Hi",
        "outputId": "98f17d42-cb68-41b7-989c-7ae3f3019fbb"
      },
      "source": [
        "num_epochs = 5\n",
        "\n",
        "for epoch in range(num_epochs):\n",
        "  train_one_epoch(model, optimizer, loader_train, device, epoch, print_freq=1000)\n",
        "  scheduler.step()\n",
        "  evaluate(model, loader_test, device=device)"
      ],
      "execution_count": 48,
      "outputs": [
        {
          "output_type": "stream",
          "text": [
            "Epoch: [0]  [    0/13233]  eta: 1:34:28  lr: 0.000010  loss: 3.5608 (3.5608)  loss_classifier: 3.4423 (3.4423)  loss_box_reg: 0.0568 (0.0568)  loss_objectness: 0.0505 (0.0505)  loss_rpn_box_reg: 0.0111 (0.0111)  time: 0.4283  data: 0.0370  max mem: 2408\n",
            "Epoch: [0]  [ 1000/13233]  eta: 1:09:25  lr: 0.005000  loss: 1.0737 (0.9555)  loss_classifier: 0.3905 (0.4422)  loss_box_reg: 0.4040 (0.3432)  loss_objectness: 0.0737 (0.1136)  loss_rpn_box_reg: 0.0261 (0.0565)  time: 0.3438  data: 0.0292  max mem: 2412\n",
            "Epoch: [0]  [ 2000/13233]  eta: 1:03:42  lr: 0.005000  loss: 1.1473 (0.8836)  loss_classifier: 0.4654 (0.3893)  loss_box_reg: 0.5054 (0.3451)  loss_objectness: 0.0610 (0.0956)  loss_rpn_box_reg: 0.0405 (0.0536)  time: 0.3450  data: 0.0321  max mem: 2412\n",
            "Epoch: [0]  [ 3000/13233]  eta: 0:58:02  lr: 0.005000  loss: 0.3859 (0.8478)  loss_classifier: 0.2473 (0.3663)  loss_box_reg: 0.1641 (0.3393)  loss_objectness: 0.0342 (0.0906)  loss_rpn_box_reg: 0.0064 (0.0515)  time: 0.3378  data: 0.0246  max mem: 2483\n",
            "Epoch: [0]  [ 4000/13233]  eta: 0:52:23  lr: 0.005000  loss: 0.3371 (0.8330)  loss_classifier: 0.1919 (0.3548)  loss_box_reg: 0.0863 (0.3412)  loss_objectness: 0.0427 (0.0864)  loss_rpn_box_reg: 0.0091 (0.0506)  time: 0.3387  data: 0.0264  max mem: 2713\n",
            "Epoch: [0]  [ 5000/13233]  eta: 0:46:37  lr: 0.005000  loss: 0.7123 (0.8143)  loss_classifier: 0.3152 (0.3441)  loss_box_reg: 0.3392 (0.3393)  loss_objectness: 0.0471 (0.0822)  loss_rpn_box_reg: 0.0194 (0.0487)  time: 0.3365  data: 0.0278  max mem: 2722\n",
            "Epoch: [0]  [ 6000/13233]  eta: 0:40:54  lr: 0.005000  loss: 0.6359 (0.8052)  loss_classifier: 0.2715 (0.3369)  loss_box_reg: 0.2272 (0.3401)  loss_objectness: 0.0307 (0.0796)  loss_rpn_box_reg: 0.0050 (0.0486)  time: 0.3386  data: 0.0290  max mem: 2722\n",
            "Epoch: [0]  [ 7000/13233]  eta: 0:35:12  lr: 0.005000  loss: 0.8708 (0.7922)  loss_classifier: 0.3467 (0.3297)  loss_box_reg: 0.5208 (0.3375)  loss_objectness: 0.0402 (0.0774)  loss_rpn_box_reg: 0.0220 (0.0477)  time: 0.3391  data: 0.0290  max mem: 2722\n",
            "Epoch: [0]  [ 8000/13233]  eta: 0:29:32  lr: 0.005000  loss: 0.2783 (0.7888)  loss_classifier: 0.1577 (0.3260)  loss_box_reg: 0.1115 (0.3393)  loss_objectness: 0.0311 (0.0761)  loss_rpn_box_reg: 0.0027 (0.0475)  time: 0.3386  data: 0.0287  max mem: 2722\n",
            "Epoch: [0]  [ 9000/13233]  eta: 0:23:52  lr: 0.005000  loss: 0.2537 (0.7800)  loss_classifier: 0.1210 (0.3206)  loss_box_reg: 0.0940 (0.3379)  loss_objectness: 0.0316 (0.0742)  loss_rpn_box_reg: 0.0031 (0.0472)  time: 0.3332  data: 0.0235  max mem: 2722\n",
            "Epoch: [0]  [10000/13233]  eta: 0:18:13  lr: 0.005000  loss: 0.6622 (0.7733)  loss_classifier: 0.2215 (0.3164)  loss_box_reg: 0.3996 (0.3373)  loss_objectness: 0.0294 (0.0726)  loss_rpn_box_reg: 0.0144 (0.0470)  time: 0.3393  data: 0.0287  max mem: 2722\n",
            "Epoch: [0]  [11000/13233]  eta: 0:12:35  lr: 0.005000  loss: 0.7961 (0.7715)  loss_classifier: 0.3047 (0.3148)  loss_box_reg: 0.4409 (0.3384)  loss_objectness: 0.0332 (0.0714)  loss_rpn_box_reg: 0.0197 (0.0470)  time: 0.3420  data: 0.0274  max mem: 2722\n",
            "Epoch: [0]  [12000/13233]  eta: 0:06:57  lr: 0.005000  loss: 0.9760 (0.7675)  loss_classifier: 0.2875 (0.3125)  loss_box_reg: 0.2722 (0.3375)  loss_objectness: 0.0540 (0.0708)  loss_rpn_box_reg: 0.0257 (0.0467)  time: 0.3445  data: 0.0296  max mem: 2722\n",
            "Epoch: [0]  [13000/13233]  eta: 0:01:18  lr: 0.005000  loss: 0.6123 (0.7630)  loss_classifier: 0.2635 (0.3098)  loss_box_reg: 0.2613 (0.3370)  loss_objectness: 0.0525 (0.0700)  loss_rpn_box_reg: 0.0078 (0.0462)  time: 0.3431  data: 0.0291  max mem: 2722\n",
            "Epoch: [0]  [13232/13233]  eta: 0:00:00  lr: 0.005000  loss: 0.8990 (0.7626)  loss_classifier: 0.2693 (0.3094)  loss_box_reg: 0.4412 (0.3372)  loss_objectness: 0.0418 (0.0697)  loss_rpn_box_reg: 0.0164 (0.0463)  time: 0.3428  data: 0.0290  max mem: 2722\n",
            "Epoch: [0] Total time: 1:14:40 (0.3386 s / it)\n",
            "creating index...\n",
            "index created!\n",
            "Test:  [   0/3309]  eta: 0:14:22  model_time: 0.1921 (0.1921)  evaluator_time: 0.0194 (0.0194)  time: 0.2606  data: 0.0483  max mem: 2722\n",
            "Test:  [ 100/3309]  eta: 0:09:05  model_time: 0.1339 (0.1321)  evaluator_time: 0.0097 (0.0116)  time: 0.1694  data: 0.0238  max mem: 2722\n",
            "Test:  [ 200/3309]  eta: 0:08:57  model_time: 0.1311 (0.1329)  evaluator_time: 0.0121 (0.0136)  time: 0.1748  data: 0.0298  max mem: 2722\n",
            "Test:  [ 300/3309]  eta: 0:08:38  model_time: 0.1287 (0.1320)  evaluator_time: 0.0127 (0.0131)  time: 0.1711  data: 0.0300  max mem: 2722\n",
            "Test:  [ 400/3309]  eta: 0:08:14  model_time: 0.1274 (0.1310)  evaluator_time: 0.0120 (0.0128)  time: 0.1634  data: 0.0225  max mem: 2722\n",
            "Test:  [ 500/3309]  eta: 0:07:56  model_time: 0.1288 (0.1305)  evaluator_time: 0.0115 (0.0127)  time: 0.1734  data: 0.0310  max mem: 2722\n",
            "Test:  [ 600/3309]  eta: 0:07:39  model_time: 0.1309 (0.1305)  evaluator_time: 0.0119 (0.0126)  time: 0.1760  data: 0.0316  max mem: 2722\n",
            "Test:  [ 700/3309]  eta: 0:07:22  model_time: 0.1308 (0.1305)  evaluator_time: 0.0099 (0.0125)  time: 0.1703  data: 0.0271  max mem: 2722\n",
            "Test:  [ 800/3309]  eta: 0:07:05  model_time: 0.1295 (0.1304)  evaluator_time: 0.0128 (0.0125)  time: 0.1728  data: 0.0284  max mem: 2722\n",
            "Test:  [ 900/3309]  eta: 0:06:47  model_time: 0.1282 (0.1303)  evaluator_time: 0.0120 (0.0124)  time: 0.1674  data: 0.0250  max mem: 2722\n",
            "Test:  [1000/3309]  eta: 0:06:30  model_time: 0.1289 (0.1302)  evaluator_time: 0.0126 (0.0125)  time: 0.1745  data: 0.0309  max mem: 2722\n",
            "Test:  [1100/3309]  eta: 0:06:13  model_time: 0.1293 (0.1301)  evaluator_time: 0.0112 (0.0125)  time: 0.1671  data: 0.0258  max mem: 2722\n",
            "Test:  [1200/3309]  eta: 0:05:56  model_time: 0.1298 (0.1300)  evaluator_time: 0.0086 (0.0124)  time: 0.1645  data: 0.0235  max mem: 2722\n",
            "Test:  [1300/3309]  eta: 0:05:39  model_time: 0.1301 (0.1300)  evaluator_time: 0.0105 (0.0123)  time: 0.1636  data: 0.0222  max mem: 2722\n",
            "Test:  [1400/3309]  eta: 0:05:22  model_time: 0.1297 (0.1300)  evaluator_time: 0.0101 (0.0124)  time: 0.1683  data: 0.0253  max mem: 2722\n",
            "Test:  [1500/3309]  eta: 0:05:05  model_time: 0.1293 (0.1300)  evaluator_time: 0.0082 (0.0123)  time: 0.1609  data: 0.0211  max mem: 2722\n",
            "Test:  [1600/3309]  eta: 0:04:48  model_time: 0.1293 (0.1300)  evaluator_time: 0.0113 (0.0123)  time: 0.1744  data: 0.0318  max mem: 2722\n",
            "Test:  [1700/3309]  eta: 0:04:31  model_time: 0.1289 (0.1300)  evaluator_time: 0.0091 (0.0123)  time: 0.1660  data: 0.0222  max mem: 2722\n",
            "Test:  [1800/3309]  eta: 0:04:14  model_time: 0.1296 (0.1300)  evaluator_time: 0.0087 (0.0123)  time: 0.1636  data: 0.0226  max mem: 2722\n",
            "Test:  [1900/3309]  eta: 0:03:57  model_time: 0.1299 (0.1300)  evaluator_time: 0.0088 (0.0122)  time: 0.1632  data: 0.0219  max mem: 2722\n",
            "Test:  [2000/3309]  eta: 0:03:40  model_time: 0.1293 (0.1300)  evaluator_time: 0.0121 (0.0122)  time: 0.1691  data: 0.0260  max mem: 2722\n",
            "Test:  [2100/3309]  eta: 0:03:23  model_time: 0.1300 (0.1299)  evaluator_time: 0.0102 (0.0122)  time: 0.1657  data: 0.0244  max mem: 2722\n",
            "Test:  [2200/3309]  eta: 0:03:06  model_time: 0.1289 (0.1299)  evaluator_time: 0.0105 (0.0122)  time: 0.1664  data: 0.0233  max mem: 2722\n",
            "Test:  [2300/3309]  eta: 0:02:49  model_time: 0.1292 (0.1299)  evaluator_time: 0.0136 (0.0122)  time: 0.1677  data: 0.0248  max mem: 2722\n",
            "Test:  [2400/3309]  eta: 0:02:32  model_time: 0.1296 (0.1299)  evaluator_time: 0.0097 (0.0122)  time: 0.1697  data: 0.0268  max mem: 2722\n",
            "Test:  [2500/3309]  eta: 0:02:16  model_time: 0.1297 (0.1299)  evaluator_time: 0.0100 (0.0122)  time: 0.1659  data: 0.0232  max mem: 2722\n",
            "Test:  [2600/3309]  eta: 0:01:59  model_time: 0.1301 (0.1299)  evaluator_time: 0.0139 (0.0122)  time: 0.1691  data: 0.0246  max mem: 2722\n",
            "Test:  [2700/3309]  eta: 0:01:42  model_time: 0.1294 (0.1299)  evaluator_time: 0.0084 (0.0122)  time: 0.1632  data: 0.0233  max mem: 2722\n",
            "Test:  [2800/3309]  eta: 0:01:25  model_time: 0.1298 (0.1299)  evaluator_time: 0.0114 (0.0122)  time: 0.1757  data: 0.0329  max mem: 2722\n",
            "Test:  [2900/3309]  eta: 0:01:08  model_time: 0.1301 (0.1299)  evaluator_time: 0.0083 (0.0122)  time: 0.1638  data: 0.0212  max mem: 2722\n",
            "Test:  [3000/3309]  eta: 0:00:52  model_time: 0.1298 (0.1299)  evaluator_time: 0.0093 (0.0123)  time: 0.1599  data: 0.0200  max mem: 2722\n",
            "Test:  [3100/3309]  eta: 0:00:35  model_time: 0.1300 (0.1299)  evaluator_time: 0.0111 (0.0123)  time: 0.1673  data: 0.0245  max mem: 2722\n",
            "Test:  [3200/3309]  eta: 0:00:18  model_time: 0.1293 (0.1299)  evaluator_time: 0.0119 (0.0123)  time: 0.1694  data: 0.0272  max mem: 2722\n",
            "Test:  [3300/3309]  eta: 0:00:01  model_time: 0.1308 (0.1299)  evaluator_time: 0.0105 (0.0122)  time: 0.1653  data: 0.0221  max mem: 2722\n",
            "Test:  [3308/3309]  eta: 0:00:00  model_time: 0.1310 (0.1299)  evaluator_time: 0.0117 (0.0122)  time: 0.1721  data: 0.0279  max mem: 2722\n",
            "Test: Total time: 0:09:17 (0.1685 s / it)\n",
            "Averaged stats: model_time: 0.1310 (0.1299)  evaluator_time: 0.0117 (0.0122)\n",
            "Accumulating evaluation results...\n",
            "DONE (t=3.86s).\n",
            "IoU metric: bbox\n",
            " Average Precision  (AP) @[ IoU=0.50:0.95 | area=   all | maxDets=100 ] = 0.093\n",
            " Average Precision  (AP) @[ IoU=0.50      | area=   all | maxDets=100 ] = 0.239\n",
            " Average Precision  (AP) @[ IoU=0.75      | area=   all | maxDets=100 ] = 0.051\n",
            " Average Precision  (AP) @[ IoU=0.50:0.95 | area= small | maxDets=100 ] = 0.162\n",
            " Average Precision  (AP) @[ IoU=0.50:0.95 | area=medium | maxDets=100 ] = 0.107\n",
            " Average Precision  (AP) @[ IoU=0.50:0.95 | area= large | maxDets=100 ] = 0.123\n",
            " Average Recall     (AR) @[ IoU=0.50:0.95 | area=   all | maxDets=  1 ] = 0.074\n",
            " Average Recall     (AR) @[ IoU=0.50:0.95 | area=   all | maxDets= 10 ] = 0.206\n",
            " Average Recall     (AR) @[ IoU=0.50:0.95 | area=   all | maxDets=100 ] = 0.260\n",
            " Average Recall     (AR) @[ IoU=0.50:0.95 | area= small | maxDets=100 ] = 0.263\n",
            " Average Recall     (AR) @[ IoU=0.50:0.95 | area=medium | maxDets=100 ] = 0.296\n",
            " Average Recall     (AR) @[ IoU=0.50:0.95 | area= large | maxDets=100 ] = 0.206\n",
            "Epoch: [1]  [    0/13233]  eta: 1:34:36  lr: 0.005000  loss: 1.0950 (1.0950)  loss_classifier: 0.4142 (0.4142)  loss_box_reg: 0.6095 (0.6095)  loss_objectness: 0.0360 (0.0360)  loss_rpn_box_reg: 0.0353 (0.0353)  time: 0.4290  data: 0.0335  max mem: 2722\n",
            "Epoch: [1]  [ 1000/13233]  eta: 1:09:27  lr: 0.005000  loss: 0.4230 (0.6949)  loss_classifier: 0.1970 (0.2696)  loss_box_reg: 0.2770 (0.3257)  loss_objectness: 0.0298 (0.0554)  loss_rpn_box_reg: 0.0082 (0.0443)  time: 0.3409  data: 0.0243  max mem: 2722\n",
            "Epoch: [1]  [ 2000/13233]  eta: 1:03:49  lr: 0.005000  loss: 0.8882 (0.6940)  loss_classifier: 0.2944 (0.2698)  loss_box_reg: 0.4107 (0.3276)  loss_objectness: 0.0291 (0.0523)  loss_rpn_box_reg: 0.0129 (0.0444)  time: 0.3447  data: 0.0302  max mem: 2722\n",
            "Epoch: [1]  [ 3000/13233]  eta: 0:58:11  lr: 0.005000  loss: 1.0031 (0.7000)  loss_classifier: 0.3253 (0.2713)  loss_box_reg: 0.5036 (0.3326)  loss_objectness: 0.0420 (0.0519)  loss_rpn_box_reg: 0.0238 (0.0442)  time: 0.3417  data: 0.0274  max mem: 2722\n",
            "Epoch: [1]  [ 4000/13233]  eta: 0:52:30  lr: 0.005000  loss: 0.8774 (0.7019)  loss_classifier: 0.4149 (0.2743)  loss_box_reg: 0.4312 (0.3314)  loss_objectness: 0.0738 (0.0530)  loss_rpn_box_reg: 0.0262 (0.0432)  time: 0.3489  data: 0.0324  max mem: 2722\n",
            "Epoch: [1]  [ 5000/13233]  eta: 0:46:48  lr: 0.005000  loss: 0.9182 (0.6934)  loss_classifier: 0.3086 (0.2710)  loss_box_reg: 0.4908 (0.3273)  loss_objectness: 0.0601 (0.0525)  loss_rpn_box_reg: 0.0290 (0.0426)  time: 0.3434  data: 0.0282  max mem: 2722\n",
            "Epoch: [1]  [ 6000/13233]  eta: 0:41:07  lr: 0.005000  loss: 0.7511 (0.6906)  loss_classifier: 0.2337 (0.2703)  loss_box_reg: 0.3408 (0.3267)  loss_objectness: 0.0257 (0.0520)  loss_rpn_box_reg: 0.0123 (0.0416)  time: 0.3421  data: 0.0280  max mem: 2722\n",
            "Epoch: [1]  [ 7000/13233]  eta: 0:35:25  lr: 0.005000  loss: 0.9233 (0.6924)  loss_classifier: 0.2442 (0.2707)  loss_box_reg: 0.4372 (0.3262)  loss_objectness: 0.0498 (0.0534)  loss_rpn_box_reg: 0.0248 (0.0421)  time: 0.3430  data: 0.0270  max mem: 2722\n",
            "Epoch: [1]  [ 8000/13233]  eta: 0:29:45  lr: 0.005000  loss: 0.2616 (0.6937)  loss_classifier: 0.1522 (0.2704)  loss_box_reg: 0.1075 (0.3269)  loss_objectness: 0.0210 (0.0541)  loss_rpn_box_reg: 0.0039 (0.0423)  time: 0.3389  data: 0.0231  max mem: 2722\n",
            "Epoch: [1]  [ 9000/13233]  eta: 0:24:04  lr: 0.005000  loss: 0.7874 (0.6948)  loss_classifier: 0.2054 (0.2704)  loss_box_reg: 0.3826 (0.3265)  loss_objectness: 0.0527 (0.0550)  loss_rpn_box_reg: 0.0161 (0.0429)  time: 0.3435  data: 0.0288  max mem: 2722\n",
            "Epoch: [1]  [10000/13233]  eta: 0:18:23  lr: 0.005000  loss: 0.9613 (0.6969)  loss_classifier: 0.3656 (0.2714)  loss_box_reg: 0.4701 (0.3276)  loss_objectness: 0.0304 (0.0550)  loss_rpn_box_reg: 0.0246 (0.0429)  time: 0.3434  data: 0.0292  max mem: 2722\n",
            "Epoch: [1]  [11000/13233]  eta: 0:12:42  lr: 0.005000  loss: 0.8696 (0.6968)  loss_classifier: 0.2343 (0.2713)  loss_box_reg: 0.4477 (0.3279)  loss_objectness: 0.0414 (0.0550)  loss_rpn_box_reg: 0.0143 (0.0426)  time: 0.3404  data: 0.0256  max mem: 2722\n",
            "Epoch: [1]  [12000/13233]  eta: 0:07:00  lr: 0.005000  loss: 0.8257 (0.6982)  loss_classifier: 0.2397 (0.2718)  loss_box_reg: 0.2673 (0.3286)  loss_objectness: 0.0338 (0.0550)  loss_rpn_box_reg: 0.0246 (0.0428)  time: 0.3406  data: 0.0255  max mem: 2722\n",
            "Epoch: [1]  [13000/13233]  eta: 0:01:19  lr: 0.005000  loss: 0.9348 (0.6963)  loss_classifier: 0.3428 (0.2707)  loss_box_reg: 0.4933 (0.3281)  loss_objectness: 0.0348 (0.0547)  loss_rpn_box_reg: 0.0243 (0.0428)  time: 0.3426  data: 0.0274  max mem: 2722\n",
            "Epoch: [1]  [13232/13233]  eta: 0:00:00  lr: 0.005000  loss: 0.8930 (0.6962)  loss_classifier: 0.2934 (0.2706)  loss_box_reg: 0.4229 (0.3275)  loss_objectness: 0.0486 (0.0552)  loss_rpn_box_reg: 0.0248 (0.0429)  time: 0.3441  data: 0.0288  max mem: 2722\n",
            "Epoch: [1] Total time: 1:15:15 (0.3412 s / it)\n",
            "creating index...\n",
            "index created!\n",
            "Test:  [   0/3309]  eta: 0:13:47  model_time: 0.1872 (0.1872)  evaluator_time: 0.0157 (0.0157)  time: 0.2502  data: 0.0464  max mem: 2722\n",
            "Test:  [ 100/3309]  eta: 0:08:59  model_time: 0.1309 (0.1299)  evaluator_time: 0.0099 (0.0118)  time: 0.1660  data: 0.0239  max mem: 2722\n",
            "Test:  [ 200/3309]  eta: 0:08:49  model_time: 0.1335 (0.1319)  evaluator_time: 0.0141 (0.0123)  time: 0.1788  data: 0.0299  max mem: 2722\n",
            "Test:  [ 300/3309]  eta: 0:08:34  model_time: 0.1290 (0.1315)  evaluator_time: 0.0131 (0.0125)  time: 0.1737  data: 0.0307  max mem: 2722\n",
            "Test:  [ 400/3309]  eta: 0:08:12  model_time: 0.1276 (0.1306)  evaluator_time: 0.0125 (0.0125)  time: 0.1636  data: 0.0229  max mem: 2722\n",
            "Test:  [ 500/3309]  eta: 0:07:55  model_time: 0.1297 (0.1302)  evaluator_time: 0.0122 (0.0125)  time: 0.1738  data: 0.0311  max mem: 2722\n",
            "Test:  [ 600/3309]  eta: 0:07:38  model_time: 0.1300 (0.1301)  evaluator_time: 0.0139 (0.0125)  time: 0.1770  data: 0.0319  max mem: 2722\n",
            "Test:  [ 700/3309]  eta: 0:07:22  model_time: 0.1300 (0.1300)  evaluator_time: 0.0098 (0.0131)  time: 0.1695  data: 0.0266  max mem: 2722\n",
            "Test:  [ 800/3309]  eta: 0:07:05  model_time: 0.1290 (0.1300)  evaluator_time: 0.0138 (0.0130)  time: 0.1740  data: 0.0286  max mem: 2722\n",
            "Test:  [ 900/3309]  eta: 0:06:48  model_time: 0.1292 (0.1299)  evaluator_time: 0.0092 (0.0130)  time: 0.1686  data: 0.0255  max mem: 2722\n",
            "Test:  [1000/3309]  eta: 0:06:31  model_time: 0.1294 (0.1298)  evaluator_time: 0.0137 (0.0130)  time: 0.1759  data: 0.0315  max mem: 2722\n",
            "Test:  [1100/3309]  eta: 0:06:14  model_time: 0.1294 (0.1298)  evaluator_time: 0.0114 (0.0130)  time: 0.1681  data: 0.0269  max mem: 2722\n",
            "Test:  [1200/3309]  eta: 0:05:57  model_time: 0.1292 (0.1298)  evaluator_time: 0.0095 (0.0129)  time: 0.1642  data: 0.0238  max mem: 2722\n",
            "Test:  [1300/3309]  eta: 0:05:39  model_time: 0.1287 (0.1297)  evaluator_time: 0.0088 (0.0129)  time: 0.1638  data: 0.0224  max mem: 2722\n",
            "Test:  [1400/3309]  eta: 0:05:22  model_time: 0.1298 (0.1297)  evaluator_time: 0.0123 (0.0129)  time: 0.1694  data: 0.0258  max mem: 2722\n",
            "Test:  [1500/3309]  eta: 0:05:05  model_time: 0.1294 (0.1297)  evaluator_time: 0.0084 (0.0129)  time: 0.1612  data: 0.0213  max mem: 2722\n",
            "Test:  [1600/3309]  eta: 0:04:49  model_time: 0.1298 (0.1297)  evaluator_time: 0.0101 (0.0129)  time: 0.1748  data: 0.0313  max mem: 2722\n",
            "Test:  [1700/3309]  eta: 0:04:32  model_time: 0.1292 (0.1297)  evaluator_time: 0.0106 (0.0128)  time: 0.1664  data: 0.0223  max mem: 2722\n",
            "Test:  [1800/3309]  eta: 0:04:15  model_time: 0.1296 (0.1297)  evaluator_time: 0.0076 (0.0128)  time: 0.1642  data: 0.0230  max mem: 2722\n",
            "Test:  [1900/3309]  eta: 0:03:58  model_time: 0.1298 (0.1297)  evaluator_time: 0.0093 (0.0128)  time: 0.1636  data: 0.0222  max mem: 2722\n",
            "Test:  [2000/3309]  eta: 0:03:41  model_time: 0.1297 (0.1297)  evaluator_time: 0.0116 (0.0128)  time: 0.1689  data: 0.0256  max mem: 2722\n",
            "Test:  [2100/3309]  eta: 0:03:24  model_time: 0.1300 (0.1297)  evaluator_time: 0.0083 (0.0127)  time: 0.1659  data: 0.0239  max mem: 2722\n",
            "Test:  [2200/3309]  eta: 0:03:07  model_time: 0.1293 (0.1297)  evaluator_time: 0.0106 (0.0127)  time: 0.1671  data: 0.0232  max mem: 2722\n",
            "Test:  [2300/3309]  eta: 0:02:50  model_time: 0.1298 (0.1297)  evaluator_time: 0.0141 (0.0127)  time: 0.1689  data: 0.0251  max mem: 2722\n",
            "Test:  [2400/3309]  eta: 0:02:33  model_time: 0.1300 (0.1297)  evaluator_time: 0.0083 (0.0127)  time: 0.1705  data: 0.0274  max mem: 2722\n",
            "Test:  [2500/3309]  eta: 0:02:16  model_time: 0.1290 (0.1297)  evaluator_time: 0.0104 (0.0127)  time: 0.1658  data: 0.0236  max mem: 2722\n",
            "Test:  [2600/3309]  eta: 0:01:59  model_time: 0.1291 (0.1297)  evaluator_time: 0.0141 (0.0127)  time: 0.1668  data: 0.0235  max mem: 2722\n",
            "Test:  [2700/3309]  eta: 0:01:42  model_time: 0.1290 (0.1296)  evaluator_time: 0.0085 (0.0126)  time: 0.1630  data: 0.0230  max mem: 2722\n",
            "Test:  [2800/3309]  eta: 0:01:25  model_time: 0.1291 (0.1296)  evaluator_time: 0.0113 (0.0127)  time: 0.1749  data: 0.0328  max mem: 2722\n",
            "Test:  [2900/3309]  eta: 0:01:09  model_time: 0.1299 (0.1296)  evaluator_time: 0.0088 (0.0127)  time: 0.1638  data: 0.0209  max mem: 2722\n",
            "Test:  [3000/3309]  eta: 0:00:52  model_time: 0.1292 (0.1296)  evaluator_time: 0.0086 (0.0126)  time: 0.1602  data: 0.0201  max mem: 2722\n",
            "Test:  [3100/3309]  eta: 0:00:35  model_time: 0.1298 (0.1296)  evaluator_time: 0.0125 (0.0126)  time: 0.1676  data: 0.0246  max mem: 2722\n",
            "Test:  [3200/3309]  eta: 0:00:18  model_time: 0.1297 (0.1297)  evaluator_time: 0.0123 (0.0126)  time: 0.1701  data: 0.0274  max mem: 2722\n",
            "Test:  [3300/3309]  eta: 0:00:01  model_time: 0.1310 (0.1297)  evaluator_time: 0.0091 (0.0127)  time: 0.1659  data: 0.0224  max mem: 2722\n",
            "Test:  [3308/3309]  eta: 0:00:00  model_time: 0.1310 (0.1297)  evaluator_time: 0.0092 (0.0127)  time: 0.1721  data: 0.0280  max mem: 2722\n",
            "Test: Total time: 0:09:18 (0.1688 s / it)\n",
            "Averaged stats: model_time: 0.1310 (0.1297)  evaluator_time: 0.0092 (0.0127)\n",
            "Accumulating evaluation results...\n",
            "DONE (t=4.46s).\n",
            "IoU metric: bbox\n",
            " Average Precision  (AP) @[ IoU=0.50:0.95 | area=   all | maxDets=100 ] = 0.093\n",
            " Average Precision  (AP) @[ IoU=0.50      | area=   all | maxDets=100 ] = 0.232\n",
            " Average Precision  (AP) @[ IoU=0.75      | area=   all | maxDets=100 ] = 0.056\n",
            " Average Precision  (AP) @[ IoU=0.50:0.95 | area= small | maxDets=100 ] = 0.166\n",
            " Average Precision  (AP) @[ IoU=0.50:0.95 | area=medium | maxDets=100 ] = 0.108\n",
            " Average Precision  (AP) @[ IoU=0.50:0.95 | area= large | maxDets=100 ] = 0.108\n",
            " Average Recall     (AR) @[ IoU=0.50:0.95 | area=   all | maxDets=  1 ] = 0.075\n",
            " Average Recall     (AR) @[ IoU=0.50:0.95 | area=   all | maxDets= 10 ] = 0.203\n",
            " Average Recall     (AR) @[ IoU=0.50:0.95 | area=   all | maxDets=100 ] = 0.233\n",
            " Average Recall     (AR) @[ IoU=0.50:0.95 | area= small | maxDets=100 ] = 0.264\n",
            " Average Recall     (AR) @[ IoU=0.50:0.95 | area=medium | maxDets=100 ] = 0.271\n",
            " Average Recall     (AR) @[ IoU=0.50:0.95 | area= large | maxDets=100 ] = 0.208\n",
            "Epoch: [2]  [    0/13233]  eta: 1:33:24  lr: 0.005000  loss: 1.1806 (1.1806)  loss_classifier: 0.3920 (0.3920)  loss_box_reg: 0.4773 (0.4773)  loss_objectness: 0.0564 (0.0564)  loss_rpn_box_reg: 0.2550 (0.2550)  time: 0.4235  data: 0.0397  max mem: 2722\n",
            "Epoch: [2]  [ 1000/13233]  eta: 1:09:49  lr: 0.005000  loss: 1.1486 (0.6987)  loss_classifier: 0.4013 (0.2724)  loss_box_reg: 0.5782 (0.3365)  loss_objectness: 0.0392 (0.0513)  loss_rpn_box_reg: 0.0334 (0.0386)  time: 0.3465  data: 0.0314  max mem: 2722\n",
            "Epoch: [2]  [ 2000/13233]  eta: 1:03:56  lr: 0.005000  loss: 0.2434 (0.6790)  loss_classifier: 0.1085 (0.2630)  loss_box_reg: 0.0828 (0.3255)  loss_objectness: 0.0191 (0.0497)  loss_rpn_box_reg: 0.0027 (0.0409)  time: 0.3313  data: 0.0163  max mem: 2722\n",
            "Epoch: [2]  [ 3000/13233]  eta: 0:58:13  lr: 0.005000  loss: 0.3252 (0.6747)  loss_classifier: 0.1428 (0.2612)  loss_box_reg: 0.1787 (0.3231)  loss_objectness: 0.0226 (0.0485)  loss_rpn_box_reg: 0.0030 (0.0419)  time: 0.3397  data: 0.0249  max mem: 2722\n",
            "Epoch: [2]  [ 4000/13233]  eta: 0:52:30  lr: 0.005000  loss: 0.3249 (0.6741)  loss_classifier: 0.1003 (0.2602)  loss_box_reg: 0.0238 (0.3218)  loss_objectness: 0.2236 (0.0505)  loss_rpn_box_reg: 0.0070 (0.0415)  time: 0.3350  data: 0.0202  max mem: 2722\n",
            "Epoch: [2]  [ 5000/13233]  eta: 0:46:49  lr: 0.005000  loss: 0.2738 (0.6835)  loss_classifier: 0.1529 (0.2654)  loss_box_reg: 0.1185 (0.3225)  loss_objectness: 0.0306 (0.0536)  loss_rpn_box_reg: 0.0067 (0.0421)  time: 0.3366  data: 0.0201  max mem: 2722\n",
            "Epoch: [2]  [ 6000/13233]  eta: 0:41:07  lr: 0.005000  loss: 0.3661 (0.6845)  loss_classifier: 0.1957 (0.2659)  loss_box_reg: 0.1273 (0.3219)  loss_objectness: 0.0310 (0.0544)  loss_rpn_box_reg: 0.0027 (0.0423)  time: 0.3375  data: 0.0216  max mem: 2722\n",
            "Epoch: [2]  [ 7000/13233]  eta: 0:35:25  lr: 0.005000  loss: 0.8999 (0.6824)  loss_classifier: 0.2954 (0.2650)  loss_box_reg: 0.4933 (0.3217)  loss_objectness: 0.0373 (0.0537)  loss_rpn_box_reg: 0.0216 (0.0420)  time: 0.3436  data: 0.0275  max mem: 2722\n",
            "Epoch: [2]  [ 8000/13233]  eta: 0:29:45  lr: 0.005000  loss: 0.2406 (0.6865)  loss_classifier: 0.1284 (0.2665)  loss_box_reg: 0.1156 (0.3240)  loss_objectness: 0.0259 (0.0535)  loss_rpn_box_reg: 0.0056 (0.0424)  time: 0.3413  data: 0.0262  max mem: 2722\n",
            "Epoch: [2]  [ 9000/13233]  eta: 0:24:04  lr: 0.005000  loss: 0.2996 (0.6860)  loss_classifier: 0.1648 (0.2664)  loss_box_reg: 0.1183 (0.3234)  loss_objectness: 0.0226 (0.0536)  loss_rpn_box_reg: 0.0043 (0.0426)  time: 0.3431  data: 0.0278  max mem: 2722\n",
            "Epoch: [2]  [10000/13233]  eta: 0:18:23  lr: 0.005000  loss: 0.2977 (0.6873)  loss_classifier: 0.1548 (0.2669)  loss_box_reg: 0.1445 (0.3237)  loss_objectness: 0.0210 (0.0541)  loss_rpn_box_reg: 0.0045 (0.0426)  time: 0.3353  data: 0.0203  max mem: 2722\n",
            "Epoch: [2]  [11000/13233]  eta: 0:12:41  lr: 0.005000  loss: 0.7661 (0.6879)  loss_classifier: 0.2948 (0.2670)  loss_box_reg: 0.3684 (0.3238)  loss_objectness: 0.0401 (0.0545)  loss_rpn_box_reg: 0.0195 (0.0426)  time: 0.3465  data: 0.0310  max mem: 2722\n",
            "Epoch: [2]  [12000/13233]  eta: 0:07:00  lr: 0.005000  loss: 0.3888 (0.6872)  loss_classifier: 0.1609 (0.2663)  loss_box_reg: 0.1879 (0.3237)  loss_objectness: 0.0163 (0.0546)  loss_rpn_box_reg: 0.0059 (0.0426)  time: 0.3412  data: 0.0252  max mem: 2722\n",
            "Epoch: [2]  [13000/13233]  eta: 0:01:19  lr: 0.005000  loss: 0.7967 (0.6850)  loss_classifier: 0.2323 (0.2653)  loss_box_reg: 0.4006 (0.3233)  loss_objectness: 0.0304 (0.0541)  loss_rpn_box_reg: 0.0150 (0.0423)  time: 0.3429  data: 0.0268  max mem: 2722\n",
            "Epoch: [2]  [13232/13233]  eta: 0:00:00  lr: 0.005000  loss: 0.3046 (0.6852)  loss_classifier: 0.1328 (0.2652)  loss_box_reg: 0.1453 (0.3236)  loss_objectness: 0.0177 (0.0540)  loss_rpn_box_reg: 0.0021 (0.0424)  time: 0.3391  data: 0.0226  max mem: 2722\n",
            "Epoch: [2] Total time: 1:15:14 (0.3412 s / it)\n",
            "creating index...\n",
            "index created!\n",
            "Test:  [   0/3309]  eta: 0:13:48  model_time: 0.1881 (0.1881)  evaluator_time: 0.0152 (0.0152)  time: 0.2503  data: 0.0464  max mem: 2722\n",
            "Test:  [ 100/3309]  eta: 0:08:57  model_time: 0.1307 (0.1293)  evaluator_time: 0.0093 (0.0116)  time: 0.1672  data: 0.0242  max mem: 2722\n",
            "Test:  [ 200/3309]  eta: 0:08:49  model_time: 0.1358 (0.1316)  evaluator_time: 0.0145 (0.0121)  time: 0.1807  data: 0.0307  max mem: 2722\n",
            "Test:  [ 300/3309]  eta: 0:08:35  model_time: 0.1300 (0.1317)  evaluator_time: 0.0133 (0.0124)  time: 0.1749  data: 0.0307  max mem: 2722\n",
            "Test:  [ 400/3309]  eta: 0:08:13  model_time: 0.1279 (0.1309)  evaluator_time: 0.0112 (0.0122)  time: 0.1627  data: 0.0226  max mem: 2722\n",
            "Test:  [ 500/3309]  eta: 0:07:55  model_time: 0.1282 (0.1304)  evaluator_time: 0.0123 (0.0122)  time: 0.1731  data: 0.0310  max mem: 2722\n",
            "Test:  [ 600/3309]  eta: 0:07:38  model_time: 0.1299 (0.1302)  evaluator_time: 0.0140 (0.0123)  time: 0.1764  data: 0.0322  max mem: 2722\n",
            "Test:  [ 700/3309]  eta: 0:07:21  model_time: 0.1301 (0.1302)  evaluator_time: 0.0108 (0.0124)  time: 0.1698  data: 0.0268  max mem: 2722\n",
            "Test:  [ 800/3309]  eta: 0:07:04  model_time: 0.1293 (0.1302)  evaluator_time: 0.0125 (0.0124)  time: 0.1733  data: 0.0285  max mem: 2722\n",
            "Test:  [ 900/3309]  eta: 0:06:47  model_time: 0.1294 (0.1301)  evaluator_time: 0.0109 (0.0123)  time: 0.1679  data: 0.0250  max mem: 2722\n",
            "Test:  [1000/3309]  eta: 0:06:30  model_time: 0.1292 (0.1300)  evaluator_time: 0.0128 (0.0124)  time: 0.1749  data: 0.0313  max mem: 2722\n",
            "Test:  [1100/3309]  eta: 0:06:13  model_time: 0.1288 (0.1300)  evaluator_time: 0.0117 (0.0125)  time: 0.1676  data: 0.0261  max mem: 2722\n",
            "Test:  [1200/3309]  eta: 0:05:56  model_time: 0.1300 (0.1300)  evaluator_time: 0.0093 (0.0124)  time: 0.1653  data: 0.0238  max mem: 2722\n",
            "Test:  [1300/3309]  eta: 0:05:39  model_time: 0.1299 (0.1299)  evaluator_time: 0.0090 (0.0124)  time: 0.1638  data: 0.0222  max mem: 2722\n",
            "Test:  [1400/3309]  eta: 0:05:22  model_time: 0.1288 (0.1299)  evaluator_time: 0.0094 (0.0124)  time: 0.1687  data: 0.0258  max mem: 2722\n",
            "Test:  [1500/3309]  eta: 0:05:05  model_time: 0.1290 (0.1299)  evaluator_time: 0.0084 (0.0124)  time: 0.1612  data: 0.0213  max mem: 2722\n",
            "Test:  [1600/3309]  eta: 0:04:49  model_time: 0.1299 (0.1299)  evaluator_time: 0.0122 (0.0124)  time: 0.1742  data: 0.0314  max mem: 2722\n",
            "Test:  [1700/3309]  eta: 0:04:32  model_time: 0.1293 (0.1298)  evaluator_time: 0.0085 (0.0124)  time: 0.1665  data: 0.0223  max mem: 2722\n",
            "Test:  [1800/3309]  eta: 0:04:15  model_time: 0.1294 (0.1298)  evaluator_time: 0.0076 (0.0124)  time: 0.1631  data: 0.0225  max mem: 2722\n",
            "Test:  [1900/3309]  eta: 0:03:58  model_time: 0.1296 (0.1298)  evaluator_time: 0.0096 (0.0124)  time: 0.1635  data: 0.0217  max mem: 2722\n",
            "Test:  [2000/3309]  eta: 0:03:41  model_time: 0.1296 (0.1298)  evaluator_time: 0.0121 (0.0124)  time: 0.1692  data: 0.0254  max mem: 2722\n",
            "Test:  [2100/3309]  eta: 0:03:24  model_time: 0.1295 (0.1298)  evaluator_time: 0.0086 (0.0123)  time: 0.1655  data: 0.0243  max mem: 2722\n",
            "Test:  [2200/3309]  eta: 0:03:07  model_time: 0.1298 (0.1298)  evaluator_time: 0.0107 (0.0123)  time: 0.1658  data: 0.0229  max mem: 2722\n",
            "Test:  [2300/3309]  eta: 0:02:50  model_time: 0.1297 (0.1298)  evaluator_time: 0.0140 (0.0123)  time: 0.1682  data: 0.0249  max mem: 2722\n",
            "Test:  [2400/3309]  eta: 0:02:33  model_time: 0.1293 (0.1298)  evaluator_time: 0.0095 (0.0123)  time: 0.1693  data: 0.0268  max mem: 2722\n",
            "Test:  [2500/3309]  eta: 0:02:16  model_time: 0.1298 (0.1298)  evaluator_time: 0.0105 (0.0123)  time: 0.1661  data: 0.0233  max mem: 2722\n",
            "Test:  [2600/3309]  eta: 0:01:59  model_time: 0.1292 (0.1298)  evaluator_time: 0.0134 (0.0123)  time: 0.1671  data: 0.0236  max mem: 2722\n",
            "Test:  [2700/3309]  eta: 0:01:42  model_time: 0.1294 (0.1298)  evaluator_time: 0.0089 (0.0123)  time: 0.1639  data: 0.0231  max mem: 2722\n",
            "Test:  [2800/3309]  eta: 0:01:25  model_time: 0.1290 (0.1298)  evaluator_time: 0.0109 (0.0124)  time: 0.1742  data: 0.0323  max mem: 2722\n",
            "Test:  [2900/3309]  eta: 0:01:09  model_time: 0.1298 (0.1298)  evaluator_time: 0.0080 (0.0123)  time: 0.1636  data: 0.0208  max mem: 2722\n",
            "Test:  [3000/3309]  eta: 0:00:52  model_time: 0.1292 (0.1298)  evaluator_time: 0.0081 (0.0123)  time: 0.1603  data: 0.0202  max mem: 2722\n",
            "Test:  [3100/3309]  eta: 0:00:35  model_time: 0.1300 (0.1298)  evaluator_time: 0.0119 (0.0123)  time: 0.1685  data: 0.0250  max mem: 2722\n",
            "Test:  [3200/3309]  eta: 0:00:18  model_time: 0.1296 (0.1298)  evaluator_time: 0.0110 (0.0123)  time: 0.1688  data: 0.0264  max mem: 2722\n",
            "Test:  [3300/3309]  eta: 0:00:01  model_time: 0.1297 (0.1298)  evaluator_time: 0.0081 (0.0123)  time: 0.1625  data: 0.0209  max mem: 2722\n",
            "Test:  [3308/3309]  eta: 0:00:00  model_time: 0.1302 (0.1298)  evaluator_time: 0.0115 (0.0123)  time: 0.1688  data: 0.0263  max mem: 2722\n",
            "Test: Total time: 0:09:17 (0.1686 s / it)\n",
            "Averaged stats: model_time: 0.1302 (0.1298)  evaluator_time: 0.0115 (0.0123)\n",
            "Accumulating evaluation results...\n",
            "DONE (t=3.54s).\n",
            "IoU metric: bbox\n",
            " Average Precision  (AP) @[ IoU=0.50:0.95 | area=   all | maxDets=100 ] = 0.103\n",
            " Average Precision  (AP) @[ IoU=0.50      | area=   all | maxDets=100 ] = 0.259\n",
            " Average Precision  (AP) @[ IoU=0.75      | area=   all | maxDets=100 ] = 0.063\n",
            " Average Precision  (AP) @[ IoU=0.50:0.95 | area= small | maxDets=100 ] = 0.178\n",
            " Average Precision  (AP) @[ IoU=0.50:0.95 | area=medium | maxDets=100 ] = 0.123\n",
            " Average Precision  (AP) @[ IoU=0.50:0.95 | area= large | maxDets=100 ] = 0.076\n",
            " Average Recall     (AR) @[ IoU=0.50:0.95 | area=   all | maxDets=  1 ] = 0.083\n",
            " Average Recall     (AR) @[ IoU=0.50:0.95 | area=   all | maxDets= 10 ] = 0.226\n",
            " Average Recall     (AR) @[ IoU=0.50:0.95 | area=   all | maxDets=100 ] = 0.271\n",
            " Average Recall     (AR) @[ IoU=0.50:0.95 | area= small | maxDets=100 ] = 0.279\n",
            " Average Recall     (AR) @[ IoU=0.50:0.95 | area=medium | maxDets=100 ] = 0.308\n",
            " Average Recall     (AR) @[ IoU=0.50:0.95 | area= large | maxDets=100 ] = 0.155\n",
            "Epoch: [3]  [    0/13233]  eta: 1:30:28  lr: 0.000500  loss: 0.6073 (0.6073)  loss_classifier: 0.1848 (0.1848)  loss_box_reg: 0.3953 (0.3953)  loss_objectness: 0.0108 (0.0108)  loss_rpn_box_reg: 0.0164 (0.0164)  time: 0.4102  data: 0.0347  max mem: 2722\n",
            "Epoch: [3]  [ 1000/13233]  eta: 1:09:44  lr: 0.000500  loss: 0.4417 (0.6326)  loss_classifier: 0.2113 (0.2380)  loss_box_reg: 0.2693 (0.3211)  loss_objectness: 0.0199 (0.0363)  loss_rpn_box_reg: 0.0071 (0.0372)  time: 0.3404  data: 0.0249  max mem: 2722\n",
            "Epoch: [3]  [ 2000/13233]  eta: 1:03:56  lr: 0.000500  loss: 0.1928 (0.6195)  loss_classifier: 0.0934 (0.2338)  loss_box_reg: 0.1044 (0.3149)  loss_objectness: 0.0184 (0.0347)  loss_rpn_box_reg: 0.0020 (0.0362)  time: 0.3359  data: 0.0186  max mem: 2722\n",
            "Epoch: [3]  [ 3000/13233]  eta: 0:58:16  lr: 0.000500  loss: 0.5633 (0.6135)  loss_classifier: 0.1792 (0.2311)  loss_box_reg: 0.2766 (0.3128)  loss_objectness: 0.0127 (0.0347)  loss_rpn_box_reg: 0.0085 (0.0350)  time: 0.3411  data: 0.0248  max mem: 2722\n",
            "Epoch: [3]  [ 4000/13233]  eta: 0:52:34  lr: 0.000500  loss: 0.6331 (0.6126)  loss_classifier: 0.1781 (0.2306)  loss_box_reg: 0.3729 (0.3130)  loss_objectness: 0.0206 (0.0341)  loss_rpn_box_reg: 0.0103 (0.0349)  time: 0.3358  data: 0.0204  max mem: 2722\n",
            "Epoch: [3]  [ 5000/13233]  eta: 0:46:52  lr: 0.000500  loss: 0.1974 (0.6068)  loss_classifier: 0.1119 (0.2280)  loss_box_reg: 0.0956 (0.3103)  loss_objectness: 0.0070 (0.0331)  loss_rpn_box_reg: 0.0026 (0.0354)  time: 0.3348  data: 0.0191  max mem: 2722\n",
            "Epoch: [3]  [ 6000/13233]  eta: 0:41:09  lr: 0.000500  loss: 0.2001 (0.6045)  loss_classifier: 0.1029 (0.2271)  loss_box_reg: 0.0891 (0.3094)  loss_objectness: 0.0137 (0.0326)  loss_rpn_box_reg: 0.0036 (0.0355)  time: 0.3368  data: 0.0209  max mem: 2722\n",
            "Epoch: [3]  [ 7000/13233]  eta: 0:35:26  lr: 0.000500  loss: 0.6444 (0.6037)  loss_classifier: 0.2432 (0.2264)  loss_box_reg: 0.3661 (0.3100)  loss_objectness: 0.0177 (0.0324)  loss_rpn_box_reg: 0.0172 (0.0349)  time: 0.3409  data: 0.0290  max mem: 2722\n",
            "Epoch: [3]  [ 8000/13233]  eta: 0:29:44  lr: 0.000500  loss: 0.2280 (0.6003)  loss_classifier: 0.1132 (0.2253)  loss_box_reg: 0.1093 (0.3082)  loss_objectness: 0.0088 (0.0319)  loss_rpn_box_reg: 0.0013 (0.0349)  time: 0.3370  data: 0.0217  max mem: 2722\n",
            "Epoch: [3]  [ 9000/13233]  eta: 0:24:04  lr: 0.000500  loss: 0.7949 (0.5978)  loss_classifier: 0.2486 (0.2239)  loss_box_reg: 0.4064 (0.3072)  loss_objectness: 0.0204 (0.0317)  loss_rpn_box_reg: 0.0145 (0.0349)  time: 0.3421  data: 0.0261  max mem: 2722\n",
            "Epoch: [3]  [10000/13233]  eta: 0:18:23  lr: 0.000500  loss: 0.2418 (0.5969)  loss_classifier: 0.1135 (0.2234)  loss_box_reg: 0.0923 (0.3063)  loss_objectness: 0.0158 (0.0318)  loss_rpn_box_reg: 0.0013 (0.0353)  time: 0.3371  data: 0.0216  max mem: 2722\n",
            "Epoch: [3]  [11000/13233]  eta: 0:12:42  lr: 0.000500  loss: 0.4827 (0.5963)  loss_classifier: 0.1635 (0.2227)  loss_box_reg: 0.2990 (0.3067)  loss_objectness: 0.0276 (0.0315)  loss_rpn_box_reg: 0.0106 (0.0354)  time: 0.3413  data: 0.0258  max mem: 2722\n",
            "Epoch: [3]  [12000/13233]  eta: 0:07:00  lr: 0.000500  loss: 0.6690 (0.5930)  loss_classifier: 0.1831 (0.2213)  loss_box_reg: 0.4466 (0.3051)  loss_objectness: 0.0138 (0.0313)  loss_rpn_box_reg: 0.0109 (0.0352)  time: 0.3415  data: 0.0249  max mem: 2722\n",
            "Epoch: [3]  [13000/13233]  eta: 0:01:19  lr: 0.000500  loss: 0.2976 (0.5918)  loss_classifier: 0.1259 (0.2206)  loss_box_reg: 0.1285 (0.3047)  loss_objectness: 0.0120 (0.0313)  loss_rpn_box_reg: 0.0021 (0.0352)  time: 0.3362  data: 0.0197  max mem: 2722\n",
            "Epoch: [3]  [13232/13233]  eta: 0:00:00  lr: 0.000500  loss: 0.5925 (0.5910)  loss_classifier: 0.2282 (0.2202)  loss_box_reg: 0.2630 (0.3043)  loss_objectness: 0.0202 (0.0313)  loss_rpn_box_reg: 0.0188 (0.0352)  time: 0.3461  data: 0.0301  max mem: 2722\n",
            "Epoch: [3] Total time: 1:15:18 (0.3414 s / it)\n",
            "creating index...\n",
            "index created!\n",
            "Test:  [   0/3309]  eta: 0:13:56  model_time: 0.1891 (0.1891)  evaluator_time: 0.0145 (0.0145)  time: 0.2527  data: 0.0472  max mem: 2722\n",
            "Test:  [ 100/3309]  eta: 0:09:09  model_time: 0.1353 (0.1348)  evaluator_time: 0.0099 (0.0103)  time: 0.1694  data: 0.0236  max mem: 2722\n",
            "Test:  [ 200/3309]  eta: 0:08:50  model_time: 0.1306 (0.1339)  evaluator_time: 0.0114 (0.0109)  time: 0.1730  data: 0.0294  max mem: 2722\n",
            "Test:  [ 300/3309]  eta: 0:08:31  model_time: 0.1280 (0.1321)  evaluator_time: 0.0105 (0.0111)  time: 0.1706  data: 0.0303  max mem: 2722\n",
            "Test:  [ 400/3309]  eta: 0:08:09  model_time: 0.1282 (0.1311)  evaluator_time: 0.0102 (0.0110)  time: 0.1623  data: 0.0222  max mem: 2722\n",
            "Test:  [ 500/3309]  eta: 0:07:51  model_time: 0.1294 (0.1307)  evaluator_time: 0.0097 (0.0110)  time: 0.1719  data: 0.0301  max mem: 2722\n",
            "Test:  [ 600/3309]  eta: 0:07:34  model_time: 0.1306 (0.1307)  evaluator_time: 0.0106 (0.0111)  time: 0.1771  data: 0.0326  max mem: 2722\n",
            "Test:  [ 700/3309]  eta: 0:07:19  model_time: 0.1297 (0.1306)  evaluator_time: 0.0102 (0.0117)  time: 0.1675  data: 0.0257  max mem: 2722\n",
            "Test:  [ 800/3309]  eta: 0:07:02  model_time: 0.1288 (0.1305)  evaluator_time: 0.0106 (0.0116)  time: 0.1722  data: 0.0287  max mem: 2722\n",
            "Test:  [ 900/3309]  eta: 0:06:44  model_time: 0.1295 (0.1303)  evaluator_time: 0.0099 (0.0115)  time: 0.1661  data: 0.0249  max mem: 2722\n",
            "Test:  [1000/3309]  eta: 0:06:28  model_time: 0.1290 (0.1302)  evaluator_time: 0.0103 (0.0116)  time: 0.1729  data: 0.0306  max mem: 2722\n",
            "Test:  [1100/3309]  eta: 0:06:11  model_time: 0.1300 (0.1302)  evaluator_time: 0.0098 (0.0116)  time: 0.1665  data: 0.0258  max mem: 2722\n",
            "Test:  [1200/3309]  eta: 0:05:54  model_time: 0.1301 (0.1302)  evaluator_time: 0.0083 (0.0115)  time: 0.1628  data: 0.0229  max mem: 2722\n",
            "Test:  [1300/3309]  eta: 0:05:36  model_time: 0.1297 (0.1301)  evaluator_time: 0.0097 (0.0114)  time: 0.1623  data: 0.0224  max mem: 2722\n",
            "Test:  [1400/3309]  eta: 0:05:19  model_time: 0.1292 (0.1301)  evaluator_time: 0.0088 (0.0114)  time: 0.1679  data: 0.0260  max mem: 2722\n",
            "Test:  [1500/3309]  eta: 0:05:03  model_time: 0.1303 (0.1301)  evaluator_time: 0.0085 (0.0114)  time: 0.1606  data: 0.0210  max mem: 2722\n",
            "Test:  [1600/3309]  eta: 0:04:46  model_time: 0.1291 (0.1300)  evaluator_time: 0.0102 (0.0113)  time: 0.1714  data: 0.0311  max mem: 2722\n",
            "Test:  [1700/3309]  eta: 0:04:29  model_time: 0.1301 (0.1300)  evaluator_time: 0.0086 (0.0113)  time: 0.1648  data: 0.0218  max mem: 2722\n",
            "Test:  [1800/3309]  eta: 0:04:12  model_time: 0.1300 (0.1300)  evaluator_time: 0.0078 (0.0113)  time: 0.1612  data: 0.0222  max mem: 2722\n",
            "Test:  [1900/3309]  eta: 0:03:55  model_time: 0.1289 (0.1300)  evaluator_time: 0.0104 (0.0113)  time: 0.1631  data: 0.0227  max mem: 2722\n",
            "Test:  [2000/3309]  eta: 0:03:39  model_time: 0.1297 (0.1300)  evaluator_time: 0.0095 (0.0112)  time: 0.1664  data: 0.0246  max mem: 2722\n",
            "Test:  [2100/3309]  eta: 0:03:22  model_time: 0.1299 (0.1300)  evaluator_time: 0.0096 (0.0112)  time: 0.1677  data: 0.0261  max mem: 2722\n",
            "Test:  [2200/3309]  eta: 0:03:05  model_time: 0.1305 (0.1300)  evaluator_time: 0.0104 (0.0113)  time: 0.1684  data: 0.0242  max mem: 2722\n",
            "Test:  [2300/3309]  eta: 0:02:48  model_time: 0.1299 (0.1300)  evaluator_time: 0.0120 (0.0113)  time: 0.1707  data: 0.0264  max mem: 2722\n",
            "Test:  [2400/3309]  eta: 0:02:32  model_time: 0.1295 (0.1300)  evaluator_time: 0.0097 (0.0113)  time: 0.1692  data: 0.0271  max mem: 2722\n",
            "Test:  [2500/3309]  eta: 0:02:15  model_time: 0.1295 (0.1300)  evaluator_time: 0.0106 (0.0114)  time: 0.1666  data: 0.0239  max mem: 2722\n",
            "Test:  [2600/3309]  eta: 0:01:58  model_time: 0.1299 (0.1300)  evaluator_time: 0.0121 (0.0114)  time: 0.1684  data: 0.0247  max mem: 2722\n",
            "Test:  [2700/3309]  eta: 0:01:42  model_time: 0.1301 (0.1300)  evaluator_time: 0.0096 (0.0114)  time: 0.1655  data: 0.0240  max mem: 2722\n",
            "Test:  [2800/3309]  eta: 0:01:25  model_time: 0.1299 (0.1300)  evaluator_time: 0.0107 (0.0115)  time: 0.1759  data: 0.0335  max mem: 2722\n",
            "Test:  [2900/3309]  eta: 0:01:08  model_time: 0.1295 (0.1300)  evaluator_time: 0.0091 (0.0114)  time: 0.1628  data: 0.0209  max mem: 2722\n",
            "Test:  [3000/3309]  eta: 0:00:51  model_time: 0.1298 (0.1300)  evaluator_time: 0.0092 (0.0114)  time: 0.1604  data: 0.0204  max mem: 2722\n",
            "Test:  [3100/3309]  eta: 0:00:35  model_time: 0.1292 (0.1300)  evaluator_time: 0.0097 (0.0114)  time: 0.1657  data: 0.0243  max mem: 2722\n",
            "Test:  [3200/3309]  eta: 0:00:18  model_time: 0.1301 (0.1300)  evaluator_time: 0.0107 (0.0114)  time: 0.1694  data: 0.0265  max mem: 2722\n",
            "Test:  [3300/3309]  eta: 0:00:01  model_time: 0.1300 (0.1300)  evaluator_time: 0.0098 (0.0114)  time: 0.1644  data: 0.0217  max mem: 2722\n",
            "Test:  [3308/3309]  eta: 0:00:00  model_time: 0.1298 (0.1300)  evaluator_time: 0.0096 (0.0114)  time: 0.1689  data: 0.0267  max mem: 2722\n",
            "Test: Total time: 0:09:15 (0.1678 s / it)\n",
            "Averaged stats: model_time: 0.1298 (0.1300)  evaluator_time: 0.0096 (0.0114)\n",
            "Accumulating evaluation results...\n",
            "DONE (t=3.03s).\n",
            "IoU metric: bbox\n",
            " Average Precision  (AP) @[ IoU=0.50:0.95 | area=   all | maxDets=100 ] = 0.130\n",
            " Average Precision  (AP) @[ IoU=0.50      | area=   all | maxDets=100 ] = 0.306\n",
            " Average Precision  (AP) @[ IoU=0.75      | area=   all | maxDets=100 ] = 0.087\n",
            " Average Precision  (AP) @[ IoU=0.50:0.95 | area= small | maxDets=100 ] = 0.239\n",
            " Average Precision  (AP) @[ IoU=0.50:0.95 | area=medium | maxDets=100 ] = 0.160\n",
            " Average Precision  (AP) @[ IoU=0.50:0.95 | area= large | maxDets=100 ] = 0.178\n",
            " Average Recall     (AR) @[ IoU=0.50:0.95 | area=   all | maxDets=  1 ] = 0.096\n",
            " Average Recall     (AR) @[ IoU=0.50:0.95 | area=   all | maxDets= 10 ] = 0.267\n",
            " Average Recall     (AR) @[ IoU=0.50:0.95 | area=   all | maxDets=100 ] = 0.336\n",
            " Average Recall     (AR) @[ IoU=0.50:0.95 | area= small | maxDets=100 ] = 0.341\n",
            " Average Recall     (AR) @[ IoU=0.50:0.95 | area=medium | maxDets=100 ] = 0.386\n",
            " Average Recall     (AR) @[ IoU=0.50:0.95 | area= large | maxDets=100 ] = 0.281\n",
            "Epoch: [4]  [    0/13233]  eta: 1:35:25  lr: 0.000500  loss: 1.2428 (1.2428)  loss_classifier: 0.6144 (0.6144)  loss_box_reg: 0.5268 (0.5268)  loss_objectness: 0.0450 (0.0450)  loss_rpn_box_reg: 0.0566 (0.0566)  time: 0.4327  data: 0.0345  max mem: 2722\n"
          ],
          "name": "stdout"
        },
        {
          "output_type": "error",
          "ename": "KeyboardInterrupt",
          "evalue": "ignored",
          "traceback": [
            "\u001b[0;31m---------------------------------------------------------------------------\u001b[0m",
            "\u001b[0;31mKeyboardInterrupt\u001b[0m                         Traceback (most recent call last)",
            "\u001b[0;32m<ipython-input-48-d55b923ac04d>\u001b[0m in \u001b[0;36m<module>\u001b[0;34m()\u001b[0m\n\u001b[1;32m      2\u001b[0m \u001b[0;34m\u001b[0m\u001b[0m\n\u001b[1;32m      3\u001b[0m \u001b[0;32mfor\u001b[0m \u001b[0mepoch\u001b[0m \u001b[0;32min\u001b[0m \u001b[0mrange\u001b[0m\u001b[0;34m(\u001b[0m\u001b[0mnum_epochs\u001b[0m\u001b[0;34m)\u001b[0m\u001b[0;34m:\u001b[0m\u001b[0;34m\u001b[0m\u001b[0;34m\u001b[0m\u001b[0m\n\u001b[0;32m----> 4\u001b[0;31m   \u001b[0mtrain_one_epoch\u001b[0m\u001b[0;34m(\u001b[0m\u001b[0mmodel\u001b[0m\u001b[0;34m,\u001b[0m \u001b[0moptimizer\u001b[0m\u001b[0;34m,\u001b[0m \u001b[0mloader_train\u001b[0m\u001b[0;34m,\u001b[0m \u001b[0mdevice\u001b[0m\u001b[0;34m,\u001b[0m \u001b[0mepoch\u001b[0m\u001b[0;34m,\u001b[0m \u001b[0mprint_freq\u001b[0m\u001b[0;34m=\u001b[0m\u001b[0;36m1000\u001b[0m\u001b[0;34m)\u001b[0m\u001b[0;34m\u001b[0m\u001b[0;34m\u001b[0m\u001b[0m\n\u001b[0m\u001b[1;32m      5\u001b[0m   \u001b[0mscheduler\u001b[0m\u001b[0;34m.\u001b[0m\u001b[0mstep\u001b[0m\u001b[0;34m(\u001b[0m\u001b[0;34m)\u001b[0m\u001b[0;34m\u001b[0m\u001b[0;34m\u001b[0m\u001b[0m\n\u001b[1;32m      6\u001b[0m   \u001b[0mevaluate\u001b[0m\u001b[0;34m(\u001b[0m\u001b[0mmodel\u001b[0m\u001b[0;34m,\u001b[0m \u001b[0mloader_test\u001b[0m\u001b[0;34m,\u001b[0m \u001b[0mdevice\u001b[0m\u001b[0;34m=\u001b[0m\u001b[0mdevice\u001b[0m\u001b[0;34m)\u001b[0m\u001b[0;34m\u001b[0m\u001b[0;34m\u001b[0m\u001b[0m\n",
            "\u001b[0;32m/content/engine.py\u001b[0m in \u001b[0;36mtrain_one_epoch\u001b[0;34m(model, optimizer, data_loader, device, epoch, print_freq)\u001b[0m\n\u001b[1;32m     50\u001b[0m             \u001b[0mlr_scheduler\u001b[0m\u001b[0;34m.\u001b[0m\u001b[0mstep\u001b[0m\u001b[0;34m(\u001b[0m\u001b[0;34m)\u001b[0m\u001b[0;34m\u001b[0m\u001b[0;34m\u001b[0m\u001b[0m\n\u001b[1;32m     51\u001b[0m \u001b[0;34m\u001b[0m\u001b[0m\n\u001b[0;32m---> 52\u001b[0;31m         \u001b[0mmetric_logger\u001b[0m\u001b[0;34m.\u001b[0m\u001b[0mupdate\u001b[0m\u001b[0;34m(\u001b[0m\u001b[0mloss\u001b[0m\u001b[0;34m=\u001b[0m\u001b[0mlosses_reduced\u001b[0m\u001b[0;34m,\u001b[0m \u001b[0;34m**\u001b[0m\u001b[0mloss_dict_reduced\u001b[0m\u001b[0;34m)\u001b[0m\u001b[0;34m\u001b[0m\u001b[0;34m\u001b[0m\u001b[0m\n\u001b[0m\u001b[1;32m     53\u001b[0m         \u001b[0mmetric_logger\u001b[0m\u001b[0;34m.\u001b[0m\u001b[0mupdate\u001b[0m\u001b[0;34m(\u001b[0m\u001b[0mlr\u001b[0m\u001b[0;34m=\u001b[0m\u001b[0moptimizer\u001b[0m\u001b[0;34m.\u001b[0m\u001b[0mparam_groups\u001b[0m\u001b[0;34m[\u001b[0m\u001b[0;36m0\u001b[0m\u001b[0;34m]\u001b[0m\u001b[0;34m[\u001b[0m\u001b[0;34m\"lr\"\u001b[0m\u001b[0;34m]\u001b[0m\u001b[0;34m)\u001b[0m\u001b[0;34m\u001b[0m\u001b[0;34m\u001b[0m\u001b[0m\n\u001b[1;32m     54\u001b[0m \u001b[0;34m\u001b[0m\u001b[0m\n",
            "\u001b[0;32m/content/utils.py\u001b[0m in \u001b[0;36mupdate\u001b[0;34m(self, **kwargs)\u001b[0m\n\u001b[1;32m    153\u001b[0m         \u001b[0;32mfor\u001b[0m \u001b[0mk\u001b[0m\u001b[0;34m,\u001b[0m \u001b[0mv\u001b[0m \u001b[0;32min\u001b[0m \u001b[0mkwargs\u001b[0m\u001b[0;34m.\u001b[0m\u001b[0mitems\u001b[0m\u001b[0;34m(\u001b[0m\u001b[0;34m)\u001b[0m\u001b[0;34m:\u001b[0m\u001b[0;34m\u001b[0m\u001b[0;34m\u001b[0m\u001b[0m\n\u001b[1;32m    154\u001b[0m             \u001b[0;32mif\u001b[0m \u001b[0misinstance\u001b[0m\u001b[0;34m(\u001b[0m\u001b[0mv\u001b[0m\u001b[0;34m,\u001b[0m \u001b[0mtorch\u001b[0m\u001b[0;34m.\u001b[0m\u001b[0mTensor\u001b[0m\u001b[0;34m)\u001b[0m\u001b[0;34m:\u001b[0m\u001b[0;34m\u001b[0m\u001b[0;34m\u001b[0m\u001b[0m\n\u001b[0;32m--> 155\u001b[0;31m                 \u001b[0mv\u001b[0m \u001b[0;34m=\u001b[0m \u001b[0mv\u001b[0m\u001b[0;34m.\u001b[0m\u001b[0mitem\u001b[0m\u001b[0;34m(\u001b[0m\u001b[0;34m)\u001b[0m\u001b[0;34m\u001b[0m\u001b[0;34m\u001b[0m\u001b[0m\n\u001b[0m\u001b[1;32m    156\u001b[0m             \u001b[0;32massert\u001b[0m \u001b[0misinstance\u001b[0m\u001b[0;34m(\u001b[0m\u001b[0mv\u001b[0m\u001b[0;34m,\u001b[0m \u001b[0;34m(\u001b[0m\u001b[0mfloat\u001b[0m\u001b[0;34m,\u001b[0m \u001b[0mint\u001b[0m\u001b[0;34m)\u001b[0m\u001b[0;34m)\u001b[0m\u001b[0;34m\u001b[0m\u001b[0;34m\u001b[0m\u001b[0m\n\u001b[1;32m    157\u001b[0m             \u001b[0mself\u001b[0m\u001b[0;34m.\u001b[0m\u001b[0mmeters\u001b[0m\u001b[0;34m[\u001b[0m\u001b[0mk\u001b[0m\u001b[0;34m]\u001b[0m\u001b[0;34m.\u001b[0m\u001b[0mupdate\u001b[0m\u001b[0;34m(\u001b[0m\u001b[0mv\u001b[0m\u001b[0;34m)\u001b[0m\u001b[0;34m\u001b[0m\u001b[0;34m\u001b[0m\u001b[0m\n",
            "\u001b[0;31mKeyboardInterrupt\u001b[0m: "
          ]
        }
      ]
    },
    {
      "cell_type": "code",
      "metadata": {
        "id": "4qP849N7LIaH"
      },
      "source": [
        "torch.save(model.state_dict(), \"model1.pt\")"
      ],
      "execution_count": 49,
      "outputs": []
    },
    {
      "cell_type": "code",
      "metadata": {
        "colab": {
          "base_uri": "https://localhost:8080/",
          "height": 17
        },
        "id": "y3AVSEMoLPg8",
        "outputId": "c7250af5-8028-4f61-d3f9-7d2eae303044"
      },
      "source": [
        "from google.colab import files\n",
        "files.download(\"model1.pt\")"
      ],
      "execution_count": 50,
      "outputs": [
        {
          "output_type": "display_data",
          "data": {
            "application/javascript": [
              "\n",
              "    async function download(id, filename, size) {\n",
              "      if (!google.colab.kernel.accessAllowed) {\n",
              "        return;\n",
              "      }\n",
              "      const div = document.createElement('div');\n",
              "      const label = document.createElement('label');\n",
              "      label.textContent = `Downloading \"${filename}\": `;\n",
              "      div.appendChild(label);\n",
              "      const progress = document.createElement('progress');\n",
              "      progress.max = size;\n",
              "      div.appendChild(progress);\n",
              "      document.body.appendChild(div);\n",
              "\n",
              "      const buffers = [];\n",
              "      let downloaded = 0;\n",
              "\n",
              "      const channel = await google.colab.kernel.comms.open(id);\n",
              "      // Send a message to notify the kernel that we're ready.\n",
              "      channel.send({})\n",
              "\n",
              "      for await (const message of channel.messages) {\n",
              "        // Send a message to notify the kernel that we're ready.\n",
              "        channel.send({})\n",
              "        if (message.buffers) {\n",
              "          for (const buffer of message.buffers) {\n",
              "            buffers.push(buffer);\n",
              "            downloaded += buffer.byteLength;\n",
              "            progress.value = downloaded;\n",
              "          }\n",
              "        }\n",
              "      }\n",
              "      const blob = new Blob(buffers, {type: 'application/binary'});\n",
              "      const a = document.createElement('a');\n",
              "      a.href = window.URL.createObjectURL(blob);\n",
              "      a.download = filename;\n",
              "      div.appendChild(a);\n",
              "      a.click();\n",
              "      div.remove();\n",
              "    }\n",
              "  "
            ],
            "text/plain": [
              "<IPython.core.display.Javascript object>"
            ]
          },
          "metadata": {
            "tags": []
          }
        },
        {
          "output_type": "display_data",
          "data": {
            "application/javascript": [
              "download(\"download_88944fa8-e4f3-4494-a33f-f70e6651e651\", \"model1.pt\", 166040462)"
            ],
            "text/plain": [
              "<IPython.core.display.Javascript object>"
            ]
          },
          "metadata": {
            "tags": []
          }
        }
      ]
    }
  ]
}