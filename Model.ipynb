{
  "nbformat": 4,
  "nbformat_minor": 0,
  "metadata": {
    "colab": {
      "name": "Model.ipynb",
      "provenance": [],
      "collapsed_sections": []
    },
    "kernelspec": {
      "name": "python3",
      "display_name": "Python 3"
    },
    "language_info": {
      "name": "python"
    },
    "accelerator": "GPU",
    "widgets": {
      "application/vnd.jupyter.widget-state+json": {
        "73c7eedb42144a949ea89809988f82bc": {
          "model_module": "@jupyter-widgets/controls",
          "model_name": "HBoxModel",
          "state": {
            "_view_name": "HBoxView",
            "_dom_classes": [],
            "_model_name": "HBoxModel",
            "_view_module": "@jupyter-widgets/controls",
            "_model_module_version": "1.5.0",
            "_view_count": null,
            "_view_module_version": "1.5.0",
            "box_style": "",
            "layout": "IPY_MODEL_e8c9190654f74978a00a66bdf3a314c5",
            "_model_module": "@jupyter-widgets/controls",
            "children": [
              "IPY_MODEL_e247b37aac9a4cf6bcbc5d82e7d60602",
              "IPY_MODEL_374027e12be04939abdff9a5e5ac27f0"
            ]
          }
        },
        "e8c9190654f74978a00a66bdf3a314c5": {
          "model_module": "@jupyter-widgets/base",
          "model_name": "LayoutModel",
          "state": {
            "_view_name": "LayoutView",
            "grid_template_rows": null,
            "right": null,
            "justify_content": null,
            "_view_module": "@jupyter-widgets/base",
            "overflow": null,
            "_model_module_version": "1.2.0",
            "_view_count": null,
            "flex_flow": null,
            "width": null,
            "min_width": null,
            "border": null,
            "align_items": null,
            "bottom": null,
            "_model_module": "@jupyter-widgets/base",
            "top": null,
            "grid_column": null,
            "overflow_y": null,
            "overflow_x": null,
            "grid_auto_flow": null,
            "grid_area": null,
            "grid_template_columns": null,
            "flex": null,
            "_model_name": "LayoutModel",
            "justify_items": null,
            "grid_row": null,
            "max_height": null,
            "align_content": null,
            "visibility": null,
            "align_self": null,
            "height": null,
            "min_height": null,
            "padding": null,
            "grid_auto_rows": null,
            "grid_gap": null,
            "max_width": null,
            "order": null,
            "_view_module_version": "1.2.0",
            "grid_template_areas": null,
            "object_position": null,
            "object_fit": null,
            "grid_auto_columns": null,
            "margin": null,
            "display": null,
            "left": null
          }
        },
        "e247b37aac9a4cf6bcbc5d82e7d60602": {
          "model_module": "@jupyter-widgets/controls",
          "model_name": "FloatProgressModel",
          "state": {
            "_view_name": "ProgressView",
            "style": "IPY_MODEL_a5e7ce6305ef4ae4914ebd2b30ff6060",
            "_dom_classes": [],
            "description": "100%",
            "_model_name": "FloatProgressModel",
            "bar_style": "success",
            "max": 167502836,
            "_view_module": "@jupyter-widgets/controls",
            "_model_module_version": "1.5.0",
            "value": 167502836,
            "_view_count": null,
            "_view_module_version": "1.5.0",
            "orientation": "horizontal",
            "min": 0,
            "description_tooltip": null,
            "_model_module": "@jupyter-widgets/controls",
            "layout": "IPY_MODEL_6ed62e5e5aaa4dcda6e984ab457d6c76"
          }
        },
        "374027e12be04939abdff9a5e5ac27f0": {
          "model_module": "@jupyter-widgets/controls",
          "model_name": "HTMLModel",
          "state": {
            "_view_name": "HTMLView",
            "style": "IPY_MODEL_7745d94dcc06437e984495fb18a016a2",
            "_dom_classes": [],
            "description": "",
            "_model_name": "HTMLModel",
            "placeholder": "​",
            "_view_module": "@jupyter-widgets/controls",
            "_model_module_version": "1.5.0",
            "value": " 160M/160M [00:55&lt;00:00, 3.03MB/s]",
            "_view_count": null,
            "_view_module_version": "1.5.0",
            "description_tooltip": null,
            "_model_module": "@jupyter-widgets/controls",
            "layout": "IPY_MODEL_6da9a06ae2314e8eb28d167fd9c83e07"
          }
        },
        "a5e7ce6305ef4ae4914ebd2b30ff6060": {
          "model_module": "@jupyter-widgets/controls",
          "model_name": "ProgressStyleModel",
          "state": {
            "_view_name": "StyleView",
            "_model_name": "ProgressStyleModel",
            "description_width": "initial",
            "_view_module": "@jupyter-widgets/base",
            "_model_module_version": "1.5.0",
            "_view_count": null,
            "_view_module_version": "1.2.0",
            "bar_color": null,
            "_model_module": "@jupyter-widgets/controls"
          }
        },
        "6ed62e5e5aaa4dcda6e984ab457d6c76": {
          "model_module": "@jupyter-widgets/base",
          "model_name": "LayoutModel",
          "state": {
            "_view_name": "LayoutView",
            "grid_template_rows": null,
            "right": null,
            "justify_content": null,
            "_view_module": "@jupyter-widgets/base",
            "overflow": null,
            "_model_module_version": "1.2.0",
            "_view_count": null,
            "flex_flow": null,
            "width": null,
            "min_width": null,
            "border": null,
            "align_items": null,
            "bottom": null,
            "_model_module": "@jupyter-widgets/base",
            "top": null,
            "grid_column": null,
            "overflow_y": null,
            "overflow_x": null,
            "grid_auto_flow": null,
            "grid_area": null,
            "grid_template_columns": null,
            "flex": null,
            "_model_name": "LayoutModel",
            "justify_items": null,
            "grid_row": null,
            "max_height": null,
            "align_content": null,
            "visibility": null,
            "align_self": null,
            "height": null,
            "min_height": null,
            "padding": null,
            "grid_auto_rows": null,
            "grid_gap": null,
            "max_width": null,
            "order": null,
            "_view_module_version": "1.2.0",
            "grid_template_areas": null,
            "object_position": null,
            "object_fit": null,
            "grid_auto_columns": null,
            "margin": null,
            "display": null,
            "left": null
          }
        },
        "7745d94dcc06437e984495fb18a016a2": {
          "model_module": "@jupyter-widgets/controls",
          "model_name": "DescriptionStyleModel",
          "state": {
            "_view_name": "StyleView",
            "_model_name": "DescriptionStyleModel",
            "description_width": "",
            "_view_module": "@jupyter-widgets/base",
            "_model_module_version": "1.5.0",
            "_view_count": null,
            "_view_module_version": "1.2.0",
            "_model_module": "@jupyter-widgets/controls"
          }
        },
        "6da9a06ae2314e8eb28d167fd9c83e07": {
          "model_module": "@jupyter-widgets/base",
          "model_name": "LayoutModel",
          "state": {
            "_view_name": "LayoutView",
            "grid_template_rows": null,
            "right": null,
            "justify_content": null,
            "_view_module": "@jupyter-widgets/base",
            "overflow": null,
            "_model_module_version": "1.2.0",
            "_view_count": null,
            "flex_flow": null,
            "width": null,
            "min_width": null,
            "border": null,
            "align_items": null,
            "bottom": null,
            "_model_module": "@jupyter-widgets/base",
            "top": null,
            "grid_column": null,
            "overflow_y": null,
            "overflow_x": null,
            "grid_auto_flow": null,
            "grid_area": null,
            "grid_template_columns": null,
            "flex": null,
            "_model_name": "LayoutModel",
            "justify_items": null,
            "grid_row": null,
            "max_height": null,
            "align_content": null,
            "visibility": null,
            "align_self": null,
            "height": null,
            "min_height": null,
            "padding": null,
            "grid_auto_rows": null,
            "grid_gap": null,
            "max_width": null,
            "order": null,
            "_view_module_version": "1.2.0",
            "grid_template_areas": null,
            "object_position": null,
            "object_fit": null,
            "grid_auto_columns": null,
            "margin": null,
            "display": null,
            "left": null
          }
        }
      }
    }
  },
  "cells": [
    {
      "cell_type": "code",
      "metadata": {
        "id": "iwv_EIX1JMkP"
      },
      "source": [
        "import torch, torchvision, PIL, numpy as np\n",
        "import pathlib\n",
        "import matplotlib.pyplot as plt\n",
        "import matplotlib.patches as patches\n",
        "from tqdm.auto import tqdm\n",
        "import pandas as pd\n",
        "from google.colab import drive\n",
        "import shutil\n",
        "import os"
      ],
      "execution_count": 1,
      "outputs": []
    },
    {
      "cell_type": "markdown",
      "metadata": {
        "id": "Ht31f8xWJhsk"
      },
      "source": [
        "Get images and data. Relevant files are found in the respository except the images, which are found here: https://drive.google.com/file/d/1-0yYrZAs-BoonZeXHhS5Cb5jWHzlNFvK/view?usp=sharing."
      ]
    },
    {
      "cell_type": "code",
      "metadata": {
        "colab": {
          "base_uri": "https://localhost:8080/"
        },
        "id": "5PF3zn-jM6So",
        "outputId": "8ad39078-d788-4038-d519-f278274cfadf"
      },
      "source": [
        "drive.mount('/content/drive')\n",
        "with open(f'/content/drive/My Drive/CPEN 291 Datasets/Sports_Dataset/annotations_with_bbox.csv', 'r'):\n",
        "  shutil.copy(\"/content/drive/My Drive/CPEN 291 Datasets/Sports_Dataset/annotations_with_bbox.csv\", \"annotations_with_bbox.csv\")\n",
        "\n",
        "dataset = pd.read_csv('annotations_with_bbox.csv')\n",
        "\n",
        "with open('/content/drive/My Drive/CPEN 291 Datasets/Sports_Dataset/images.tar.gz', 'r'):\n",
        "  shutil.copy('/content/drive/My Drive/CPEN 291 Datasets/Sports_Dataset/images.tar.gz', 'images.tar.gz')\n",
        "\n",
        "drive.flush_and_unmount()"
      ],
      "execution_count": 2,
      "outputs": [
        {
          "output_type": "stream",
          "text": [
            "Mounted at /content/drive\n"
          ],
          "name": "stdout"
        }
      ]
    },
    {
      "cell_type": "code",
      "metadata": {
        "id": "CdTuNiEvOQqO"
      },
      "source": [
        "!tar xfz images.tar.gz"
      ],
      "execution_count": 3,
      "outputs": []
    },
    {
      "cell_type": "code",
      "metadata": {
        "colab": {
          "base_uri": "https://localhost:8080/",
          "height": 419
        },
        "id": "0byHIe97jXeb",
        "outputId": "ee265404-3246-4803-f662-85220f9299f9"
      },
      "source": [
        "dataset"
      ],
      "execution_count": 4,
      "outputs": [
        {
          "output_type": "execute_result",
          "data": {
            "text/html": [
              "<div>\n",
              "<style scoped>\n",
              "    .dataframe tbody tr th:only-of-type {\n",
              "        vertical-align: middle;\n",
              "    }\n",
              "\n",
              "    .dataframe tbody tr th {\n",
              "        vertical-align: top;\n",
              "    }\n",
              "\n",
              "    .dataframe thead th {\n",
              "        text-align: right;\n",
              "    }\n",
              "</style>\n",
              "<table border=\"1\" class=\"dataframe\">\n",
              "  <thead>\n",
              "    <tr style=\"text-align: right;\">\n",
              "      <th></th>\n",
              "      <th>Unnamed: 0</th>\n",
              "      <th>id</th>\n",
              "      <th>x</th>\n",
              "      <th>y</th>\n",
              "      <th>w</th>\n",
              "      <th>h</th>\n",
              "      <th>label</th>\n",
              "    </tr>\n",
              "  </thead>\n",
              "  <tbody>\n",
              "    <tr>\n",
              "      <th>0</th>\n",
              "      <td>0</td>\n",
              "      <td>015601864.jpg</td>\n",
              "      <td>653.204915</td>\n",
              "      <td>221.000000</td>\n",
              "      <td>7.795085</td>\n",
              "      <td>10.000000</td>\n",
              "      <td>1</td>\n",
              "    </tr>\n",
              "    <tr>\n",
              "      <th>1</th>\n",
              "      <td>1</td>\n",
              "      <td>015601864.jpg</td>\n",
              "      <td>584.734004</td>\n",
              "      <td>269.000000</td>\n",
              "      <td>62.531992</td>\n",
              "      <td>125.000000</td>\n",
              "      <td>1</td>\n",
              "    </tr>\n",
              "    <tr>\n",
              "      <th>2</th>\n",
              "      <td>2</td>\n",
              "      <td>015601864.jpg</td>\n",
              "      <td>638.038276</td>\n",
              "      <td>188.000000</td>\n",
              "      <td>22.961724</td>\n",
              "      <td>33.000000</td>\n",
              "      <td>2</td>\n",
              "    </tr>\n",
              "    <tr>\n",
              "      <th>3</th>\n",
              "      <td>3</td>\n",
              "      <td>015601864.jpg</td>\n",
              "      <td>549.408423</td>\n",
              "      <td>185.000000</td>\n",
              "      <td>66.591577</td>\n",
              "      <td>84.000000</td>\n",
              "      <td>2</td>\n",
              "    </tr>\n",
              "    <tr>\n",
              "      <th>4</th>\n",
              "      <td>4</td>\n",
              "      <td>015601864.jpg</td>\n",
              "      <td>573.000000</td>\n",
              "      <td>136.911589</td>\n",
              "      <td>119.000000</td>\n",
              "      <td>60.176823</td>\n",
              "      <td>3</td>\n",
              "    </tr>\n",
              "    <tr>\n",
              "      <th>...</th>\n",
              "      <td>...</td>\n",
              "      <td>...</td>\n",
              "      <td>...</td>\n",
              "      <td>...</td>\n",
              "      <td>...</td>\n",
              "      <td>...</td>\n",
              "      <td>...</td>\n",
              "    </tr>\n",
              "    <tr>\n",
              "      <th>127530</th>\n",
              "      <td>127530</td>\n",
              "      <td>025398745.jpg</td>\n",
              "      <td>879.486367</td>\n",
              "      <td>259.000000</td>\n",
              "      <td>63.513633</td>\n",
              "      <td>104.000000</td>\n",
              "      <td>2</td>\n",
              "    </tr>\n",
              "    <tr>\n",
              "      <th>127531</th>\n",
              "      <td>127531</td>\n",
              "      <td>025398745.jpg</td>\n",
              "      <td>868.288729</td>\n",
              "      <td>118.000000</td>\n",
              "      <td>102.711271</td>\n",
              "      <td>141.000000</td>\n",
              "      <td>3</td>\n",
              "    </tr>\n",
              "    <tr>\n",
              "      <th>127532</th>\n",
              "      <td>127532</td>\n",
              "      <td>025398745.jpg</td>\n",
              "      <td>871.000000</td>\n",
              "      <td>165.000000</td>\n",
              "      <td>46.000000</td>\n",
              "      <td>63.000000</td>\n",
              "      <td>4</td>\n",
              "    </tr>\n",
              "    <tr>\n",
              "      <th>127533</th>\n",
              "      <td>127533</td>\n",
              "      <td>025398745.jpg</td>\n",
              "      <td>894.986986</td>\n",
              "      <td>118.000000</td>\n",
              "      <td>24.026028</td>\n",
              "      <td>47.000000</td>\n",
              "      <td>5</td>\n",
              "    </tr>\n",
              "    <tr>\n",
              "      <th>127534</th>\n",
              "      <td>127534</td>\n",
              "      <td>025398745.jpg</td>\n",
              "      <td>874.000000</td>\n",
              "      <td>76.000000</td>\n",
              "      <td>40.000000</td>\n",
              "      <td>42.000000</td>\n",
              "      <td>6</td>\n",
              "    </tr>\n",
              "  </tbody>\n",
              "</table>\n",
              "<p>127535 rows × 7 columns</p>\n",
              "</div>"
            ],
            "text/plain": [
              "        Unnamed: 0             id           x  ...           w           h  label\n",
              "0                0  015601864.jpg  653.204915  ...    7.795085   10.000000      1\n",
              "1                1  015601864.jpg  584.734004  ...   62.531992  125.000000      1\n",
              "2                2  015601864.jpg  638.038276  ...   22.961724   33.000000      2\n",
              "3                3  015601864.jpg  549.408423  ...   66.591577   84.000000      2\n",
              "4                4  015601864.jpg  573.000000  ...  119.000000   60.176823      3\n",
              "...            ...            ...         ...  ...         ...         ...    ...\n",
              "127530      127530  025398745.jpg  879.486367  ...   63.513633  104.000000      2\n",
              "127531      127531  025398745.jpg  868.288729  ...  102.711271  141.000000      3\n",
              "127532      127532  025398745.jpg  871.000000  ...   46.000000   63.000000      4\n",
              "127533      127533  025398745.jpg  894.986986  ...   24.026028   47.000000      5\n",
              "127534      127534  025398745.jpg  874.000000  ...   40.000000   42.000000      6\n",
              "\n",
              "[127535 rows x 7 columns]"
            ]
          },
          "metadata": {
            "tags": []
          },
          "execution_count": 4
        }
      ]
    },
    {
      "cell_type": "code",
      "metadata": {
        "id": "PF061nWFV3eP",
        "colab": {
          "base_uri": "https://localhost:8080/"
        },
        "outputId": "b6007b10-44fe-4b59-c810-29414af8056a"
      },
      "source": [
        "drive.mount('/content/drive')\n",
        "with open('/content/drive/My Drive/CPEN 291 Datasets/Tracking_Dataset/2nd_dataset.csv', 'r'):\n",
        "  shutil.copy(\"/content/drive/My Drive/CPEN 291 Datasets/Tracking_Dataset/2nd_dataset.csv\", \"2nd_dataset.csv\")\n",
        "\n",
        "dataset2 = pd.read_csv('2nd_dataset.csv')\n",
        "\n",
        "with open('/content/drive/My Drive/CPEN 291 Datasets/Tracking_Dataset/dataset2.tar.gz', 'r'):\n",
        "  shutil.copy('/content/drive/My Drive/CPEN 291 Datasets/Tracking_Dataset/dataset2.tar.gz', 'dataset2.tar.gz')\n",
        "\n",
        "drive.flush_and_unmount()"
      ],
      "execution_count": 12,
      "outputs": [
        {
          "output_type": "stream",
          "text": [
            "Mounted at /content/drive\n"
          ],
          "name": "stdout"
        }
      ]
    },
    {
      "cell_type": "code",
      "metadata": {
        "id": "d-QiistL2kQg"
      },
      "source": [
        "!tar xfz dataset2.tar.gz"
      ],
      "execution_count": 13,
      "outputs": []
    },
    {
      "cell_type": "code",
      "metadata": {
        "id": "ZzHsSc2cliP8"
      },
      "source": [
        "!mv dataset images_2"
      ],
      "execution_count": 14,
      "outputs": []
    },
    {
      "cell_type": "code",
      "metadata": {
        "colab": {
          "base_uri": "https://localhost:8080/"
        },
        "id": "e6pgBJb03Y5G",
        "outputId": "ff82eec1-4c57-4c21-c51c-3c2e499ca960"
      },
      "source": [
        "print(len(os.listdir('images_2')))\n",
        "print(len(dataset2))\n",
        "print(len(dataset2[\"image\"].unique()))"
      ],
      "execution_count": 15,
      "outputs": [
        {
          "output_type": "stream",
          "text": [
            "7490\n",
            "7490\n",
            "7490\n"
          ],
          "name": "stdout"
        }
      ]
    },
    {
      "cell_type": "code",
      "metadata": {
        "colab": {
          "base_uri": "https://localhost:8080/",
          "height": 419
        },
        "id": "HtNnapCRiHu0",
        "outputId": "6b69bc3d-b90d-4472-c760-98059e9a594a"
      },
      "source": [
        "dataset2.columns = ['Unnamed: 0', 'id', 'x', 'y', 'w', 'h', 'label']\n",
        "dataset2"
      ],
      "execution_count": 17,
      "outputs": [
        {
          "output_type": "execute_result",
          "data": {
            "text/html": [
              "<div>\n",
              "<style scoped>\n",
              "    .dataframe tbody tr th:only-of-type {\n",
              "        vertical-align: middle;\n",
              "    }\n",
              "\n",
              "    .dataframe tbody tr th {\n",
              "        vertical-align: top;\n",
              "    }\n",
              "\n",
              "    .dataframe thead th {\n",
              "        text-align: right;\n",
              "    }\n",
              "</style>\n",
              "<table border=\"1\" class=\"dataframe\">\n",
              "  <thead>\n",
              "    <tr style=\"text-align: right;\">\n",
              "      <th></th>\n",
              "      <th>Unnamed: 0</th>\n",
              "      <th>id</th>\n",
              "      <th>x</th>\n",
              "      <th>y</th>\n",
              "      <th>w</th>\n",
              "      <th>h</th>\n",
              "      <th>label</th>\n",
              "    </tr>\n",
              "  </thead>\n",
              "  <tbody>\n",
              "    <tr>\n",
              "      <th>0</th>\n",
              "      <td>0</td>\n",
              "      <td>ball0040.jpg</td>\n",
              "      <td>200.34</td>\n",
              "      <td>113.73</td>\n",
              "      <td>45.13</td>\n",
              "      <td>45.59</td>\n",
              "      <td>7</td>\n",
              "    </tr>\n",
              "    <tr>\n",
              "      <th>1</th>\n",
              "      <td>1</td>\n",
              "      <td>ball0037.jpg</td>\n",
              "      <td>202.39</td>\n",
              "      <td>113.73</td>\n",
              "      <td>44.68</td>\n",
              "      <td>45.59</td>\n",
              "      <td>7</td>\n",
              "    </tr>\n",
              "    <tr>\n",
              "      <th>2</th>\n",
              "      <td>2</td>\n",
              "      <td>ball0254.jpg</td>\n",
              "      <td>203.30</td>\n",
              "      <td>113.73</td>\n",
              "      <td>44.68</td>\n",
              "      <td>45.13</td>\n",
              "      <td>7</td>\n",
              "    </tr>\n",
              "    <tr>\n",
              "      <th>3</th>\n",
              "      <td>3</td>\n",
              "      <td>ball0300.jpg</td>\n",
              "      <td>203.30</td>\n",
              "      <td>114.19</td>\n",
              "      <td>44.68</td>\n",
              "      <td>44.90</td>\n",
              "      <td>7</td>\n",
              "    </tr>\n",
              "    <tr>\n",
              "      <th>4</th>\n",
              "      <td>4</td>\n",
              "      <td>ball0021.jpg</td>\n",
              "      <td>201.94</td>\n",
              "      <td>114.19</td>\n",
              "      <td>45.35</td>\n",
              "      <td>45.58</td>\n",
              "      <td>7</td>\n",
              "    </tr>\n",
              "    <tr>\n",
              "      <th>...</th>\n",
              "      <td>...</td>\n",
              "      <td>...</td>\n",
              "      <td>...</td>\n",
              "      <td>...</td>\n",
              "      <td>...</td>\n",
              "      <td>...</td>\n",
              "      <td>...</td>\n",
              "    </tr>\n",
              "    <tr>\n",
              "      <th>7485</th>\n",
              "      <td>7570</td>\n",
              "      <td>dog-toy2292.jpg</td>\n",
              "      <td>225.00</td>\n",
              "      <td>145.00</td>\n",
              "      <td>34.00</td>\n",
              "      <td>56.00</td>\n",
              "      <td>16</td>\n",
              "    </tr>\n",
              "    <tr>\n",
              "      <th>7486</th>\n",
              "      <td>7571</td>\n",
              "      <td>dog-toy2293.jpg</td>\n",
              "      <td>223.00</td>\n",
              "      <td>151.00</td>\n",
              "      <td>34.00</td>\n",
              "      <td>56.00</td>\n",
              "      <td>16</td>\n",
              "    </tr>\n",
              "    <tr>\n",
              "      <th>7487</th>\n",
              "      <td>7572</td>\n",
              "      <td>dog-toy2294.jpg</td>\n",
              "      <td>221.00</td>\n",
              "      <td>157.00</td>\n",
              "      <td>34.00</td>\n",
              "      <td>57.00</td>\n",
              "      <td>16</td>\n",
              "    </tr>\n",
              "    <tr>\n",
              "      <th>7488</th>\n",
              "      <td>7573</td>\n",
              "      <td>dog-toy2295.jpg</td>\n",
              "      <td>219.00</td>\n",
              "      <td>164.00</td>\n",
              "      <td>34.00</td>\n",
              "      <td>57.00</td>\n",
              "      <td>16</td>\n",
              "    </tr>\n",
              "    <tr>\n",
              "      <th>7489</th>\n",
              "      <td>7574</td>\n",
              "      <td>dog-toy2296.jpg</td>\n",
              "      <td>217.00</td>\n",
              "      <td>170.00</td>\n",
              "      <td>34.00</td>\n",
              "      <td>58.00</td>\n",
              "      <td>16</td>\n",
              "    </tr>\n",
              "  </tbody>\n",
              "</table>\n",
              "<p>7490 rows × 7 columns</p>\n",
              "</div>"
            ],
            "text/plain": [
              "      Unnamed: 0               id       x       y      w      h  label\n",
              "0              0     ball0040.jpg  200.34  113.73  45.13  45.59      7\n",
              "1              1     ball0037.jpg  202.39  113.73  44.68  45.59      7\n",
              "2              2     ball0254.jpg  203.30  113.73  44.68  45.13      7\n",
              "3              3     ball0300.jpg  203.30  114.19  44.68  44.90      7\n",
              "4              4     ball0021.jpg  201.94  114.19  45.35  45.58      7\n",
              "...          ...              ...     ...     ...    ...    ...    ...\n",
              "7485        7570  dog-toy2292.jpg  225.00  145.00  34.00  56.00     16\n",
              "7486        7571  dog-toy2293.jpg  223.00  151.00  34.00  56.00     16\n",
              "7487        7572  dog-toy2294.jpg  221.00  157.00  34.00  57.00     16\n",
              "7488        7573  dog-toy2295.jpg  219.00  164.00  34.00  57.00     16\n",
              "7489        7574  dog-toy2296.jpg  217.00  170.00  34.00  58.00     16\n",
              "\n",
              "[7490 rows x 7 columns]"
            ]
          },
          "metadata": {
            "tags": []
          },
          "execution_count": 17
        }
      ]
    },
    {
      "cell_type": "markdown",
      "metadata": {
        "id": "A0-QQx6UJj2K"
      },
      "source": [
        "Create the dataset class."
      ]
    },
    {
      "cell_type": "code",
      "metadata": {
        "id": "T87jMsHeMXEq"
      },
      "source": [
        "class DetectionDataset(torch.utils.data.Dataset):\n",
        "  def __init__(self, df, image_dir, transform=None):\n",
        "    super().__init__()\n",
        "\n",
        "    self.df = df\n",
        "    self.image_ids = self.df['id'].unique()\n",
        "    self.image_dir = pathlib.Path(image_dir).resolve()\n",
        "    self.transform = transform\n",
        "  \n",
        "  def __getitem__(self, idx):\n",
        "    image_id = self.image_ids[idx]\n",
        "    records = self.df[self.df['id'] == image_id]\n",
        "    im = PIL.Image.open(self.image_dir/image_id).convert('RGB')\n",
        "    im = torchvision.transforms.ToTensor()(im)\n",
        "\n",
        "    # bounding box coordinates are stored with width and height while we want an endpoint\n",
        "    boxes = records[['x', 'y', 'w', 'h']].values\n",
        "    boxes[:, 2] = boxes[:, 0] + boxes[:, 2]\n",
        "    boxes[:, 3] = boxes[:, 1] + boxes[:, 3]\n",
        "    boxes = torch.as_tensor(boxes, dtype=torch.float32)\n",
        "    area = (boxes[:,3] - boxes[:,1]) * (boxes[:,2] - boxes[:,0])\n",
        "    labels = torch.tensor(records['label'].values)\n",
        "\n",
        "\n",
        "    # if self.transform:\n",
        "    #   im = self.transform(im)\n",
        "\n",
        "    target = {\n",
        "        'boxes': boxes,\n",
        "        'labels': labels,\n",
        "        'image_id': torch.tensor([idx]),\n",
        "        'area': area\n",
        "    }\n",
        "\n",
        "    # if self.transform:\n",
        "    #   im, target = self.transform(im, target)\n",
        "\n",
        "    return im, target\n",
        "\n",
        "  def __len__(self):\n",
        "    return self.image_ids.shape[0]"
      ],
      "execution_count": 55,
      "outputs": []
    },
    {
      "cell_type": "code",
      "metadata": {
        "id": "ScNbU7yJQzZc"
      },
      "source": [
        "dataset_full = DetectionDataset(dataset, 'images_data')"
      ],
      "execution_count": 6,
      "outputs": []
    },
    {
      "cell_type": "code",
      "metadata": {
        "colab": {
          "base_uri": "https://localhost:8080/"
        },
        "id": "4NUAvqLcN9QD",
        "outputId": "7e2f7e35-541c-4af5-d5e4-839a754e8eb0"
      },
      "source": [
        "dataset_full[0]"
      ],
      "execution_count": 7,
      "outputs": [
        {
          "output_type": "execute_result",
          "data": {
            "text/plain": [
              "(tensor([[[0.0078, 0.0078, 0.0039,  ..., 0.0078, 0.0078, 0.0078],\n",
              "          [0.0118, 0.0118, 0.0078,  ..., 0.0078, 0.0078, 0.0078],\n",
              "          [0.0431, 0.0510, 0.0510,  ..., 0.0275, 0.0314, 0.0392],\n",
              "          ...,\n",
              "          [0.5843, 0.5882, 0.5882,  ..., 0.0078, 0.0078, 0.0078],\n",
              "          [0.0078, 0.0039, 0.0039,  ..., 0.0000, 0.0000, 0.0000],\n",
              "          [0.0314, 0.0314, 0.0235,  ..., 0.0000, 0.0000, 0.0000]],\n",
              " \n",
              "         [[0.0039, 0.0039, 0.0078,  ..., 0.0078, 0.0078, 0.0078],\n",
              "          [0.0118, 0.0118, 0.0118,  ..., 0.0039, 0.0039, 0.0039],\n",
              "          [0.0706, 0.0706, 0.0667,  ..., 0.0314, 0.0353, 0.0314],\n",
              "          ...,\n",
              "          [0.5804, 0.5843, 0.5843,  ..., 0.0196, 0.0196, 0.0196],\n",
              "          [0.0039, 0.0000, 0.0000,  ..., 0.0078, 0.0078, 0.0078],\n",
              "          [0.0275, 0.0275, 0.0196,  ..., 0.0078, 0.0078, 0.0078]],\n",
              " \n",
              "         [[0.0000, 0.0000, 0.0000,  ..., 0.0000, 0.0000, 0.0000],\n",
              "          [0.0039, 0.0118, 0.0196,  ..., 0.0353, 0.0353, 0.0353],\n",
              "          [0.0941, 0.0941, 0.1098,  ..., 0.1137, 0.1176, 0.1176],\n",
              "          ...,\n",
              "          [0.5647, 0.5686, 0.5686,  ..., 0.0549, 0.0549, 0.0549],\n",
              "          [0.0000, 0.0000, 0.0000,  ..., 0.0431, 0.0431, 0.0431],\n",
              "          [0.0196, 0.0196, 0.0118,  ..., 0.0431, 0.0431, 0.0431]]]),\n",
              " {'boxes': tensor([[ 653.2049,  221.0000,  661.0000,  231.0000],\n",
              "          [ 584.7340,  269.0000,  647.2660,  394.0000],\n",
              "          [ 638.0383,  188.0000,  661.0000,  221.0000],\n",
              "          [ 549.4084,  185.0000,  616.0000,  269.0000],\n",
              "          [ 573.0000,  136.9116,  692.0000,  197.0884],\n",
              "          [ 669.7072,  240.0000,  706.2928,  313.0000],\n",
              "          [ 553.0000,  161.0000,  606.0000,  217.0000],\n",
              "          [ 678.2477,  185.0000,  705.7523,  240.0000],\n",
              "          [ 553.0000,  148.9066,  601.0000,  173.0934],\n",
              "          [ 627.0000,  100.0000,  706.0000,  198.0000],\n",
              "          [ 937.9986,  315.0000,  982.0014,  403.0000],\n",
              "          [ 895.0000,  279.0000,  910.0000,  293.0000],\n",
              "          [ 933.6025,  218.0000, 1012.0000,  315.0000],\n",
              "          [ 910.0000,  223.0000,  945.0000,  279.0000],\n",
              "          [ 888.0000,  150.5906,  976.0000,  206.0000],\n",
              "          [ 955.0000,  203.0000, 1013.0000,  263.0000],\n",
              "          [ 852.0115,  229.0000,  889.9885,  304.0000],\n",
              "          [ 924.0000,  180.7374, 1013.0000,  225.2626],\n",
              "          [ 869.1933,  174.0000,  896.8067,  229.0000],\n",
              "          [ 841.0000,  145.0000,  902.0000,  228.0000]]),\n",
              "  'image_id': tensor([0]),\n",
              "  'labels': tensor([1, 1, 2, 2, 3, 4, 4, 5, 5, 6, 1, 1, 2, 2, 3, 4, 4, 5, 5, 6])})"
            ]
          },
          "metadata": {
            "tags": []
          },
          "execution_count": 7
        }
      ]
    },
    {
      "cell_type": "code",
      "metadata": {
        "colab": {
          "base_uri": "https://localhost:8080/"
        },
        "id": "KBPHXVhIRcqJ",
        "outputId": "7c25c294-c536-4b7d-8827-eb144a6d7315"
      },
      "source": [
        "print(dataset.loc[0])"
      ],
      "execution_count": 8,
      "outputs": [
        {
          "output_type": "stream",
          "text": [
            "Unnamed: 0                0\n",
            "id            015601864.jpg\n",
            "x                   653.205\n",
            "y                       221\n",
            "w                   7.79508\n",
            "h                        10\n",
            "label                     1\n",
            "Name: 0, dtype: object\n"
          ],
          "name": "stdout"
        }
      ]
    },
    {
      "cell_type": "markdown",
      "metadata": {
        "id": "ejaKQws2KDUM"
      },
      "source": [
        "Now to check how it looks as a picture instead of just numbers."
      ]
    },
    {
      "cell_type": "code",
      "metadata": {
        "id": "j5X4mGAALCD-"
      },
      "source": [
        "classes = {\n",
        "    1: 'shin',\n",
        "    2: 'thigh',\n",
        "    3: 'torso',\n",
        "    4: 'forearm',\n",
        "    5: 'uparm',\n",
        "    6: 'head',\n",
        "    7: 'ball',\n",
        "    8: 'cup',\n",
        "    9: 'juice',\n",
        "    10: 'rubikscube',\n",
        "    11: 'hand',\n",
        "    12: 'bird',\n",
        "    13: 'motorcycle',\n",
        "    14: 'bike',\n",
        "    15: 'car',\n",
        "    16: 'toy-dog'\n",
        "}"
      ],
      "execution_count": 9,
      "outputs": []
    },
    {
      "cell_type": "code",
      "metadata": {
        "id": "1WpKKpnsTF0D"
      },
      "source": [
        "def show_img(img, title=None):\n",
        "  if torch.is_tensor(img):\n",
        "    img = img.cpu().permute(1,2,0)\n",
        "  plt.imshow(img)\n",
        "  if title:\n",
        "    plt.title(title, color='w')\n",
        "  plt.axis('off')\n",
        "\n",
        "def show_boxes(img, sample, classes=None):\n",
        "  show_img(img)\n",
        "  ax = plt.gca()\n",
        "  boxes = sample['boxes']\n",
        "  labels = sample['labels']\n",
        "  xmin, xmax = ax.get_xlim()\n",
        "  ymax, ymin = ax.get_ylim()\n",
        "  isx, isy = xmax-xmin, ymax-ymin\n",
        "  for i in range(boxes.shape[0]):\n",
        "    box = boxes[i]\n",
        "    label = labels[i]\n",
        "    # x = max(xmin, box[0])\n",
        "    # y = max(ymin, box[1])\n",
        "    # w = min(box[2] - x, xmax - x)\n",
        "    # h = min(box[3] - y, ymax - y)\n",
        "    # x = xmin + isx * box[0]\n",
        "    # y = ymin + isy * box[1]\n",
        "    # w = isx * (box[2] - box[0])\n",
        "    # h = isy * (box[3] - box[1])\n",
        "    x = box[0]\n",
        "    y = box[1]\n",
        "    w = box[2] - x\n",
        "    h = box[3] - y\n",
        "    bbox = patches.Rectangle((x, y), w, h, ec='r', fc='none')\n",
        "    ax.add_patch(bbox)\n",
        "    if classes:\n",
        "      plt.text(x, y, classes[label.item()], backgroundcolor='r', c='w')\n"
      ],
      "execution_count": 10,
      "outputs": []
    },
    {
      "cell_type": "code",
      "metadata": {
        "colab": {
          "base_uri": "https://localhost:8080/",
          "height": 219
        },
        "id": "mj5zMBpOLBGJ",
        "outputId": "5645b4c9-90a4-4337-8bf6-31a71ae0a85e"
      },
      "source": [
        "im, result = dataset_full[0]\n",
        "\n",
        "show_boxes(im, result) #plotting with labels makes it impossible to see\n"
      ],
      "execution_count": 11,
      "outputs": [
        {
          "output_type": "display_data",
          "data": {
            "image/png": "[encoded data removed]",
            "text/plain": [
              "<Figure size 432x288 with 1 Axes>"
            ]
          },
          "metadata": {
            "tags": [],
            "needs_background": "light"
          }
        }
      ]
    },
    {
      "cell_type": "markdown",
      "metadata": {
        "id": "hAj-yo7QkOY5"
      },
      "source": [
        "That looks good, now to combine the datasets."
      ]
    },
    {
      "cell_type": "code",
      "metadata": {
        "id": "EdBxdM3b3bo5"
      },
      "source": [
        "dataset_comb = dataset.append(dataset2, ignore_index=True)\n"
      ],
      "execution_count": 18,
      "outputs": []
    },
    {
      "cell_type": "code",
      "metadata": {
        "colab": {
          "base_uri": "https://localhost:8080/",
          "height": 419
        },
        "id": "wnE0M1r_hsRq",
        "outputId": "ef2eb0fc-0c60-480d-ee68-2e24b7d4b6bb"
      },
      "source": [
        "dataset_comb"
      ],
      "execution_count": 19,
      "outputs": [
        {
          "output_type": "execute_result",
          "data": {
            "text/html": [
              "<div>\n",
              "<style scoped>\n",
              "    .dataframe tbody tr th:only-of-type {\n",
              "        vertical-align: middle;\n",
              "    }\n",
              "\n",
              "    .dataframe tbody tr th {\n",
              "        vertical-align: top;\n",
              "    }\n",
              "\n",
              "    .dataframe thead th {\n",
              "        text-align: right;\n",
              "    }\n",
              "</style>\n",
              "<table border=\"1\" class=\"dataframe\">\n",
              "  <thead>\n",
              "    <tr style=\"text-align: right;\">\n",
              "      <th></th>\n",
              "      <th>Unnamed: 0</th>\n",
              "      <th>id</th>\n",
              "      <th>x</th>\n",
              "      <th>y</th>\n",
              "      <th>w</th>\n",
              "      <th>h</th>\n",
              "      <th>label</th>\n",
              "    </tr>\n",
              "  </thead>\n",
              "  <tbody>\n",
              "    <tr>\n",
              "      <th>0</th>\n",
              "      <td>0</td>\n",
              "      <td>015601864.jpg</td>\n",
              "      <td>653.204915</td>\n",
              "      <td>221.000000</td>\n",
              "      <td>7.795085</td>\n",
              "      <td>10.000000</td>\n",
              "      <td>1</td>\n",
              "    </tr>\n",
              "    <tr>\n",
              "      <th>1</th>\n",
              "      <td>1</td>\n",
              "      <td>015601864.jpg</td>\n",
              "      <td>584.734004</td>\n",
              "      <td>269.000000</td>\n",
              "      <td>62.531992</td>\n",
              "      <td>125.000000</td>\n",
              "      <td>1</td>\n",
              "    </tr>\n",
              "    <tr>\n",
              "      <th>2</th>\n",
              "      <td>2</td>\n",
              "      <td>015601864.jpg</td>\n",
              "      <td>638.038276</td>\n",
              "      <td>188.000000</td>\n",
              "      <td>22.961724</td>\n",
              "      <td>33.000000</td>\n",
              "      <td>2</td>\n",
              "    </tr>\n",
              "    <tr>\n",
              "      <th>3</th>\n",
              "      <td>3</td>\n",
              "      <td>015601864.jpg</td>\n",
              "      <td>549.408423</td>\n",
              "      <td>185.000000</td>\n",
              "      <td>66.591577</td>\n",
              "      <td>84.000000</td>\n",
              "      <td>2</td>\n",
              "    </tr>\n",
              "    <tr>\n",
              "      <th>4</th>\n",
              "      <td>4</td>\n",
              "      <td>015601864.jpg</td>\n",
              "      <td>573.000000</td>\n",
              "      <td>136.911589</td>\n",
              "      <td>119.000000</td>\n",
              "      <td>60.176823</td>\n",
              "      <td>3</td>\n",
              "    </tr>\n",
              "    <tr>\n",
              "      <th>...</th>\n",
              "      <td>...</td>\n",
              "      <td>...</td>\n",
              "      <td>...</td>\n",
              "      <td>...</td>\n",
              "      <td>...</td>\n",
              "      <td>...</td>\n",
              "      <td>...</td>\n",
              "    </tr>\n",
              "    <tr>\n",
              "      <th>135020</th>\n",
              "      <td>7570</td>\n",
              "      <td>dog-toy2292.jpg</td>\n",
              "      <td>225.000000</td>\n",
              "      <td>145.000000</td>\n",
              "      <td>34.000000</td>\n",
              "      <td>56.000000</td>\n",
              "      <td>16</td>\n",
              "    </tr>\n",
              "    <tr>\n",
              "      <th>135021</th>\n",
              "      <td>7571</td>\n",
              "      <td>dog-toy2293.jpg</td>\n",
              "      <td>223.000000</td>\n",
              "      <td>151.000000</td>\n",
              "      <td>34.000000</td>\n",
              "      <td>56.000000</td>\n",
              "      <td>16</td>\n",
              "    </tr>\n",
              "    <tr>\n",
              "      <th>135022</th>\n",
              "      <td>7572</td>\n",
              "      <td>dog-toy2294.jpg</td>\n",
              "      <td>221.000000</td>\n",
              "      <td>157.000000</td>\n",
              "      <td>34.000000</td>\n",
              "      <td>57.000000</td>\n",
              "      <td>16</td>\n",
              "    </tr>\n",
              "    <tr>\n",
              "      <th>135023</th>\n",
              "      <td>7573</td>\n",
              "      <td>dog-toy2295.jpg</td>\n",
              "      <td>219.000000</td>\n",
              "      <td>164.000000</td>\n",
              "      <td>34.000000</td>\n",
              "      <td>57.000000</td>\n",
              "      <td>16</td>\n",
              "    </tr>\n",
              "    <tr>\n",
              "      <th>135024</th>\n",
              "      <td>7574</td>\n",
              "      <td>dog-toy2296.jpg</td>\n",
              "      <td>217.000000</td>\n",
              "      <td>170.000000</td>\n",
              "      <td>34.000000</td>\n",
              "      <td>58.000000</td>\n",
              "      <td>16</td>\n",
              "    </tr>\n",
              "  </tbody>\n",
              "</table>\n",
              "<p>135025 rows × 7 columns</p>\n",
              "</div>"
            ],
            "text/plain": [
              "        Unnamed: 0               id           x  ...           w           h  label\n",
              "0                0    015601864.jpg  653.204915  ...    7.795085   10.000000      1\n",
              "1                1    015601864.jpg  584.734004  ...   62.531992  125.000000      1\n",
              "2                2    015601864.jpg  638.038276  ...   22.961724   33.000000      2\n",
              "3                3    015601864.jpg  549.408423  ...   66.591577   84.000000      2\n",
              "4                4    015601864.jpg  573.000000  ...  119.000000   60.176823      3\n",
              "...            ...              ...         ...  ...         ...         ...    ...\n",
              "135020        7570  dog-toy2292.jpg  225.000000  ...   34.000000   56.000000     16\n",
              "135021        7571  dog-toy2293.jpg  223.000000  ...   34.000000   56.000000     16\n",
              "135022        7572  dog-toy2294.jpg  221.000000  ...   34.000000   57.000000     16\n",
              "135023        7573  dog-toy2295.jpg  219.000000  ...   34.000000   57.000000     16\n",
              "135024        7574  dog-toy2296.jpg  217.000000  ...   34.000000   58.000000     16\n",
              "\n",
              "[135025 rows x 7 columns]"
            ]
          },
          "metadata": {
            "tags": []
          },
          "execution_count": 19
        }
      ]
    },
    {
      "cell_type": "code",
      "metadata": {
        "colab": {
          "base_uri": "https://localhost:8080/",
          "height": 419
        },
        "id": "EFmh_zwxj0HL",
        "outputId": "d164327c-5f76-4625-adce-6e377528ec66"
      },
      "source": [
        "dataset_comb.drop(labels=\"Unnamed: 0\", axis='columns')"
      ],
      "execution_count": 20,
      "outputs": [
        {
          "output_type": "execute_result",
          "data": {
            "text/html": [
              "<div>\n",
              "<style scoped>\n",
              "    .dataframe tbody tr th:only-of-type {\n",
              "        vertical-align: middle;\n",
              "    }\n",
              "\n",
              "    .dataframe tbody tr th {\n",
              "        vertical-align: top;\n",
              "    }\n",
              "\n",
              "    .dataframe thead th {\n",
              "        text-align: right;\n",
              "    }\n",
              "</style>\n",
              "<table border=\"1\" class=\"dataframe\">\n",
              "  <thead>\n",
              "    <tr style=\"text-align: right;\">\n",
              "      <th></th>\n",
              "      <th>id</th>\n",
              "      <th>x</th>\n",
              "      <th>y</th>\n",
              "      <th>w</th>\n",
              "      <th>h</th>\n",
              "      <th>label</th>\n",
              "    </tr>\n",
              "  </thead>\n",
              "  <tbody>\n",
              "    <tr>\n",
              "      <th>0</th>\n",
              "      <td>015601864.jpg</td>\n",
              "      <td>653.204915</td>\n",
              "      <td>221.000000</td>\n",
              "      <td>7.795085</td>\n",
              "      <td>10.000000</td>\n",
              "      <td>1</td>\n",
              "    </tr>\n",
              "    <tr>\n",
              "      <th>1</th>\n",
              "      <td>015601864.jpg</td>\n",
              "      <td>584.734004</td>\n",
              "      <td>269.000000</td>\n",
              "      <td>62.531992</td>\n",
              "      <td>125.000000</td>\n",
              "      <td>1</td>\n",
              "    </tr>\n",
              "    <tr>\n",
              "      <th>2</th>\n",
              "      <td>015601864.jpg</td>\n",
              "      <td>638.038276</td>\n",
              "      <td>188.000000</td>\n",
              "      <td>22.961724</td>\n",
              "      <td>33.000000</td>\n",
              "      <td>2</td>\n",
              "    </tr>\n",
              "    <tr>\n",
              "      <th>3</th>\n",
              "      <td>015601864.jpg</td>\n",
              "      <td>549.408423</td>\n",
              "      <td>185.000000</td>\n",
              "      <td>66.591577</td>\n",
              "      <td>84.000000</td>\n",
              "      <td>2</td>\n",
              "    </tr>\n",
              "    <tr>\n",
              "      <th>4</th>\n",
              "      <td>015601864.jpg</td>\n",
              "      <td>573.000000</td>\n",
              "      <td>136.911589</td>\n",
              "      <td>119.000000</td>\n",
              "      <td>60.176823</td>\n",
              "      <td>3</td>\n",
              "    </tr>\n",
              "    <tr>\n",
              "      <th>...</th>\n",
              "      <td>...</td>\n",
              "      <td>...</td>\n",
              "      <td>...</td>\n",
              "      <td>...</td>\n",
              "      <td>...</td>\n",
              "      <td>...</td>\n",
              "    </tr>\n",
              "    <tr>\n",
              "      <th>135020</th>\n",
              "      <td>dog-toy2292.jpg</td>\n",
              "      <td>225.000000</td>\n",
              "      <td>145.000000</td>\n",
              "      <td>34.000000</td>\n",
              "      <td>56.000000</td>\n",
              "      <td>16</td>\n",
              "    </tr>\n",
              "    <tr>\n",
              "      <th>135021</th>\n",
              "      <td>dog-toy2293.jpg</td>\n",
              "      <td>223.000000</td>\n",
              "      <td>151.000000</td>\n",
              "      <td>34.000000</td>\n",
              "      <td>56.000000</td>\n",
              "      <td>16</td>\n",
              "    </tr>\n",
              "    <tr>\n",
              "      <th>135022</th>\n",
              "      <td>dog-toy2294.jpg</td>\n",
              "      <td>221.000000</td>\n",
              "      <td>157.000000</td>\n",
              "      <td>34.000000</td>\n",
              "      <td>57.000000</td>\n",
              "      <td>16</td>\n",
              "    </tr>\n",
              "    <tr>\n",
              "      <th>135023</th>\n",
              "      <td>dog-toy2295.jpg</td>\n",
              "      <td>219.000000</td>\n",
              "      <td>164.000000</td>\n",
              "      <td>34.000000</td>\n",
              "      <td>57.000000</td>\n",
              "      <td>16</td>\n",
              "    </tr>\n",
              "    <tr>\n",
              "      <th>135024</th>\n",
              "      <td>dog-toy2296.jpg</td>\n",
              "      <td>217.000000</td>\n",
              "      <td>170.000000</td>\n",
              "      <td>34.000000</td>\n",
              "      <td>58.000000</td>\n",
              "      <td>16</td>\n",
              "    </tr>\n",
              "  </tbody>\n",
              "</table>\n",
              "<p>135025 rows × 6 columns</p>\n",
              "</div>"
            ],
            "text/plain": [
              "                     id           x           y           w           h  label\n",
              "0         015601864.jpg  653.204915  221.000000    7.795085   10.000000      1\n",
              "1         015601864.jpg  584.734004  269.000000   62.531992  125.000000      1\n",
              "2         015601864.jpg  638.038276  188.000000   22.961724   33.000000      2\n",
              "3         015601864.jpg  549.408423  185.000000   66.591577   84.000000      2\n",
              "4         015601864.jpg  573.000000  136.911589  119.000000   60.176823      3\n",
              "...                 ...         ...         ...         ...         ...    ...\n",
              "135020  dog-toy2292.jpg  225.000000  145.000000   34.000000   56.000000     16\n",
              "135021  dog-toy2293.jpg  223.000000  151.000000   34.000000   56.000000     16\n",
              "135022  dog-toy2294.jpg  221.000000  157.000000   34.000000   57.000000     16\n",
              "135023  dog-toy2295.jpg  219.000000  164.000000   34.000000   57.000000     16\n",
              "135024  dog-toy2296.jpg  217.000000  170.000000   34.000000   58.000000     16\n",
              "\n",
              "[135025 rows x 6 columns]"
            ]
          },
          "metadata": {
            "tags": []
          },
          "execution_count": 20
        }
      ]
    },
    {
      "cell_type": "markdown",
      "metadata": {
        "id": "ZcNjV1lRkQPF"
      },
      "source": [
        "Combine the image folders."
      ]
    },
    {
      "cell_type": "code",
      "metadata": {
        "id": "54Ix3dG8kSl8"
      },
      "source": [
        "!mkdir images_full"
      ],
      "execution_count": 21,
      "outputs": []
    },
    {
      "cell_type": "code",
      "metadata": {
        "id": "xxBrhaqIkWwm"
      },
      "source": [
        "for fn in os.listdir('images_data'):\n",
        "  shutil.copy(f'images_data/{fn}', f'images_full/{fn}')\n",
        "for fn in os.listdir('images_2'):\n",
        "  shutil.copy(f'images_2/{fn}', f'images_full/{fn}')"
      ],
      "execution_count": 22,
      "outputs": []
    },
    {
      "cell_type": "code",
      "metadata": {
        "colab": {
          "base_uri": "https://localhost:8080/"
        },
        "id": "ovYO-zh5lPTB",
        "outputId": "a82d57a2-adfa-4091-94b8-b0c0918d9d12"
      },
      "source": [
        "print(len(os.listdir('images_full')))\n",
        "print(len(dataset_comb['id'].unique()))"
      ],
      "execution_count": 27,
      "outputs": [
        {
          "output_type": "stream",
          "text": [
            "16542\n",
            "16542\n"
          ],
          "name": "stdout"
        }
      ]
    },
    {
      "cell_type": "code",
      "metadata": {
        "id": "pOKyw5_JgT0a"
      },
      "source": [
        "dataset_full = DetectionDataset(dataset_comb, 'images_full')"
      ],
      "execution_count": 57,
      "outputs": []
    },
    {
      "cell_type": "markdown",
      "metadata": {
        "id": "gbzaZoGjluyQ"
      },
      "source": [
        "Now to make the actual model."
      ]
    },
    {
      "cell_type": "code",
      "metadata": {
        "id": "N9h4uHf6lo63"
      },
      "source": [
        "from torchvision.models.detection.faster_rcnn import FastRCNNPredictor\n",
        "def get_FRCNN_model(num_classes):\n",
        "  model = torchvision.models.detection.fasterrcnn_resnet50_fpn(pretrained=True)\n",
        "\n",
        "  in_features = model.roi_heads.box_predictor.cls_score.in_features\n",
        "\n",
        "  model.roi_heads.box_predictor = FastRCNNPredictor(in_features, num_classes)\n",
        "\n",
        "  return model"
      ],
      "execution_count": 29,
      "outputs": []
    },
    {
      "cell_type": "code",
      "metadata": {
        "colab": {
          "base_uri": "https://localhost:8080/",
          "height": 83,
          "referenced_widgets": [
            "73c7eedb42144a949ea89809988f82bc",
            "e8c9190654f74978a00a66bdf3a314c5",
            "e247b37aac9a4cf6bcbc5d82e7d60602",
            "374027e12be04939abdff9a5e5ac27f0",
            "a5e7ce6305ef4ae4914ebd2b30ff6060",
            "6ed62e5e5aaa4dcda6e984ab457d6c76",
            "7745d94dcc06437e984495fb18a016a2",
            "6da9a06ae2314e8eb28d167fd9c83e07"
          ]
        },
        "id": "fG3H36BZl2VG",
        "outputId": "2d81b81e-91e9-494a-9b04-e9bd973642d9"
      },
      "source": [
        "model = get_FRCNN_model(len(classes)+1) #+1 because of background being class 0"
      ],
      "execution_count": 30,
      "outputs": [
        {
          "output_type": "stream",
          "text": [
            "Downloading: \"https://download.pytorch.org/models/fasterrcnn_resnet50_fpn_coco-258fb6c6.pth\" to /root/.cache/torch/hub/checkpoints/fasterrcnn_resnet50_fpn_coco-258fb6c6.pth\n"
          ],
          "name": "stderr"
        },
        {
          "output_type": "display_data",
          "data": {
            "application/vnd.jupyter.widget-view+json": {
              "model_id": "73c7eedb42144a949ea89809988f82bc",
              "version_minor": 0,
              "version_major": 2
            },
            "text/plain": [
              "HBox(children=(FloatProgress(value=0.0, max=167502836.0), HTML(value='')))"
            ]
          },
          "metadata": {
            "tags": []
          }
        },
        {
          "output_type": "stream",
          "text": [
            "\n"
          ],
          "name": "stdout"
        }
      ]
    },
    {
      "cell_type": "code",
      "metadata": {
        "id": "9KoR0wzfpe42"
      },
      "source": [
        "device = torch.device('cuda:0')\n",
        "model.to(device)"
      ],
      "execution_count": null,
      "outputs": []
    },
    {
      "cell_type": "code",
      "metadata": {
        "id": "x4WxCAkomid4"
      },
      "source": [
        "n_all = len(dataset_full)\n",
        "n_used = int(1 * n_all)\n",
        "n_train = int(0.8 * n_used)\n",
        "n_test = n_used - n_train\n",
        "rng = torch.Generator().manual_seed(291)\n"
      ],
      "execution_count": 59,
      "outputs": []
    },
    {
      "cell_type": "code",
      "metadata": {
        "id": "4JBo8pY_oS3p"
      },
      "source": [
        "#Note, dataset 1 is much larger than 2 so the split is likely very imbalanced. Look into later.\n",
        "dataset_train, dataset_test, _ = torch.utils.data.random_split(dataset_full, [n_train, n_test, n_all-n_train-n_test], rng)"
      ],
      "execution_count": 60,
      "outputs": []
    },
    {
      "cell_type": "code",
      "metadata": {
        "id": "sP1ns6gyo9vn"
      },
      "source": [
        "loader_train = torch.utils.data.DataLoader(dataset_train, batch_size=32, shuffle=True)\n",
        "loader_test = torch.utils.data.DataLoader(dataset_test, batch_size=32, shuffle=False)"
      ],
      "execution_count": 61,
      "outputs": []
    },
    {
      "cell_type": "code",
      "metadata": {
        "id": "vQFGwMupsIPR"
      },
      "source": [
        "params = [p for p in model.parameters() if p.requires_grad]\n",
        "optimizer = torch.optim.SGD(params, lr=0.005, momentum=0.9, weight_decay=0.0005)\n",
        "scheduler = torch.optim.lr_scheduler.StepLR(optimizer, step_size=3, gamma=0.1)"
      ],
      "execution_count": 62,
      "outputs": []
    },
    {
      "cell_type": "markdown",
      "metadata": {
        "id": "7toMteRwrjNi"
      },
      "source": [
        "Get some Pytorch reference code to make things easier."
      ]
    },
    {
      "cell_type": "code",
      "metadata": {
        "colab": {
          "base_uri": "https://localhost:8080/"
        },
        "id": "HEjrQZNeqv0H",
        "outputId": "7148f876-5f3c-4594-ff3c-573e4eff4b1f"
      },
      "source": [
        "%%shell\n",
        "\n",
        "git clone https://github.com/pytorch/vision.git\n",
        "cd vision\n",
        "git checkout v0.3.0\n",
        "\n",
        "cp references/detection/utils.py ../\n",
        "cp references/detection/transforms.py ../\n",
        "cp references/detection/coco_eval.py ../\n",
        "cp references/detection/engine.py ../\n",
        "cp references/detection/coco_utils.py ../"
      ],
      "execution_count": 36,
      "outputs": [
        {
          "output_type": "stream",
          "text": [
            "Cloning into 'vision'...\n",
            "remote: Enumerating objects: 2314, done.\u001b[K\n",
            "remote: Counting objects: 100% (2314/2314), done.\u001b[K\n",
            "remote: Compressing objects: 100% (507/507), done.\u001b[K\n",
            "remote: Total 20926 (delta 1801), reused 2213 (delta 1749), pack-reused 18612\u001b[K\n",
            "Receiving objects: 100% (20926/20926), 21.71 MiB | 23.01 MiB/s, done.\n",
            "Resolving deltas: 100% (15352/15352), done.\n",
            "Note: checking out 'v0.3.0'.\n",
            "\n",
            "You are in 'detached HEAD' state. You can look around, make experimental\n",
            "changes and commit them, and you can discard any commits you make in this\n",
            "state without impacting any branches by performing another checkout.\n",
            "\n",
            "If you want to create a new branch to retain commits you create, you may\n",
            "do so (now or later) by using -b with the checkout command again. Example:\n",
            "\n",
            "  git checkout -b <new-branch-name>\n",
            "\n",
            "HEAD is now at be376084 version check against PyTorch's CUDA version\n"
          ],
          "name": "stdout"
        },
        {
          "output_type": "execute_result",
          "data": {
            "text/plain": [
              ""
            ]
          },
          "metadata": {
            "tags": []
          },
          "execution_count": 36
        }
      ]
    },
    {
      "cell_type": "code",
      "metadata": {
        "id": "VwuQRGXzrv6V"
      },
      "source": [
        "from engine import train_one_epoch, evaluate"
      ],
      "execution_count": 51,
      "outputs": []
    },
    {
      "cell_type": "markdown",
      "metadata": {
        "id": "xEaatE8Rs4y4"
      },
      "source": [
        "Finally, training."
      ]
    },
    {
      "cell_type": "code",
      "metadata": {
        "colab": {
          "base_uri": "https://localhost:8080/",
          "height": 375
        },
        "id": "OAZy8aYKs_Hi",
        "outputId": "1f16f3f7-c638-44c7-c7a6-055cdb2e4c64"
      },
      "source": [
        "num_epochs = 10\n",
        "\n",
        "for epoch in range(num_epochs):\n",
        "  train_one_epoch(model, optimizer, loader_train, device, epoch, print_freq=10)\n",
        "  scheduler.step()\n",
        "  evaluate(model, loader_train, device=device)"
      ],
      "execution_count": 63,
      "outputs": [
        {
          "output_type": "error",
          "ename": "RuntimeError",
          "evalue": "ignored",
          "traceback": [
            "\u001b[0;31m---------------------------------------------------------------------------\u001b[0m",
            "\u001b[0;31mRuntimeError\u001b[0m                              Traceback (most recent call last)",
            "\u001b[0;32m<ipython-input-63-f9d121fb922b>\u001b[0m in \u001b[0;36m<module>\u001b[0;34m()\u001b[0m\n\u001b[1;32m      2\u001b[0m \u001b[0;34m\u001b[0m\u001b[0m\n\u001b[1;32m      3\u001b[0m \u001b[0;32mfor\u001b[0m \u001b[0mepoch\u001b[0m \u001b[0;32min\u001b[0m \u001b[0mrange\u001b[0m\u001b[0;34m(\u001b[0m\u001b[0mnum_epochs\u001b[0m\u001b[0;34m)\u001b[0m\u001b[0;34m:\u001b[0m\u001b[0;34m\u001b[0m\u001b[0;34m\u001b[0m\u001b[0m\n\u001b[0;32m----> 4\u001b[0;31m   \u001b[0mtrain_one_epoch\u001b[0m\u001b[0;34m(\u001b[0m\u001b[0mmodel\u001b[0m\u001b[0;34m,\u001b[0m \u001b[0moptimizer\u001b[0m\u001b[0;34m,\u001b[0m \u001b[0mloader_train\u001b[0m\u001b[0;34m,\u001b[0m \u001b[0mdevice\u001b[0m\u001b[0;34m,\u001b[0m \u001b[0mepoch\u001b[0m\u001b[0;34m,\u001b[0m \u001b[0mprint_freq\u001b[0m\u001b[0;34m=\u001b[0m\u001b[0;36m10\u001b[0m\u001b[0;34m)\u001b[0m\u001b[0;34m\u001b[0m\u001b[0;34m\u001b[0m\u001b[0m\n\u001b[0m\u001b[1;32m      5\u001b[0m   \u001b[0mscheduler\u001b[0m\u001b[0;34m.\u001b[0m\u001b[0mstep\u001b[0m\u001b[0;34m(\u001b[0m\u001b[0;34m)\u001b[0m\u001b[0;34m\u001b[0m\u001b[0;34m\u001b[0m\u001b[0m\n\u001b[1;32m      6\u001b[0m   \u001b[0mevaluate\u001b[0m\u001b[0;34m(\u001b[0m\u001b[0mmodel\u001b[0m\u001b[0;34m,\u001b[0m \u001b[0mloader_train\u001b[0m\u001b[0;34m,\u001b[0m \u001b[0mdevice\u001b[0m\u001b[0;34m=\u001b[0m\u001b[0mdevice\u001b[0m\u001b[0;34m)\u001b[0m\u001b[0;34m\u001b[0m\u001b[0;34m\u001b[0m\u001b[0m\n",
            "\u001b[0;32m/content/engine.py\u001b[0m in \u001b[0;36mtrain_one_epoch\u001b[0;34m(model, optimizer, data_loader, device, epoch, print_freq)\u001b[0m\n\u001b[1;32m     24\u001b[0m         \u001b[0mlr_scheduler\u001b[0m \u001b[0;34m=\u001b[0m \u001b[0mutils\u001b[0m\u001b[0;34m.\u001b[0m\u001b[0mwarmup_lr_scheduler\u001b[0m\u001b[0;34m(\u001b[0m\u001b[0moptimizer\u001b[0m\u001b[0;34m,\u001b[0m \u001b[0mwarmup_iters\u001b[0m\u001b[0;34m,\u001b[0m \u001b[0mwarmup_factor\u001b[0m\u001b[0;34m)\u001b[0m\u001b[0;34m\u001b[0m\u001b[0;34m\u001b[0m\u001b[0m\n\u001b[1;32m     25\u001b[0m \u001b[0;34m\u001b[0m\u001b[0m\n\u001b[0;32m---> 26\u001b[0;31m     \u001b[0;32mfor\u001b[0m \u001b[0mimages\u001b[0m\u001b[0;34m,\u001b[0m \u001b[0mtargets\u001b[0m \u001b[0;32min\u001b[0m \u001b[0mmetric_logger\u001b[0m\u001b[0;34m.\u001b[0m\u001b[0mlog_every\u001b[0m\u001b[0;34m(\u001b[0m\u001b[0mdata_loader\u001b[0m\u001b[0;34m,\u001b[0m \u001b[0mprint_freq\u001b[0m\u001b[0;34m,\u001b[0m \u001b[0mheader\u001b[0m\u001b[0;34m)\u001b[0m\u001b[0;34m:\u001b[0m\u001b[0;34m\u001b[0m\u001b[0;34m\u001b[0m\u001b[0m\n\u001b[0m\u001b[1;32m     27\u001b[0m         \u001b[0mimages\u001b[0m \u001b[0;34m=\u001b[0m \u001b[0mlist\u001b[0m\u001b[0;34m(\u001b[0m\u001b[0mimage\u001b[0m\u001b[0;34m.\u001b[0m\u001b[0mto\u001b[0m\u001b[0;34m(\u001b[0m\u001b[0mdevice\u001b[0m\u001b[0;34m)\u001b[0m \u001b[0;32mfor\u001b[0m \u001b[0mimage\u001b[0m \u001b[0;32min\u001b[0m \u001b[0mimages\u001b[0m\u001b[0;34m)\u001b[0m\u001b[0;34m\u001b[0m\u001b[0;34m\u001b[0m\u001b[0m\n\u001b[1;32m     28\u001b[0m         \u001b[0mtargets\u001b[0m \u001b[0;34m=\u001b[0m \u001b[0;34m[\u001b[0m\u001b[0;34m{\u001b[0m\u001b[0mk\u001b[0m\u001b[0;34m:\u001b[0m \u001b[0mv\u001b[0m\u001b[0;34m.\u001b[0m\u001b[0mto\u001b[0m\u001b[0;34m(\u001b[0m\u001b[0mdevice\u001b[0m\u001b[0;34m)\u001b[0m \u001b[0;32mfor\u001b[0m \u001b[0mk\u001b[0m\u001b[0;34m,\u001b[0m \u001b[0mv\u001b[0m \u001b[0;32min\u001b[0m \u001b[0mt\u001b[0m\u001b[0;34m.\u001b[0m\u001b[0mitems\u001b[0m\u001b[0;34m(\u001b[0m\u001b[0;34m)\u001b[0m\u001b[0;34m}\u001b[0m \u001b[0;32mfor\u001b[0m \u001b[0mt\u001b[0m \u001b[0;32min\u001b[0m \u001b[0mtargets\u001b[0m\u001b[0;34m]\u001b[0m\u001b[0;34m\u001b[0m\u001b[0;34m\u001b[0m\u001b[0m\n",
            "\u001b[0;32m/content/utils.py\u001b[0m in \u001b[0;36mlog_every\u001b[0;34m(self, iterable, print_freq, header)\u001b[0m\n\u001b[1;32m    199\u001b[0m         ])\n\u001b[1;32m    200\u001b[0m         \u001b[0mMB\u001b[0m \u001b[0;34m=\u001b[0m \u001b[0;36m1024.0\u001b[0m \u001b[0;34m*\u001b[0m \u001b[0;36m1024.0\u001b[0m\u001b[0;34m\u001b[0m\u001b[0;34m\u001b[0m\u001b[0m\n\u001b[0;32m--> 201\u001b[0;31m         \u001b[0;32mfor\u001b[0m \u001b[0mobj\u001b[0m \u001b[0;32min\u001b[0m \u001b[0miterable\u001b[0m\u001b[0;34m:\u001b[0m\u001b[0;34m\u001b[0m\u001b[0;34m\u001b[0m\u001b[0m\n\u001b[0m\u001b[1;32m    202\u001b[0m             \u001b[0mdata_time\u001b[0m\u001b[0;34m.\u001b[0m\u001b[0mupdate\u001b[0m\u001b[0;34m(\u001b[0m\u001b[0mtime\u001b[0m\u001b[0;34m.\u001b[0m\u001b[0mtime\u001b[0m\u001b[0;34m(\u001b[0m\u001b[0;34m)\u001b[0m \u001b[0;34m-\u001b[0m \u001b[0mend\u001b[0m\u001b[0;34m)\u001b[0m\u001b[0;34m\u001b[0m\u001b[0;34m\u001b[0m\u001b[0m\n\u001b[1;32m    203\u001b[0m             \u001b[0;32myield\u001b[0m \u001b[0mobj\u001b[0m\u001b[0;34m\u001b[0m\u001b[0;34m\u001b[0m\u001b[0m\n",
            "\u001b[0;32m/usr/local/lib/python3.7/dist-packages/torch/utils/data/dataloader.py\u001b[0m in \u001b[0;36m__next__\u001b[0;34m(self)\u001b[0m\n\u001b[1;32m    515\u001b[0m             \u001b[0;32mif\u001b[0m \u001b[0mself\u001b[0m\u001b[0;34m.\u001b[0m\u001b[0m_sampler_iter\u001b[0m \u001b[0;32mis\u001b[0m \u001b[0;32mNone\u001b[0m\u001b[0;34m:\u001b[0m\u001b[0;34m\u001b[0m\u001b[0;34m\u001b[0m\u001b[0m\n\u001b[1;32m    516\u001b[0m                 \u001b[0mself\u001b[0m\u001b[0;34m.\u001b[0m\u001b[0m_reset\u001b[0m\u001b[0;34m(\u001b[0m\u001b[0;34m)\u001b[0m\u001b[0;34m\u001b[0m\u001b[0;34m\u001b[0m\u001b[0m\n\u001b[0;32m--> 517\u001b[0;31m             \u001b[0mdata\u001b[0m \u001b[0;34m=\u001b[0m \u001b[0mself\u001b[0m\u001b[0;34m.\u001b[0m\u001b[0m_next_data\u001b[0m\u001b[0;34m(\u001b[0m\u001b[0;34m)\u001b[0m\u001b[0;34m\u001b[0m\u001b[0;34m\u001b[0m\u001b[0m\n\u001b[0m\u001b[1;32m    518\u001b[0m             \u001b[0mself\u001b[0m\u001b[0;34m.\u001b[0m\u001b[0m_num_yielded\u001b[0m \u001b[0;34m+=\u001b[0m \u001b[0;36m1\u001b[0m\u001b[0;34m\u001b[0m\u001b[0;34m\u001b[0m\u001b[0m\n\u001b[1;32m    519\u001b[0m             \u001b[0;32mif\u001b[0m \u001b[0mself\u001b[0m\u001b[0;34m.\u001b[0m\u001b[0m_dataset_kind\u001b[0m \u001b[0;34m==\u001b[0m \u001b[0m_DatasetKind\u001b[0m\u001b[0;34m.\u001b[0m\u001b[0mIterable\u001b[0m \u001b[0;32mand\u001b[0m\u001b[0;31m \u001b[0m\u001b[0;31m\\\u001b[0m\u001b[0;34m\u001b[0m\u001b[0;34m\u001b[0m\u001b[0m\n",
            "\u001b[0;32m/usr/local/lib/python3.7/dist-packages/torch/utils/data/dataloader.py\u001b[0m in \u001b[0;36m_next_data\u001b[0;34m(self)\u001b[0m\n\u001b[1;32m    555\u001b[0m     \u001b[0;32mdef\u001b[0m \u001b[0m_next_data\u001b[0m\u001b[0;34m(\u001b[0m\u001b[0mself\u001b[0m\u001b[0;34m)\u001b[0m\u001b[0;34m:\u001b[0m\u001b[0;34m\u001b[0m\u001b[0;34m\u001b[0m\u001b[0m\n\u001b[1;32m    556\u001b[0m         \u001b[0mindex\u001b[0m \u001b[0;34m=\u001b[0m \u001b[0mself\u001b[0m\u001b[0;34m.\u001b[0m\u001b[0m_next_index\u001b[0m\u001b[0;34m(\u001b[0m\u001b[0;34m)\u001b[0m  \u001b[0;31m# may raise StopIteration\u001b[0m\u001b[0;34m\u001b[0m\u001b[0;34m\u001b[0m\u001b[0m\n\u001b[0;32m--> 557\u001b[0;31m         \u001b[0mdata\u001b[0m \u001b[0;34m=\u001b[0m \u001b[0mself\u001b[0m\u001b[0;34m.\u001b[0m\u001b[0m_dataset_fetcher\u001b[0m\u001b[0;34m.\u001b[0m\u001b[0mfetch\u001b[0m\u001b[0;34m(\u001b[0m\u001b[0mindex\u001b[0m\u001b[0;34m)\u001b[0m  \u001b[0;31m# may raise StopIteration\u001b[0m\u001b[0;34m\u001b[0m\u001b[0;34m\u001b[0m\u001b[0m\n\u001b[0m\u001b[1;32m    558\u001b[0m         \u001b[0;32mif\u001b[0m \u001b[0mself\u001b[0m\u001b[0;34m.\u001b[0m\u001b[0m_pin_memory\u001b[0m\u001b[0;34m:\u001b[0m\u001b[0;34m\u001b[0m\u001b[0;34m\u001b[0m\u001b[0m\n\u001b[1;32m    559\u001b[0m             \u001b[0mdata\u001b[0m \u001b[0;34m=\u001b[0m \u001b[0m_utils\u001b[0m\u001b[0;34m.\u001b[0m\u001b[0mpin_memory\u001b[0m\u001b[0;34m.\u001b[0m\u001b[0mpin_memory\u001b[0m\u001b[0;34m(\u001b[0m\u001b[0mdata\u001b[0m\u001b[0;34m)\u001b[0m\u001b[0;34m\u001b[0m\u001b[0;34m\u001b[0m\u001b[0m\n",
            "\u001b[0;32m/usr/local/lib/python3.7/dist-packages/torch/utils/data/_utils/fetch.py\u001b[0m in \u001b[0;36mfetch\u001b[0;34m(self, possibly_batched_index)\u001b[0m\n\u001b[1;32m     45\u001b[0m         \u001b[0;32melse\u001b[0m\u001b[0;34m:\u001b[0m\u001b[0;34m\u001b[0m\u001b[0;34m\u001b[0m\u001b[0m\n\u001b[1;32m     46\u001b[0m             \u001b[0mdata\u001b[0m \u001b[0;34m=\u001b[0m \u001b[0mself\u001b[0m\u001b[0;34m.\u001b[0m\u001b[0mdataset\u001b[0m\u001b[0;34m[\u001b[0m\u001b[0mpossibly_batched_index\u001b[0m\u001b[0;34m]\u001b[0m\u001b[0;34m\u001b[0m\u001b[0;34m\u001b[0m\u001b[0m\n\u001b[0;32m---> 47\u001b[0;31m         \u001b[0;32mreturn\u001b[0m \u001b[0mself\u001b[0m\u001b[0;34m.\u001b[0m\u001b[0mcollate_fn\u001b[0m\u001b[0;34m(\u001b[0m\u001b[0mdata\u001b[0m\u001b[0;34m)\u001b[0m\u001b[0;34m\u001b[0m\u001b[0;34m\u001b[0m\u001b[0m\n\u001b[0m",
            "\u001b[0;32m/usr/local/lib/python3.7/dist-packages/torch/utils/data/_utils/collate.py\u001b[0m in \u001b[0;36mdefault_collate\u001b[0;34m(batch)\u001b[0m\n\u001b[1;32m     81\u001b[0m             \u001b[0;32mraise\u001b[0m \u001b[0mRuntimeError\u001b[0m\u001b[0;34m(\u001b[0m\u001b[0;34m'each element in list of batch should be of equal size'\u001b[0m\u001b[0;34m)\u001b[0m\u001b[0;34m\u001b[0m\u001b[0;34m\u001b[0m\u001b[0m\n\u001b[1;32m     82\u001b[0m         \u001b[0mtransposed\u001b[0m \u001b[0;34m=\u001b[0m \u001b[0mzip\u001b[0m\u001b[0;34m(\u001b[0m\u001b[0;34m*\u001b[0m\u001b[0mbatch\u001b[0m\u001b[0;34m)\u001b[0m\u001b[0;34m\u001b[0m\u001b[0;34m\u001b[0m\u001b[0m\n\u001b[0;32m---> 83\u001b[0;31m         \u001b[0;32mreturn\u001b[0m \u001b[0;34m[\u001b[0m\u001b[0mdefault_collate\u001b[0m\u001b[0;34m(\u001b[0m\u001b[0msamples\u001b[0m\u001b[0;34m)\u001b[0m \u001b[0;32mfor\u001b[0m \u001b[0msamples\u001b[0m \u001b[0;32min\u001b[0m \u001b[0mtransposed\u001b[0m\u001b[0;34m]\u001b[0m\u001b[0;34m\u001b[0m\u001b[0;34m\u001b[0m\u001b[0m\n\u001b[0m\u001b[1;32m     84\u001b[0m \u001b[0;34m\u001b[0m\u001b[0m\n\u001b[1;32m     85\u001b[0m     \u001b[0;32mraise\u001b[0m \u001b[0mTypeError\u001b[0m\u001b[0;34m(\u001b[0m\u001b[0mdefault_collate_err_msg_format\u001b[0m\u001b[0;34m.\u001b[0m\u001b[0mformat\u001b[0m\u001b[0;34m(\u001b[0m\u001b[0melem_type\u001b[0m\u001b[0;34m)\u001b[0m\u001b[0;34m)\u001b[0m\u001b[0;34m\u001b[0m\u001b[0;34m\u001b[0m\u001b[0m\n",
            "\u001b[0;32m/usr/local/lib/python3.7/dist-packages/torch/utils/data/_utils/collate.py\u001b[0m in \u001b[0;36m<listcomp>\u001b[0;34m(.0)\u001b[0m\n\u001b[1;32m     81\u001b[0m             \u001b[0;32mraise\u001b[0m \u001b[0mRuntimeError\u001b[0m\u001b[0;34m(\u001b[0m\u001b[0;34m'each element in list of batch should be of equal size'\u001b[0m\u001b[0;34m)\u001b[0m\u001b[0;34m\u001b[0m\u001b[0;34m\u001b[0m\u001b[0m\n\u001b[1;32m     82\u001b[0m         \u001b[0mtransposed\u001b[0m \u001b[0;34m=\u001b[0m \u001b[0mzip\u001b[0m\u001b[0;34m(\u001b[0m\u001b[0;34m*\u001b[0m\u001b[0mbatch\u001b[0m\u001b[0;34m)\u001b[0m\u001b[0;34m\u001b[0m\u001b[0;34m\u001b[0m\u001b[0m\n\u001b[0;32m---> 83\u001b[0;31m         \u001b[0;32mreturn\u001b[0m \u001b[0;34m[\u001b[0m\u001b[0mdefault_collate\u001b[0m\u001b[0;34m(\u001b[0m\u001b[0msamples\u001b[0m\u001b[0;34m)\u001b[0m \u001b[0;32mfor\u001b[0m \u001b[0msamples\u001b[0m \u001b[0;32min\u001b[0m \u001b[0mtransposed\u001b[0m\u001b[0;34m]\u001b[0m\u001b[0;34m\u001b[0m\u001b[0;34m\u001b[0m\u001b[0m\n\u001b[0m\u001b[1;32m     84\u001b[0m \u001b[0;34m\u001b[0m\u001b[0m\n\u001b[1;32m     85\u001b[0m     \u001b[0;32mraise\u001b[0m \u001b[0mTypeError\u001b[0m\u001b[0;34m(\u001b[0m\u001b[0mdefault_collate_err_msg_format\u001b[0m\u001b[0;34m.\u001b[0m\u001b[0mformat\u001b[0m\u001b[0;34m(\u001b[0m\u001b[0melem_type\u001b[0m\u001b[0;34m)\u001b[0m\u001b[0;34m)\u001b[0m\u001b[0;34m\u001b[0m\u001b[0;34m\u001b[0m\u001b[0m\n",
            "\u001b[0;32m/usr/local/lib/python3.7/dist-packages/torch/utils/data/_utils/collate.py\u001b[0m in \u001b[0;36mdefault_collate\u001b[0;34m(batch)\u001b[0m\n\u001b[1;32m     53\u001b[0m             \u001b[0mstorage\u001b[0m \u001b[0;34m=\u001b[0m \u001b[0melem\u001b[0m\u001b[0;34m.\u001b[0m\u001b[0mstorage\u001b[0m\u001b[0;34m(\u001b[0m\u001b[0;34m)\u001b[0m\u001b[0;34m.\u001b[0m\u001b[0m_new_shared\u001b[0m\u001b[0;34m(\u001b[0m\u001b[0mnumel\u001b[0m\u001b[0;34m)\u001b[0m\u001b[0;34m\u001b[0m\u001b[0;34m\u001b[0m\u001b[0m\n\u001b[1;32m     54\u001b[0m             \u001b[0mout\u001b[0m \u001b[0;34m=\u001b[0m \u001b[0melem\u001b[0m\u001b[0;34m.\u001b[0m\u001b[0mnew\u001b[0m\u001b[0;34m(\u001b[0m\u001b[0mstorage\u001b[0m\u001b[0;34m)\u001b[0m\u001b[0;34m\u001b[0m\u001b[0;34m\u001b[0m\u001b[0m\n\u001b[0;32m---> 55\u001b[0;31m         \u001b[0;32mreturn\u001b[0m \u001b[0mtorch\u001b[0m\u001b[0;34m.\u001b[0m\u001b[0mstack\u001b[0m\u001b[0;34m(\u001b[0m\u001b[0mbatch\u001b[0m\u001b[0;34m,\u001b[0m \u001b[0;36m0\u001b[0m\u001b[0;34m,\u001b[0m \u001b[0mout\u001b[0m\u001b[0;34m=\u001b[0m\u001b[0mout\u001b[0m\u001b[0;34m)\u001b[0m\u001b[0;34m\u001b[0m\u001b[0;34m\u001b[0m\u001b[0m\n\u001b[0m\u001b[1;32m     56\u001b[0m     \u001b[0;32melif\u001b[0m \u001b[0melem_type\u001b[0m\u001b[0;34m.\u001b[0m\u001b[0m__module__\u001b[0m \u001b[0;34m==\u001b[0m \u001b[0;34m'numpy'\u001b[0m \u001b[0;32mand\u001b[0m \u001b[0melem_type\u001b[0m\u001b[0;34m.\u001b[0m\u001b[0m__name__\u001b[0m \u001b[0;34m!=\u001b[0m \u001b[0;34m'str_'\u001b[0m\u001b[0;31m \u001b[0m\u001b[0;31m\\\u001b[0m\u001b[0;34m\u001b[0m\u001b[0;34m\u001b[0m\u001b[0m\n\u001b[1;32m     57\u001b[0m             \u001b[0;32mand\u001b[0m \u001b[0melem_type\u001b[0m\u001b[0;34m.\u001b[0m\u001b[0m__name__\u001b[0m \u001b[0;34m!=\u001b[0m \u001b[0;34m'string_'\u001b[0m\u001b[0;34m:\u001b[0m\u001b[0;34m\u001b[0m\u001b[0;34m\u001b[0m\u001b[0m\n",
            "\u001b[0;31mRuntimeError\u001b[0m: stack expects each tensor to be equal size, but got [3, 1080, 1920] at entry 0 and [3, 720, 1280] at entry 1"
          ]
        }
      ]
    },
    {
      "cell_type": "code",
      "metadata": {
        "id": "NZpUTw52zEZ0"
      },
      "source": [
        ""
      ],
      "execution_count": null,
      "outputs": []
    }
  ]
}